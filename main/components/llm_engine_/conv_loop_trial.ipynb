{
 "cells": [
  {
   "cell_type": "markdown",
   "id": "bcc3185f",
   "metadata": {},
   "source": [
    "Dummy converation loop using whisper model (res and speech recognition )"
   ]
  },
  {
   "cell_type": "markdown",
   "id": "5fdd122d",
   "metadata": {},
   "source": [
    "speech recog -> transcribe -> dummy responce -> listining (speech recog )"
   ]
  },
  {
   "cell_type": "code",
   "execution_count": 1,
   "id": "5e4bfb8a",
   "metadata": {},
   "outputs": [
    {
     "data": {
      "text/plain": [
       "'C:\\\\Kiosks_'"
      ]
     },
     "execution_count": 1,
     "metadata": {},
     "output_type": "execute_result"
    }
   ],
   "source": [
    "import os \n",
    "os.chdir('C:/Kiosks_')\n",
    "os.getcwd()\n"
   ]
  },
  {
   "cell_type": "code",
   "execution_count": 3,
   "id": "63e83918",
   "metadata": {},
   "outputs": [],
   "source": [
    "dummy_res = [\n",
    "    'Hello! How can I assist you today?',\n",
    "'Hi there! What can I do for you?',\n",
    "\"Hey! How's it going?\",\n",
    "'Hello! What brings you here today?',\n",
    "'Hi! Need any help or just want to chat?',\n",
    "\"Hey! What's on your mind?\",\n",
    "'Hello! How can I make your day better?',\n",
    "'Hi! How can I be of service?',\n",
    "'Hey there! What can I help you with?',\n",
    "'Hello! Ready to get started?'\n",
    "]\n",
    "\n"
   ]
  },
  {
   "cell_type": "code",
   "execution_count": 4,
   "id": "33f23ff1",
   "metadata": {},
   "outputs": [
    {
     "name": "stderr",
     "output_type": "stream",
     "text": [
      "c:\\kiosks_\\myenv\\Lib\\site-packages\\tqdm\\auto.py:21: TqdmWarning: IProgress not found. Please update jupyter and ipywidgets. See https://ipywidgets.readthedocs.io/en/stable/user_install.html\n",
      "  from .autonotebook import tqdm as notebook_tqdm\n"
     ]
    },
    {
     "name": "stdout",
     "output_type": "stream",
     "text": [
      "created directory at: models/speech_recog_model\n",
      "model succefully downloaded <faster_whisper.transcribe.WhisperModel object at 0x00000295C44C45F0>\n"
     ]
    }
   ],
   "source": [
    "import pyttsx3, random\n",
    "from main.components.speech_recognition.config.speech_recog_config import  speech_recog_config\n",
    "from main.components.speech_recognition.speech_recog import  speech_recog_compo\n",
    "\n",
    "objs  = speech_recog_config()\n",
    "config_params = objs.speech_recog_module()\n",
    "\n",
    "f = speech_recog_compo(config_params, config_params)\n",
    "f.download_model()\n",
    "class start_conv:\n",
    "    def __init__(self):\n",
    "        pass\n",
    "    \n",
    "    def speak(self, dummy_res):\n",
    "        text = random.choice(dummy_res)\n",
    "        engine = pyttsx3.init()\n",
    "        engine.say(text)\n",
    "        engine.runAndWait()\n",
    "        return text\n",
    "\n",
    "    def listen(self):\n",
    "        user_in = f.record_and_transcribe_audio()\n",
    "        print('user_in',user_in)\n",
    "        # if user_in == '':\n",
    "        #     print(\"🤖 Assistant: I didn't catch that. Could you please repeat?\")\n",
    "        #     self.speak(\"I didn't catch that. Could you please repeat?\")\n",
    "        #     user_in = f.record_and_transcribe_audio()\n",
    "        # else:\n",
    "        #     print(f\"🧑 You said: {user_in}\")\n",
    "        if user_in == None:\n",
    "            return ''\n",
    "        else:\n",
    "            return user_in\n",
    "        \n",
    "    def dummy_conv(self):\n",
    "        print(\"🤖 Assistant: Hello! I'm here. Say 'bye' to end the conversation.\")\n",
    "        self.speak(\"Hello! I'm here. Say 'bye' to end the conversation.\")\n",
    "\n",
    "        while True:\n",
    "            try:\n",
    "                user_input = self.listen()\n",
    "                user_input = user_input.lower()\n",
    "                print(f\"🧑 You said: {user_input}\")\n",
    "\n",
    "                if any(word in user_input for word in [\"bye\", \"exit\", \"quit\"]):\n",
    "                    print(\"🤖 Assistant: Goodbye! Have a great day!\")\n",
    "                    self.speak(\"Goodbye! Have a great day!\")\n",
    "                    break\n",
    "                else:\n",
    "                    response = self.speak(dummy_res)\n",
    "                    print(\"🤖 Assistant:\", response)\n",
    "            except KeyboardInterrupt:\n",
    "                print(\"\\n🛑 Manually stopped.\")\n",
    "                self.speak(\"Goodbye!\")\n",
    "                break\n",
    "\n",
    "\n",
    "\n",
    "\n"
   ]
  },
  {
   "cell_type": "code",
   "execution_count": 5,
   "id": "cb0da406",
   "metadata": {},
   "outputs": [
    {
     "name": "stdout",
     "output_type": "stream",
     "text": [
      "🤖 Assistant: Hello! I'm here. Say 'bye' to end the conversation.\n",
      "🎙️ Listening... Speak now. Recording will stop automatically when you're silent.\n",
      "(Press Ctrl+C to stop manually)\n",
      "\n",
      "🎧 Listening for next phrase...\n",
      "✅ Phrase captured.\n",
      "🎧 Listening for next phrase...\n",
      "✅ Phrase captured.\n",
      "🎧 Listening for next phrase...\n",
      "⏹️ Detected silence. Ending recording.\n",
      "✅ Recording saved to: recording.wav\n",
      "🌐 Detected Language: en\n",
      "📝 Transcription:\n"
     ]
    },
    {
     "name": "stderr",
     "output_type": "stream",
     "text": [
      "100%|██████████| 4.09/4.09 [00:01<00:00,  2.75seconds/s]"
     ]
    },
    {
     "name": "stdout",
     "output_type": "stream",
     "text": [
      "[0.00s -> 4.00s]  Hello, hello.\n",
      "user_in Hello, hello.\n",
      "🧑 You said: hello, hello.\n"
     ]
    },
    {
     "name": "stderr",
     "output_type": "stream",
     "text": [
      "\n"
     ]
    },
    {
     "name": "stdout",
     "output_type": "stream",
     "text": [
      "🤖 Assistant: Hey there! What can I help you with?\n",
      "🎙️ Listening... Speak now. Recording will stop automatically when you're silent.\n",
      "(Press Ctrl+C to stop manually)\n",
      "\n",
      "\n",
      "🛑 Manually stopped.\n"
     ]
    }
   ],
   "source": [
    "obj = start_conv()\n",
    "obj.dummy_conv()"
   ]
  },
  {
   "cell_type": "code",
   "execution_count": 46,
   "id": "cffc0413",
   "metadata": {},
   "outputs": [
    {
     "name": "stdout",
     "output_type": "stream",
     "text": [
      "created directory at: models/speech_recog_model\n",
      "model succefully downloaded <faster_whisper.transcribe.WhisperModel object at 0x000001E72853F7D0>\n",
      "🎙️ Listening... Speak now. Recording will stop automatically when you're silent.\n",
      "(Press Ctrl+C to stop manually)\n",
      "\n",
      "🎧 Listening for next phrase...\n",
      "✅ Phrase captured.\n",
      "🎧 Listening for next phrase...\n",
      "✅ Phrase captured.\n",
      "🎧 Listening for next phrase...\n",
      "⏹️ Detected silence. Ending recording.\n",
      "✅ Recording saved to: recording.wav\n",
      "🌐 Detected Language: en\n",
      "📝 Transcription:\n"
     ]
    },
    {
     "name": "stderr",
     "output_type": "stream",
     "text": [
      "100%|██████████| 5.5/5.5 [00:02<00:00,  2.46seconds/s]"
     ]
    },
    {
     "name": "stdout",
     "output_type": "stream",
     "text": [
      "[0.00s -> 4.00s]  Hello there, who's going, buddy?\n",
      "text None\n",
      "<class 'NoneType'>\n"
     ]
    },
    {
     "name": "stderr",
     "output_type": "stream",
     "text": [
      "\n"
     ]
    }
   ],
   "source": [
    "from main.components.speech_recognition.config.speech_recog_config import  speech_recog_config\n",
    "from main.components.speech_recognition.speech_recog import  speech_recog_compo\n",
    "\n",
    "objs  = speech_recog_config()\n",
    "config_params = objs.speech_recog_module()\n",
    "\n",
    "f = speech_recog_compo(config_params, config_params)\n",
    "f.download_model()\n",
    "text =f.record_and_transcribe_audio()\n",
    "print('text',text)\n",
    "print(type(text))"
   ]
  },
  {
   "cell_type": "code",
   "execution_count": 44,
   "id": "c1f65c59",
   "metadata": {},
   "outputs": [
    {
     "name": "stdout",
     "output_type": "stream",
     "text": [
      "None\n"
     ]
    }
   ],
   "source": [
    "print(text)"
   ]
  },
  {
   "cell_type": "code",
   "execution_count": null,
   "id": "3f77694c",
   "metadata": {},
   "outputs": [],
   "source": []
  }
 ],
 "metadata": {
  "kernelspec": {
   "display_name": "myenv",
   "language": "python",
   "name": "python3"
  },
  "language_info": {
   "codemirror_mode": {
    "name": "ipython",
    "version": 3
   },
   "file_extension": ".py",
   "mimetype": "text/x-python",
   "name": "python",
   "nbconvert_exporter": "python",
   "pygments_lexer": "ipython3",
   "version": "3.12.0"
  }
 },
 "nbformat": 4,
 "nbformat_minor": 5
}
