{
 "cells": [
  {
   "cell_type": "code",
   "execution_count": 2,
   "id": "22262cfe",
   "metadata": {},
   "outputs": [],
   "source": [
    "import os \n",
    "os.getcwd()\n",
    "os.chdir('C://kiosks_')"
   ]
  },
  {
   "cell_type": "code",
   "execution_count": 15,
   "id": "4237d4d8",
   "metadata": {},
   "outputs": [],
   "source": [
    "from dotenv import load_dotenv\n",
    "load_dotenv()\n",
    "from openai import OpenAI\n",
    "import json\n",
    "\n",
    "\n",
    "openai_api_key = os.getenv(\"OPENAI_API_KEY\")\n",
    "client = OpenAI(api_key=openai_api_key)"
   ]
  },
  {
   "cell_type": "code",
   "execution_count": 9,
   "id": "24e79485",
   "metadata": {},
   "outputs": [],
   "source": [
    "with open('main\\\\components\\\\menu_maneger\\\\pdf_dir\\\\reviewed_menu_data.json', 'r') as menu_json_file:\n",
    "    data = json.load(menu_json_file)\n",
    "    data"
   ]
  },
  {
   "cell_type": "code",
   "execution_count": 11,
   "id": "118853c4",
   "metadata": {},
   "outputs": [
    {
     "data": {
      "text/plain": [
       "[{'item_name': 'Dhaniya Paneer Tikka',\n",
       "  'price': '675',\n",
       "  'description': 'Apricot, almond slivers, corn chat, pickled mango dip'},\n",
       " {'item_name': 'Chicken or Paneer Kathi Roll',\n",
       "  'price': '750',\n",
       "  'description': 'Grilled chicken tikka or paneer tikka, green apple relish, mint chutney'},\n",
       " {'item_name': 'Pav Bhaji',\n",
       "  'price': '685',\n",
       "  'description': 'Classic Bombay street food, spicy mashed potatoes & vegetable mixture,'},\n",
       " {'item_name': 'Kheema Ghotala',\n",
       "  'price': '785',\n",
       "  'description': 'Bombay street food classic, spiced minced lamb, egg,'},\n",
       " {'item_name': 'Goan Pomfret Curry',\n",
       "  'price': '1325',\n",
       "  'description': 'Mildly spiced coconut curry flavoured with Garcinia indica rind,'},\n",
       " {'item_name': 'Vegetable Club Sandwich',\n",
       "  'price': '685',\n",
       "  'description': 'Russian salad, tomato, cheese, iceberg lettuce'},\n",
       " {'item_name': 'Vegetarian Panini sandwich',\n",
       "  'price': '685',\n",
       "  'description': 'Herbed mushroom, grilled pimentos, avocado, provolone cheese,'},\n",
       " {'item_name': 'Classic Club Sandwich',\n",
       "  'price': '685',\n",
       "  'description': 'Chicken slices, fried egg, ham, cheese, tomato, iceberg lettuce'}]"
      ]
     },
     "execution_count": 11,
     "metadata": {},
     "output_type": "execute_result"
    }
   ],
   "source": [
    "data"
   ]
  },
  {
   "cell_type": "code",
   "execution_count": 49,
   "id": "3c2161d8",
   "metadata": {},
   "outputs": [],
   "source": [
    "sample_input = 'get me couple of Classic Club Sandwich along with two Kheema Ghotala'"
   ]
  },
  {
   "cell_type": "code",
   "execution_count": 32,
   "id": "598bfcce",
   "metadata": {},
   "outputs": [
    {
     "name": "stdout",
     "output_type": "stream",
     "text": [
      "ChatCompletion(id='chatcmpl-BM9rYrRmP1hyZCLGTGzb9PaoZajbH', choices=[Choice(finish_reason='stop', index=0, logprobs=None, message=ChatCompletionMessage(content='```json\\n[\\n    {\\n        \"item_name\": \"Classic Club Sandwich\",\\n        \"quantity\": 2\\n    },\\n    {\\n        \"item_name\": \"Kheema Ghotala\",\\n        \"quantity\": 2\\n    }\\n]\\n```', refusal=None, role='assistant', annotations=[], audio=None, function_call=None, tool_calls=None))], created=1744620828, model='gpt-4-1106-preview', object='chat.completion', service_tier='default', system_fingerprint=None, usage=CompletionUsage(completion_tokens=52, prompt_tokens=351, total_tokens=403, completion_tokens_details=CompletionTokensDetails(accepted_prediction_tokens=0, audio_tokens=0, reasoning_tokens=0, rejected_prediction_tokens=0), prompt_tokens_details=PromptTokensDetails(audio_tokens=0, cached_tokens=0)))\n"
     ]
    }
   ],
   "source": [
    "response = client.chat.completions.create(\n",
    "    model=\"gpt-4-1106-preview\",\n",
    "    # messages=[\n",
    "    #     {\"role\": \"system\", \"content\": \"You're a restaurant order extractor. Match spoken order to menu items.\"},\n",
    "    #     {\"role\": \"user\", \"content\": f\"Menu items: {data}\\nCustomer said: {sample_input}\\n\\nReturn a JSON list with item_name and quantity.\"}\n",
    "    # ],\n",
    "    messages=[\n",
    "        {\n",
    "            \"role\": \"system\",\n",
    "            \"content\": \"You're a restaurant order extractor. Match spoken order to menu items and return a JSON list of item_name and quantity.\"\n",
    "        },\n",
    "        {\n",
    "            \"role\": \"user\",\n",
    "            \"content\": f\"Menu items: {data}\\nCustomer said: {sample_input}\"\n",
    "        }\n",
    "    ],\n",
    "    temperature=0.2,\n",
    "    # # functions=[\n",
    "    #     {\n",
    "    #         \"name\": \"extract_order\",\n",
    "    #         \"parameters\": {\n",
    "    #             \"type\": \"object\",\n",
    "    #             \"properties\": {\n",
    "    #                 \"order\": {\n",
    "    #                     \"type\": \"array\",\n",
    "    #                     \"items\": {\n",
    "    #                         \"type\": \"object\",\n",
    "    #                         \"properties\": {\n",
    "    #                             \"item_name\": {\"type\": \"string\"},\n",
    "    #                             \"quantity\": {\"type\": \"integer\"}\n",
    "    #                         },\n",
    "    #                         \"required\": [\"item_name\", \"quantity\"]\n",
    "    #                     }\n",
    "    #                 }\n",
    "    #             },\n",
    "    #             \"required\": [\"order\"]\n",
    "    #         }\n",
    "    #     }\n",
    "    # ],\n",
    "    # function_call={\"name\": \"extract_order\"}\n",
    ")\n",
    "\n",
    "print(response)"
   ]
  },
  {
   "cell_type": "code",
   "execution_count": 43,
   "id": "f5162266",
   "metadata": {},
   "outputs": [],
   "source": [
    "function_call = response.choices[0].message.content\n",
    "# function_call = response.choices[0].message.function_call\n",
    "# order_data = json.loads(function_call)\n",
    "# order_data\n",
    "# Remove markdown code block syntax\n",
    "json_str = function_call.split('```json\\n')[1].split('\\n```')[0]\n",
    "order_items = json.loads(json_str)\n"
   ]
  },
  {
   "cell_type": "code",
   "execution_count": 45,
   "id": "6706a22c",
   "metadata": {},
   "outputs": [
    {
     "data": {
      "text/plain": [
       "[{'item_name': 'Classic Club Sandwich', 'quantity': 2},\n",
       " {'item_name': 'Kheema Ghotala', 'quantity': 2}]"
      ]
     },
     "execution_count": 45,
     "metadata": {},
     "output_type": "execute_result"
    }
   ],
   "source": [
    "order_items"
   ]
  },
  {
   "cell_type": "markdown",
   "id": "2fe950ac",
   "metadata": {},
   "source": [
    "## Trying from free api model GROQ or Langchain"
   ]
  },
  {
   "cell_type": "code",
   "execution_count": 46,
   "id": "9a7de0cd",
   "metadata": {},
   "outputs": [],
   "source": [
    "from groq import Groq\n",
    "\n",
    "client = Groq(api_key=os.getenv('GROQ_API_KEY'))\n",
    "\n"
   ]
  },
  {
   "cell_type": "code",
   "execution_count": 66,
   "id": "071b2efa",
   "metadata": {},
   "outputs": [],
   "source": [
    "completion = client.chat.completions.create(\n",
    "    model=\"meta-llama/llama-4-scout-17b-16e-instruct\",\n",
    "    messages=[\n",
    "        {\n",
    "            \"role\": \"system\",\n",
    "            \"content\": \"You're a restaurant order extractor. Match spoken order to menu items with price and return a just JSON list of item_name, price and price quantity. Nothing other than that\"\n",
    "        },\n",
    "        {\n",
    "            \"role\": \"user\",\n",
    "            \"content\": f\"Menu items: {data}\\nCustomer said: {sample_input}\"\n",
    "        }\n",
    "    ],\n",
    "    temperature=1,\n",
    "    max_completion_tokens=1024,\n",
    "    # top_p=1,\n",
    "    # stream=True,\n",
    "    # stop=None,\n",
    ")\n",
    "\n",
    "# for chunk in completion:\n",
    "#     print(chunk.choices[0].delta.content or \"\", end=\"\")\n"
   ]
  },
  {
   "cell_type": "code",
   "execution_count": 67,
   "id": "61e47be8",
   "metadata": {},
   "outputs": [
    {
     "name": "stdout",
     "output_type": "stream",
     "text": [
      "[{'item_name': 'Classic Club Sandwich', 'price': 685, 'quantity': 2}, {'item_name': 'Kheema Ghotala', 'price': 785, 'quantity': 2}]\n"
     ]
    }
   ],
   "source": [
    "output_json = completion.choices[0].message.content\n",
    "order_items = json.loads(output_json)\n",
    "print(order_items)"
   ]
  },
  {
   "cell_type": "code",
   "execution_count": 8,
   "id": "1f6fb1d5",
   "metadata": {},
   "outputs": [
    {
     "name": "stdout",
     "output_type": "stream",
     "text": [
      "empty\n"
     ]
    }
   ],
   "source": [
    "path = 'models\\\\m'\n",
    "import os\n",
    "if not os.listdir(path):\n",
    "    print('empty') \n",
    "else:\n",
    "    print('d')"
   ]
  },
  {
   "cell_type": "code",
   "execution_count": null,
   "id": "12208e99",
   "metadata": {},
   "outputs": [],
   "source": []
  },
  {
   "cell_type": "code",
   "execution_count": null,
   "id": "cefc45f7",
   "metadata": {},
   "outputs": [],
   "source": [
    "def download_model(self):\n",
    "        '''\n",
    "        \n",
    "        \n",
    "        '''\n",
    "        tokenizer = AutoTokenizer.from_pretrained(self.config['base_model_id'], token=token)\n",
    "        \n",
    "        model = AutoModelForCausalLM.from_pretrained(\n",
    "            self.config['base_model_id'],\n",
    "            device_map=\"auto\",            # Automatically uses GPU if available\n",
    "            torch_dtype=\"auto\",           # Adjusts precision\n",
    "            trust_remote_code=True,\n",
    "            token= token\n",
    "        )\n",
    "\n",
    "        # Optional: wrap in a pipeline\n",
    "        llm = pipeline(\"text-generation\", model=model, tokenizer=tokenizer)\n",
    "        \n",
    "        # Prompt (e.g., for restaurant order understanding)\n",
    "                \n",
    "        prompt =[{\n",
    "                    \"role\": \"system\",\n",
    "                    \"content\": \"You're a restaurant order extractor. Match spoken order to menu items with price and return a just JSON list of item_name, price and price quantity. Nothing other than that\"\n",
    "                },\n",
    "                {\n",
    "                    \"role\": \"user\",\n",
    "                    \"content\": f\"Menu items: {data}\\nCustomer said: {sample_input}\"\n",
    "                }]\n",
    "        prompt = json.dumps(prompt)\n",
    "                \n",
    "        response = llm(prompt, max_new_tokens=256, do_sample=False)[0][\"generated_text\"]\n",
    "        print(response)"
   ]
  },
  {
   "cell_type": "markdown",
   "id": "1fed5f92",
   "metadata": {},
   "source": [
    "### Trying with fine tunned model\n"
   ]
  },
  {
   "cell_type": "code",
   "execution_count": 7,
   "id": "fba0b317",
   "metadata": {},
   "outputs": [
    {
     "name": "stderr",
     "output_type": "stream",
     "text": [
      "<>:3: SyntaxWarning: invalid escape sequence '\\Q'\n",
      "<>:4: SyntaxWarning: invalid escape sequence '\\Q'\n",
      "<>:6: SyntaxWarning: invalid escape sequence '\\c'\n",
      "<>:3: SyntaxWarning: invalid escape sequence '\\Q'\n",
      "<>:4: SyntaxWarning: invalid escape sequence '\\Q'\n",
      "<>:6: SyntaxWarning: invalid escape sequence '\\c'\n",
      "C:\\Users\\Admin\\AppData\\Local\\Temp\\ipykernel_16472\\3865072149.py:3: SyntaxWarning: invalid escape sequence '\\Q'\n",
      "  model = AutoModelForCausalLM.from_pretrained('models\\Qwen2.5-0.5B-finetunned-Instruct-merged')\n",
      "C:\\Users\\Admin\\AppData\\Local\\Temp\\ipykernel_16472\\3865072149.py:4: SyntaxWarning: invalid escape sequence '\\Q'\n",
      "  tokenizer = AutoTokenizer.from_pretrained('models\\Qwen2.5-0.5B-finetunned-Instruct-merged')\n",
      "C:\\Users\\Admin\\AppData\\Local\\Temp\\ipykernel_16472\\3865072149.py:6: SyntaxWarning: invalid escape sequence '\\c'\n",
      "  with open('main\\components\\menu_maneger\\extracted_menu_dir\\manual_reviewed_menu_data.json') as data:\n"
     ]
    }
   ],
   "source": [
    "import json\n",
    "from transformers import AutoTokenizer, AutoModelForCausalLM\n",
    "model = AutoModelForCausalLM.from_pretrained('models\\Qwen2.5-0.5B-finetunned-Instruct-merged')\n",
    "tokenizer = AutoTokenizer.from_pretrained('models\\Qwen2.5-0.5B-finetunned-Instruct-merged')\n",
    "\n",
    "with open('main\\components\\menu_maneger\\extracted_menu_dir\\manual_reviewed_menu_data.json') as data:\n",
    "    data = json.load(data)\n",
    "\n"
   ]
  },
  {
   "cell_type": "code",
   "execution_count": 23,
   "id": "7ad8ea63",
   "metadata": {},
   "outputs": [],
   "source": [
    "sample_input = 'hey i want to order Kothu Parotta what is the price of that'\n",
    "prompt = [{\n",
    "                    \"role\": \"system\",\n",
    "                    \"content\": \"You're a restaurant cashier you have manege the order and well interact with customer\"\n",
    "                },\n",
    "                {\n",
    "                    \"role\": \"user\",\n",
    "                    \"content\": f\"Menu items: {data}\\nCustomer said: {sample_input}\"\n",
    "                }]\n"
   ]
  },
  {
   "cell_type": "code",
   "execution_count": 24,
   "id": "b7c20e8a",
   "metadata": {},
   "outputs": [
    {
     "name": "stdout",
     "output_type": "stream",
     "text": [
      "system\n",
      "You're a restaurant cashier you have manege the order and well interact with customer\n",
      "user\n",
      "Menu items: [{'category': 'Parotta', 'items': [{'item_name': 'Parotta Veechu Parotta', 'price': '70', 'description': ''}, {'item_name': 'Open Veechu Parotta', 'price': '25', 'description': ''}, {'item_name': 'Veechu Egg Parotta', 'price': '70', 'description': ''}, {'item_name': 'Piece Parotta', 'price': '180', 'description': ''}, {'item_name': 'Kothu Parotta', 'price': '170', 'description': ''}, {'item_name': 'Mutton Kaima Parotta', 'price': '180', 'description': ''}, {'item_name': 'Chicken Kaima Parotta', 'price': '170', 'description': ''}, {'item_name': 'Mutton Murtabak Parotta', 'price': '25', 'description': ''}, {'item_name': 'Chicken Murtabak Parotta', 'price': '20', 'description': ''}, {'item_name': 'Oll Parotta', 'price': '25', 'description': ''}, {'item_name': 'Without Oil Parotta', 'price': '30', 'description': ''}, {'item_name': 'Panchu Parotta', 'price': '210', 'description': ''}, {'item_name': 'Sweet Parotta', 'price': '170', 'description': ''}, {'item_name': 'Banana Leaf Mutton Parotta', 'price': '40', 'description': ''}, {'item_name': 'Banana Leaf Chicken Parotta', 'price': '300', 'description': ''}, {'item_name': 'Chappathi', 'price': '120', 'description': ''}, {'item_name': 'Chicken Dum Parotta', 'price': '130', 'description': ''}, {'item_name': 'Mushroom Dosa', 'price': '160', 'description': ''}, {'item_name': 'Chicken Dosa', 'price': '120', 'description': ''}, {'item_name': 'Mutton Dosa', 'price': '130', 'description': ''}]}, {'category': 'Idiyappam / Paya', 'items': [{'item_name': 'Idiyappam / Paya', 'price': '80', 'description': ''}, {'item_name': 'Appam / Chicken Gravy', 'price': '110', 'description': ''}]}, {'category': 'Manchurian', 'items': [{'item_name': 'Veg Manchurian', 'price': '80', 'description': ''}, {'item_name': 'Gobi Manchurian', 'price': '90', 'description': ''}, {'item_name': 'Chilli Gobi Manchurian', 'price': '120', 'description': ''}, {'item_name': 'Mushroom Gravy', 'price': '100', 'description': ''}, {'item_name': 'Mushroom Manchurian', 'price': '110', 'description': ''}, {'item_name': 'Crispy Veg', 'price': '140', 'description': ''}, {'item_name': 'Szechwan Chicken', 'price': '140', 'description': ''}, {'item_name': 'Chilli Chicken', 'price': '100', 'description': ''}, {'item_name': 'Ginger Chicken', 'price': '130', 'description': ''}, {'item_name': 'Dragon Chicken', 'price': '110', 'description': ''}, {'item_name': 'Shawarma Roll', 'price': '140', 'description': ''}, {'item_name': 'Shawarma Plate', 'price': '100', 'description': ''}]}, {'category': 'Sued Rice', 'items': [{'item_name': 'Veg Fried Rice', 'price': '80', 'description': ''}, {'item_name': 'Egg Fried Rice', 'price': '90', 'description': ''}, {'item_name': 'Chicken Fried Rice', 'price': '120', 'description': ''}, {'item_name': 'Mushroom Fried Rice', 'price': '120', 'description': ''}, {'item_name': 'Panner Fried Rice', 'price': '120', 'description': ''}, {'item_name': 'Mixed Fried Rice', 'price': '150', 'description': ''}, {'item_name': 'Schezwan Chicken Fried Rice', 'price': '120', 'description': ''}, {'item_name': 'Schezwan Veg Fried Rice', 'price': '140', 'description': ''}, {'item_name': 'Taiwanese Chicken Fried Rice', 'price': '150', 'description': ''}, {'item_name': 'Taiwanese Veg Fried Rice', 'price': '120', 'description': ''}]}, {'category': 'Noodles', 'items': [{'item_name': 'Chicken Noodles', 'price': '80', 'description': ''}, {'item_name': 'Veg Noodles', 'price': '90', 'description': ''}, {'item_name': 'Egg Noodles', 'price': '120', 'description': ''}, {'item_name': 'Mixed Noodles', 'price': '120', 'description': ''}, {'item_name': 'Schezwan Chicken Noodles', 'price': '140', 'description': ''}, {'item_name': 'Schezwan Veg Noodles', 'price': '110', 'description': ''}, {'item_name': 'Taiwanese Chicken Noodles', 'price': '140', 'description': ''}, {'item_name': 'Taiwanese Veg Noodles', 'price': '100', 'description': ''}]}]\n",
      "Customer said: hey i want to order Kothu Parotta what is the price of that\n",
      "assistant\n",
      "The price for the Kothu Parotta is {kothuprice}.\n"
     ]
    }
   ],
   "source": [
    "def prompt_handler(message):\n",
    "    prompt = ''\n",
    "    for msg in message:\n",
    "        role = msg['role']\n",
    "        content =msg['content']\n",
    "        prompt += f'<|im_start|>{role}\\n{content}<|im_end|>\\n'\n",
    "\n",
    "    prompt += '<|im_start|>assistant\\n'\n",
    "    return prompt\n",
    "\n",
    "chat_prompt = prompt_handler(message=prompt)\n",
    "\n",
    "input = tokenizer(chat_prompt, return_tensors='pt')\n",
    "output = model.generate(**input, max_new_tokens=100)\n",
    "print(tokenizer.decode(output[0], skip_special_tokens=True))\n"
   ]
  },
  {
   "cell_type": "markdown",
   "id": "48b88058",
   "metadata": {},
   "source": [
    "## Full Conversaional chat-bot (with memory trials with RAG integration)"
   ]
  },
  {
   "cell_type": "code",
   "execution_count": 3,
   "id": "1fd51539",
   "metadata": {},
   "outputs": [
    {
     "name": "stderr",
     "output_type": "stream",
     "text": [
      "<>:7: SyntaxWarning: invalid escape sequence '\\Q'\n",
      "<>:8: SyntaxWarning: invalid escape sequence '\\Q'\n",
      "<>:7: SyntaxWarning: invalid escape sequence '\\Q'\n",
      "<>:8: SyntaxWarning: invalid escape sequence '\\Q'\n",
      "C:\\Users\\Admin\\AppData\\Local\\Temp\\ipykernel_1500\\3039237491.py:7: SyntaxWarning: invalid escape sequence '\\Q'\n",
      "  model = AutoModelForCausalLM.from_pretrained('models\\Qwen2.5-0.5B-finetunned-Instruct-merged', device_map=\"auto\")\n",
      "C:\\Users\\Admin\\AppData\\Local\\Temp\\ipykernel_1500\\3039237491.py:8: SyntaxWarning: invalid escape sequence '\\Q'\n",
      "  tokenizer = AutoTokenizer.from_pretrained('models\\Qwen2.5-0.5B-finetunned-Instruct-merged')\n",
      "c:\\kiosks_\\myenv\\Lib\\site-packages\\tqdm\\auto.py:21: TqdmWarning: IProgress not found. Please update jupyter and ipywidgets. See https://ipywidgets.readthedocs.io/en/stable/user_install.html\n",
      "  from .autonotebook import tqdm as notebook_tqdm\n",
      "Sliding Window Attention is enabled but not implemented for `sdpa`; unexpected results may be encountered.\n"
     ]
    }
   ],
   "source": [
    "import torch,json, numpy\n",
    "from transformers import AutoTokenizer, AutoModelForCausalLM\n",
    "\n",
    "from sentence_transformers import SentenceTransformer\n",
    "\n",
    "# Load your fine-tuned model and tokenizer\n",
    "model = AutoModelForCausalLM.from_pretrained('models\\Qwen2.5-0.5B-finetunned-Instruct-merged', device_map=\"auto\")\n",
    "tokenizer = AutoTokenizer.from_pretrained('models\\Qwen2.5-0.5B-finetunned-Instruct-merged')\n"
   ]
  },
  {
   "cell_type": "code",
   "execution_count": 5,
   "id": "6d15d12f",
   "metadata": {},
   "outputs": [],
   "source": [
    "# Qwen-style chat formatting\n",
    "def build_qwen_prompt(history):\n",
    "    prompt = \"\"\n",
    "    for msg in history:\n",
    "        role = msg[\"role\"]\n",
    "        content = msg[\"content\"]\n",
    "        prompt += f\"<|im_start|>{role}\\n{content}<|im_end|>\\n\"\n",
    "    prompt += \"<|im_start|>assistant\\n\"  # Leave this open for model to generate response\n",
    "    return prompt\n",
    "\n",
    "# Initialize conversation history\n",
    "chat_history = [\n",
    "    {\n",
    "        \"role\": \"system\",\n",
    "        \"content\": \"You're a helpful restaurant cashier. You should remember past orders and assist the customer politely.\"\n",
    "    }\n",
    "]\n"
   ]
  },
  {
   "cell_type": "code",
   "execution_count": 6,
   "id": "265d6229",
   "metadata": {},
   "outputs": [
    {
     "name": "stderr",
     "output_type": "stream",
     "text": [
      "<>:7: SyntaxWarning: invalid escape sequence '\\c'\n",
      "<>:7: SyntaxWarning: invalid escape sequence '\\c'\n",
      "C:\\Users\\Admin\\AppData\\Local\\Temp\\ipykernel_1500\\1883771611.py:7: SyntaxWarning: invalid escape sequence '\\c'\n",
      "  with open(\"main\\components\\menu_maneger\\extracted_menu_dir\\manual_reviewed_menu_data.json\", \"r\", encoding=\"utf-8\") as f:\n"
     ]
    }
   ],
   "source": [
    "#intergrating RAG functionality\n",
    "\n",
    "# Load sentence embedding model for retrieval\n",
    "embedder = SentenceTransformer('all-MiniLM-L6-v2')\n",
    "\n",
    "# === Load external knowledge from JSON ===\n",
    "with open(\"main\\components\\menu_maneger\\extracted_menu_dir\\manual_reviewed_menu_data.json\", \"r\", encoding=\"utf-8\") as f:\n",
    "    rag_data = json.load(f)\n",
    "\n",
    "# Flatten text chunks from the file (assuming list of dicts or strings)\n",
    "text_chunks = [json.dumps(item) if isinstance(item, dict) else str(item) for item in rag_data]\n",
    "text_embeddings = embedder.encode(text_chunks, convert_to_tensor=True)\n"
   ]
  },
  {
   "cell_type": "code",
   "execution_count": 7,
   "id": "62e9a7ec",
   "metadata": {},
   "outputs": [
    {
     "name": "stdout",
     "output_type": "stream",
     "text": [
      "Welcome to the chat! Type 'exit' to quit.\n",
      "\n",
      "Assistant: system\n",
      "You're a helpful restaurant cashier. You should remember past orders and assist the customer politely.\n",
      "user\n",
      "Context: {\"category\": \"Idiyappam / Paya\", \"items\": [{\"item_name\": \"Idiyappam / Paya\", \"price\": \"80\", \"description\": \"\"}, {\"item_name\": \"Appam / Chicken Gravy\", \"price\": \"110\", \"description\": \"\"}]}\n",
      "{\"category\": \"Manchurian\", \"items\": [{\"item_name\": \"Veg Manchurian\", \"price\": \"80\", \"description\": \"\"}, {\"item_name\": \"Gobi Manchurian\", \"price\": \"90\", \"description\": \"\"}, {\"item_name\": \"Chilli Gobi Manchurian\", \"price\": \"120\", \"description\": \"\"}, {\"item_name\": \"Mushroom Gravy\", \"price\": \"100\", \"description\": \"\"}, {\"item_name\": \"Mushroom Manchurian\", \"price\": \"110\", \"description\": \"\"}, {\"item_name\": \"Crispy Veg\", \"price\": \"140\", \"description\": \"\"}, {\"item_name\": \"Szechwan Chicken\", \"price\": \"140\", \"description\": \"\"}, {\"item_name\": \"Chilli Chicken\", \"price\": \"100\", \"description\": \"\"}, {\"item_name\": \"Ginger Chicken\", \"price\": \"130\", \"description\": \"\"}, {\"item_name\": \"Dragon Chicken\", \"price\": \"110\", \"description\": \"\"}, {\"item_name\": \"Shawarma Roll\", \"price\": \"140\", \"description\": \"\"}, {\"item_name\": \"Shawarma Plate\", \"price\": \"100\", \"description\": \"\"}]}\n",
      "{\"category\": \"Sued Rice\", \"items\": [{\"item_name\": \"Veg Fried Rice\", \"price\": \"80\", \"description\": \"\"}, {\"item_name\": \"Egg Fried Rice\", \"price\": \"90\", \"description\": \"\"}, {\"item_name\": \"Chicken Fried Rice\", \"price\": \"120\", \"description\": \"\"}, {\"item_name\": \"Mushroom Fried Rice\", \"price\": \"120\", \"description\": \"\"}, {\"item_name\": \"Panner Fried Rice\", \"price\": \"120\", \"description\": \"\"}, {\"item_name\": \"Mixed Fried Rice\", \"price\": \"150\", \"description\": \"\"}, {\"item_name\": \"Schezwan Chicken Fried Rice\", \"price\": \"120\", \"description\": \"\"}, {\"item_name\": \"Schezwan Veg Fried Rice\", \"price\": \"140\", \"description\": \"\"}, {\"item_name\": \"Taiwanese Chicken Fried Rice\", \"price\": \"150\", \"description\": \"\"}, {\"item_name\": \"Taiwanese Veg Fried Rice\", \"price\": \"120\", \"description\": \"\"}]}\n",
      "\n",
      "Question: hii\n",
      "assistant\n",
      "Hello! How may I assist you?\n",
      "Assistant: system\n",
      "You're a helpful restaurant cashier. You should remember past orders and assist the customer politely.\n",
      "user\n",
      "Context: {\"category\": \"Idiyappam / Paya\", \"items\": [{\"item_name\": \"Idiyappam / Paya\", \"price\": \"80\", \"description\": \"\"}, {\"item_name\": \"Appam / Chicken Gravy\", \"price\": \"110\", \"description\": \"\"}]}\n",
      "{\"category\": \"Manchurian\", \"items\": [{\"item_name\": \"Veg Manchurian\", \"price\": \"80\", \"description\": \"\"}, {\"item_name\": \"Gobi Manchurian\", \"price\": \"90\", \"description\": \"\"}, {\"item_name\": \"Chilli Gobi Manchurian\", \"price\": \"120\", \"description\": \"\"}, {\"item_name\": \"Mushroom Gravy\", \"price\": \"100\", \"description\": \"\"}, {\"item_name\": \"Mushroom Manchurian\", \"price\": \"110\", \"description\": \"\"}, {\"item_name\": \"Crispy Veg\", \"price\": \"140\", \"description\": \"\"}, {\"item_name\": \"Szechwan Chicken\", \"price\": \"140\", \"description\": \"\"}, {\"item_name\": \"Chilli Chicken\", \"price\": \"100\", \"description\": \"\"}, {\"item_name\": \"Ginger Chicken\", \"price\": \"130\", \"description\": \"\"}, {\"item_name\": \"Dragon Chicken\", \"price\": \"110\", \"description\": \"\"}, {\"item_name\": \"Shawarma Roll\", \"price\": \"140\", \"description\": \"\"}, {\"item_name\": \"Shawarma Plate\", \"price\": \"100\", \"description\": \"\"}]}\n",
      "{\"category\": \"Sued Rice\", \"items\": [{\"item_name\": \"Veg Fried Rice\", \"price\": \"80\", \"description\": \"\"}, {\"item_name\": \"Egg Fried Rice\", \"price\": \"90\", \"description\": \"\"}, {\"item_name\": \"Chicken Fried Rice\", \"price\": \"120\", \"description\": \"\"}, {\"item_name\": \"Mushroom Fried Rice\", \"price\": \"120\", \"description\": \"\"}, {\"item_name\": \"Panner Fried Rice\", \"price\": \"120\", \"description\": \"\"}, {\"item_name\": \"Mixed Fried Rice\", \"price\": \"150\", \"description\": \"\"}, {\"item_name\": \"Schezwan Chicken Fried Rice\", \"price\": \"120\", \"description\": \"\"}, {\"item_name\": \"Schezwan Veg Fried Rice\", \"price\": \"140\", \"description\": \"\"}, {\"item_name\": \"Taiwanese Chicken Fried Rice\", \"price\": \"150\", \"description\": \"\"}, {\"item_name\": \"Taiwanese Veg Fried Rice\", \"price\": \"120\", \"description\": \"\"}]}\n",
      "\n",
      "Question: hii\n",
      "assistant\n",
      "system\n",
      "You're a helpful restaurant cashier. You should remember past orders and assist the customer politely.\n",
      "user\n",
      "Context: {\"category\": \"Idiyappam / Paya\", \"items\": [{\"item_name\": \"Idiyappam / Paya\", \"price\": \"80\", \"description\": \"\"}, {\"item_name\": \"Appam / Chicken Gravy\", \"price\": \"110\", \"description\": \"\"}]}\n",
      "{\"category\": \"Manchurian\", \"items\": [{\"item_name\": \"Veg Manchurian\", \"price\": \"80\", \"description\": \"\"}, {\"item_name\": \"Gobi Manchurian\", \"price\": \"90\", \"description\": \"\"}, {\"item_name\": \"Chilli Gobi Manchurian\", \"price\": \"120\", \"description\": \"\"}, {\"item_name\": \"Mushroom Gravy\", \"price\": \"100\", \"description\": \"\"}, {\"item_name\": \"Mushroom Manchurian\", \"price\": \"110\", \"description\": \"\"}, {\"item_name\": \"Crispy Veg\", \"price\": \"140\", \"description\": \"\"}, {\"item_name\": \"Szechwan Chicken\", \"price\": \"140\", \"description\": \"\"}, {\"item_name\": \"Chilli Chicken\", \"price\": \"100\", \"description\": \"\"}, {\"item_name\": \"Ginger Chicken\", \"price\": \"130\", \"description\": \"\"}, {\"item_name\": \"Dragon Chicken\", \"price\": \"110\", \"description\": \"\"}, {\"item_name\": \"Shawarma Roll\", \"price\": \"140\", \"description\": \"\"}, {\"item_name\": \"Shawarma Plate\", \"price\": \"100\", \"description\": \"\"}]}\n",
      "{\"category\": \"Sued Rice\", \"items\": [{\"item_name\": \"Veg Fried Rice\", \"price\": \"80\", \"description\": \"\"}, {\"item_name\": \"Egg Fried Rice\", \"price\": \"90\", \"description\": \"\"}, {\"item_name\": \"Chicken Fried Rice\", \"price\": \"120\", \"description\": \"\"}, {\"item_name\": \"Mushroom Fried Rice\", \"price\": \"120\", \"description\": \"\"}, {\"item_name\": \"Panner Fried Rice\", \"price\": \"120\", \"description\": \"\"}, {\"item_name\": \"Mixed Fried Rice\", \"price\": \"150\", \"description\": \"\"}, {\"item_name\": \"Schezwan Chicken Fried Rice\", \"price\": \"120\", \"description\": \"\"}, {\"item_name\": \"Schezwan Veg Fried Rice\", \"price\": \"140\", \"description\": \"\"}, {\"item_name\": \"Taiwanese Chicken Fried Rice\", \"price\": \"150\", \"description\": \"\"}, {\"item_name\": \"Taiwanese Veg Fried Rice\", \"price\": \"120\", \"description\": \"\"}]}\n",
      "\n",
      "Question: hii\n",
      "assistant\n",
      "Hello! How may I assist you?\n",
      "user\n",
      "Context: {\"category\": \"Parotta\", \"items\": [{\"item_name\": \"Parotta Veechu Parotta\", \"price\": \"70\", \"description\": \"\"}, {\"item_name\": \"Open Veechu Parotta\", \"price\": \"25\", \"description\": \"\"}, {\"item_name\": \"Veechu Egg Parotta\", \"price\": \"70\", \"description\": \"\"}, {\"item_name\": \"Piece Parotta\", \"price\": \"180\", \"description\": \"\"}, {\"item_name\": \"Kothu Parotta\", \"price\": \"170\", \"description\": \"\"}, {\"item_name\": \"Mutton Kaima Parotta\", \"price\": \"180\", \"description\": \"\"}, {\"item_name\": \"Chicken Kaima Parotta\", \"price\": \"170\", \"description\": \"\"}, {\"item_name\": \"Mutton Murtabak Parotta\", \"price\": \"25\", \"description\": \"\"}, {\"item_name\": \"Chicken Murtabak Parotta\", \"price\": \"20\", \"description\": \"\"}, {\"item_name\": \"Oll Parotta\", \"price\": \"25\", \"description\": \"\"}, {\"item_name\": \"Without Oil Parotta\", \"price\": \"30\", \"description\": \"\"}, {\"item_name\": \"Panchu Parotta\", \"price\": \"210\", \"description\": \"\"}, {\"item_name\": \"Sweet Parotta\", \"price\": \"170\", \"description\": \"\"}, {\"item_name\": \"Banana Leaf Mutton Parotta\", \"price\": \"40\", \"description\": \"\"}, {\"item_name\": \"Banana Leaf Chicken Parotta\", \"price\": \"300\", \"description\": \"\"}, {\"item_name\": \"Chappathi\", \"price\": \"120\", \"description\": \"\"}, {\"item_name\": \"Chicken Dum Parotta\", \"price\": \"130\", \"description\": \"\"}, {\"item_name\": \"Mushroom Dosa\", \"price\": \"160\", \"description\": \"\"}, {\"item_name\": \"Chicken Dosa\", \"price\": \"120\", \"description\": \"\"}, {\"item_name\": \"Mutton Dosa\", \"price\": \"130\", \"description\": \"\"}]}\n",
      "{\"category\": \"Idiyappam / Paya\", \"items\": [{\"item_name\": \"Idiyappam / Paya\", \"price\": \"80\", \"description\": \"\"}, {\"item_name\": \"Appam / Chicken Gravy\", \"price\": \"110\", \"description\": \"\"}]}\n",
      "{\"category\": \"Manchurian\", \"items\": [{\"item_name\": \"Veg Manchurian\", \"price\": \"80\", \"description\": \"\"}, {\"item_name\": \"Gobi Manchurian\", \"price\": \"90\", \"description\": \"\"}, {\"item_name\": \"Chilli Gobi Manchurian\", \"price\": \"120\", \"description\": \"\"}, {\"item_name\": \"Mushroom Gravy\", \"price\": \"100\", \"description\": \"\"}, {\"item_name\": \"Mushroom Manchurian\", \"price\": \"110\", \"description\": \"\"}, {\"item_name\": \"Crispy Veg\", \"price\": \"140\", \"description\": \"\"}, {\"item_name\": \"Szechwan Chicken\", \"price\": \"140\", \"description\": \"\"}, {\"item_name\": \"Chilli Chicken\", \"price\": \"100\", \"description\": \"\"}, {\"item_name\": \"Ginger Chicken\", \"price\": \"130\", \"description\": \"\"}, {\"item_name\": \"Dragon Chicken\", \"price\": \"110\", \"description\": \"\"}, {\"item_name\": \"Shawarma Roll\", \"price\": \"140\", \"description\": \"\"}, {\"item_name\": \"Shawarma Plate\", \"price\": \"100\", \"description\": \"\"}]}\n",
      "\n",
      "Question: i want Kothu Parotta what's the price of that?\n",
      "assistant\n",
      "The price for Kothu Parotta is 170.\n",
      "Assistant: system\n",
      "You're a helpful restaurant cashier. You should remember past orders and assist the customer politely.\n",
      "user\n",
      "Context: {\"category\": \"Idiyappam / Paya\", \"items\": [{\"item_name\": \"Idiyappam / Paya\", \"price\": \"80\", \"description\": \"\"}, {\"item_name\": \"Appam / Chicken Gravy\", \"price\": \"110\", \"description\": \"\"}]}\n",
      "{\"category\": \"Manchurian\", \"items\": [{\"item_name\": \"Veg Manchurian\", \"price\": \"80\", \"description\": \"\"}, {\"item_name\": \"Gobi Manchurian\", \"price\": \"90\", \"description\": \"\"}, {\"item_name\": \"Chilli Gobi Manchurian\", \"price\": \"120\", \"description\": \"\"}, {\"item_name\": \"Mushroom Gravy\", \"price\": \"100\", \"description\": \"\"}, {\"item_name\": \"Mushroom Manchurian\", \"price\": \"110\", \"description\": \"\"}, {\"item_name\": \"Crispy Veg\", \"price\": \"140\", \"description\": \"\"}, {\"item_name\": \"Szechwan Chicken\", \"price\": \"140\", \"description\": \"\"}, {\"item_name\": \"Chilli Chicken\", \"price\": \"100\", \"description\": \"\"}, {\"item_name\": \"Ginger Chicken\", \"price\": \"130\", \"description\": \"\"}, {\"item_name\": \"Dragon Chicken\", \"price\": \"110\", \"description\": \"\"}, {\"item_name\": \"Shawarma Roll\", \"price\": \"140\", \"description\": \"\"}, {\"item_name\": \"Shawarma Plate\", \"price\": \"100\", \"description\": \"\"}]}\n",
      "{\"category\": \"Sued Rice\", \"items\": [{\"item_name\": \"Veg Fried Rice\", \"price\": \"80\", \"description\": \"\"}, {\"item_name\": \"Egg Fried Rice\", \"price\": \"90\", \"description\": \"\"}, {\"item_name\": \"Chicken Fried Rice\", \"price\": \"120\", \"description\": \"\"}, {\"item_name\": \"Mushroom Fried Rice\", \"price\": \"120\", \"description\": \"\"}, {\"item_name\": \"Panner Fried Rice\", \"price\": \"120\", \"description\": \"\"}, {\"item_name\": \"Mixed Fried Rice\", \"price\": \"150\", \"description\": \"\"}, {\"item_name\": \"Schezwan Chicken Fried Rice\", \"price\": \"120\", \"description\": \"\"}, {\"item_name\": \"Schezwan Veg Fried Rice\", \"price\": \"140\", \"description\": \"\"}, {\"item_name\": \"Taiwanese Chicken Fried Rice\", \"price\": \"150\", \"description\": \"\"}, {\"item_name\": \"Taiwanese Veg Fried Rice\", \"price\": \"120\", \"description\": \"\"}]}\n",
      "\n",
      "Question: hii\n",
      "assistant\n",
      "system\n",
      "You're a helpful restaurant cashier. You should remember past orders and assist the customer politely.\n",
      "user\n",
      "Context: {\"category\": \"Idiyappam / Paya\", \"items\": [{\"item_name\": \"Idiyappam / Paya\", \"price\": \"80\", \"description\": \"\"}, {\"item_name\": \"Appam / Chicken Gravy\", \"price\": \"110\", \"description\": \"\"}]}\n",
      "{\"category\": \"Manchurian\", \"items\": [{\"item_name\": \"Veg Manchurian\", \"price\": \"80\", \"description\": \"\"}, {\"item_name\": \"Gobi Manchurian\", \"price\": \"90\", \"description\": \"\"}, {\"item_name\": \"Chilli Gobi Manchurian\", \"price\": \"120\", \"description\": \"\"}, {\"item_name\": \"Mushroom Gravy\", \"price\": \"100\", \"description\": \"\"}, {\"item_name\": \"Mushroom Manchurian\", \"price\": \"110\", \"description\": \"\"}, {\"item_name\": \"Crispy Veg\", \"price\": \"140\", \"description\": \"\"}, {\"item_name\": \"Szechwan Chicken\", \"price\": \"140\", \"description\": \"\"}, {\"item_name\": \"Chilli Chicken\", \"price\": \"100\", \"description\": \"\"}, {\"item_name\": \"Ginger Chicken\", \"price\": \"130\", \"description\": \"\"}, {\"item_name\": \"Dragon Chicken\", \"price\": \"110\", \"description\": \"\"}, {\"item_name\": \"Shawarma Roll\", \"price\": \"140\", \"description\": \"\"}, {\"item_name\": \"Shawarma Plate\", \"price\": \"100\", \"description\": \"\"}]}\n",
      "{\"category\": \"Sued Rice\", \"items\": [{\"item_name\": \"Veg Fried Rice\", \"price\": \"80\", \"description\": \"\"}, {\"item_name\": \"Egg Fried Rice\", \"price\": \"90\", \"description\": \"\"}, {\"item_name\": \"Chicken Fried Rice\", \"price\": \"120\", \"description\": \"\"}, {\"item_name\": \"Mushroom Fried Rice\", \"price\": \"120\", \"description\": \"\"}, {\"item_name\": \"Panner Fried Rice\", \"price\": \"120\", \"description\": \"\"}, {\"item_name\": \"Mixed Fried Rice\", \"price\": \"150\", \"description\": \"\"}, {\"item_name\": \"Schezwan Chicken Fried Rice\", \"price\": \"120\", \"description\": \"\"}, {\"item_name\": \"Schezwan Veg Fried Rice\", \"price\": \"140\", \"description\": \"\"}, {\"item_name\": \"Taiwanese Chicken Fried Rice\", \"price\": \"150\", \"description\": \"\"}, {\"item_name\": \"Taiwanese Veg Fried Rice\", \"price\": \"120\", \"description\": \"\"}]}\n",
      "\n",
      "Question: hii\n",
      "assistant\n",
      "Hello! How may I assist you?\n",
      "user\n",
      "Context: {\"category\": \"Parotta\", \"items\": [{\"item_name\": \"Parotta Veechu Parotta\", \"price\": \"70\", \"description\": \"\"}, {\"item_name\": \"Open Veechu Parotta\", \"price\": \"25\", \"description\": \"\"}, {\"item_name\": \"Veechu Egg Parotta\", \"price\": \"70\", \"description\": \"\"}, {\"item_name\": \"Piece Parotta\", \"price\": \"180\", \"description\": \"\"}, {\"item_name\": \"Kothu Parotta\", \"price\": \"170\", \"description\": \"\"}, {\"item_name\": \"Mutton Kaima Parotta\", \"price\": \"180\", \"description\": \"\"}, {\"item_name\": \"Chicken Kaima Parotta\", \"price\": \"170\", \"description\": \"\"}, {\"item_name\": \"Mutton Murtabak Parotta\", \"price\": \"25\", \"description\": \"\"}, {\"item_name\": \"Chicken Murtabak Parotta\", \"price\": \"20\", \"description\": \"\"}, {\"item_name\": \"Oll Parotta\", \"price\": \"25\", \"description\": \"\"}, {\"item_name\": \"Without Oil Parotta\", \"price\": \"30\", \"description\": \"\"}, {\"item_name\": \"Panchu Parotta\", \"price\": \"210\", \"description\": \"\"}, {\"item_name\": \"Sweet Parotta\", \"price\": \"170\", \"description\": \"\"}, {\"item_name\": \"Banana Leaf Mutton Parotta\", \"price\": \"40\", \"description\": \"\"}, {\"item_name\": \"Banana Leaf Chicken Parotta\", \"price\": \"300\", \"description\": \"\"}, {\"item_name\": \"Chappathi\", \"price\": \"120\", \"description\": \"\"}, {\"item_name\": \"Chicken Dum Parotta\", \"price\": \"130\", \"description\": \"\"}, {\"item_name\": \"Mushroom Dosa\", \"price\": \"160\", \"description\": \"\"}, {\"item_name\": \"Chicken Dosa\", \"price\": \"120\", \"description\": \"\"}, {\"item_name\": \"Mutton Dosa\", \"price\": \"130\", \"description\": \"\"}]}\n",
      "{\"category\": \"Idiyappam / Paya\", \"items\": [{\"item_name\": \"Idiyappam / Paya\", \"price\": \"80\", \"description\": \"\"}, {\"item_name\": \"Appam / Chicken Gravy\", \"price\": \"110\", \"description\": \"\"}]}\n",
      "{\"category\": \"Manchurian\", \"items\": [{\"item_name\": \"Veg Manchurian\", \"price\": \"80\", \"description\": \"\"}, {\"item_name\": \"Gobi Manchurian\", \"price\": \"90\", \"description\": \"\"}, {\"item_name\": \"Chilli Gobi Manchurian\", \"price\": \"120\", \"description\": \"\"}, {\"item_name\": \"Mushroom Gravy\", \"price\": \"100\", \"description\": \"\"}, {\"item_name\": \"Mushroom Manchurian\", \"price\": \"110\", \"description\": \"\"}, {\"item_name\": \"Crispy Veg\", \"price\": \"140\", \"description\": \"\"}, {\"item_name\": \"Szechwan Chicken\", \"price\": \"140\", \"description\": \"\"}, {\"item_name\": \"Chilli Chicken\", \"price\": \"100\", \"description\": \"\"}, {\"item_name\": \"Ginger Chicken\", \"price\": \"130\", \"description\": \"\"}, {\"item_name\": \"Dragon Chicken\", \"price\": \"110\", \"description\": \"\"}, {\"item_name\": \"Shawarma Roll\", \"price\": \"140\", \"description\": \"\"}, {\"item_name\": \"Shawarma Plate\", \"price\": \"100\", \"description\": \"\"}]}\n",
      "\n",
      "Question: i want Kothu Parotta what's the price of that?\n",
      "assistant\n",
      "system\n",
      "You're a helpful restaurant cashier. You should remember past orders and assist the customer politely.\n",
      "user\n",
      "Context: {\"category\": \"Idiyappam / Paya\", \"items\": [{\"item_name\": \"Idiyappam / Paya\", \"price\": \"80\", \"description\": \"\"}, {\"item_name\": \"Appam / Chicken Gravy\", \"price\": \"110\", \"description\": \"\"}]}\n",
      "{\"category\": \"Manchurian\", \"items\": [{\"item_name\": \"Veg Manchurian\", \"price\": \"80\", \"description\": \"\"}, {\"item_name\": \"Gobi Manchurian\", \"price\": \"90\", \"description\": \"\"}, {\"item_name\": \"Chilli Gobi Manchurian\", \"price\": \"120\", \"description\": \"\"}, {\"item_name\": \"Mushroom Gravy\", \"price\": \"100\", \"description\": \"\"}, {\"item_name\": \"Mushroom Manchurian\", \"price\": \"110\", \"description\": \"\"}, {\"item_name\": \"Crispy Veg\", \"price\": \"140\", \"description\": \"\"}, {\"item_name\": \"Szechwan Chicken\", \"price\": \"140\", \"description\": \"\"}, {\"item_name\": \"Chilli Chicken\", \"price\": \"100\", \"description\": \"\"}, {\"item_name\": \"Ginger Chicken\", \"price\": \"130\", \"description\": \"\"}, {\"item_name\": \"Dragon Chicken\", \"price\": \"110\", \"description\": \"\"}, {\"item_name\": \"Shawarma Roll\", \"price\": \"140\", \"description\": \"\"}, {\"item_name\": \"Shawarma Plate\", \"price\": \"100\", \"description\": \"\"}]}\n",
      "{\"category\": \"Sued Rice\", \"items\": [{\"item_name\": \"Veg Fried Rice\", \"price\": \"80\", \"description\": \"\"}, {\"item_name\": \"Egg Fried Rice\", \"price\": \"90\", \"description\": \"\"}, {\"item_name\": \"Chicken Fried Rice\", \"price\": \"120\", \"description\": \"\"}, {\"item_name\": \"Mushroom Fried Rice\", \"price\": \"120\", \"description\": \"\"}, {\"item_name\": \"Panner Fried Rice\", \"price\": \"120\", \"description\": \"\"}, {\"item_name\": \"Mixed Fried Rice\", \"price\": \"150\", \"description\": \"\"}, {\"item_name\": \"Schezwan Chicken Fried Rice\", \"price\": \"120\", \"description\": \"\"}, {\"item_name\": \"Schezwan Veg Fried Rice\", \"price\": \"140\", \"description\": \"\"}, {\"item_name\": \"Taiwanese Chicken Fried Rice\", \"price\": \"150\", \"description\": \"\"}, {\"item_name\": \"Taiwanese Veg Fried Rice\", \"price\": \"120\", \"description\": \"\"}]}\n",
      "\n",
      "Question: hii\n",
      "assistant\n",
      "system\n",
      "You're a helpful restaurant cashier. You should remember past orders and assist the customer politely.\n",
      "user\n",
      "Context: {\"category\": \"Idiyappam / Paya\", \"items\": [{\"item_name\": \"Idiyappam / Paya\", \"price\": \"80\", \"description\": \"\"}, {\"item_name\": \"Appam / Chicken Gravy\", \"price\": \"110\", \"description\": \"\"}]}\n",
      "{\"category\": \"Manchurian\", \"items\": [{\"item_name\": \"Veg Manchurian\", \"price\": \"80\", \"description\": \"\"}, {\"item_name\": \"Gobi Manchurian\", \"price\": \"90\", \"description\": \"\"}, {\"item_name\": \"Chilli Gobi Manchurian\", \"price\": \"120\", \"description\": \"\"}, {\"item_name\": \"Mushroom Gravy\", \"price\": \"100\", \"description\": \"\"}, {\"item_name\": \"Mushroom Manchurian\", \"price\": \"110\", \"description\": \"\"}, {\"item_name\": \"Crispy Veg\", \"price\": \"140\", \"description\": \"\"}, {\"item_name\": \"Szechwan Chicken\", \"price\": \"140\", \"description\": \"\"}, {\"item_name\": \"Chilli Chicken\", \"price\": \"100\", \"description\": \"\"}, {\"item_name\": \"Ginger Chicken\", \"price\": \"130\", \"description\": \"\"}, {\"item_name\": \"Dragon Chicken\", \"price\": \"110\", \"description\": \"\"}, {\"item_name\": \"Shawarma Roll\", \"price\": \"140\", \"description\": \"\"}, {\"item_name\": \"Shawarma Plate\", \"price\": \"100\", \"description\": \"\"}]}\n",
      "{\"category\": \"Sued Rice\", \"items\": [{\"item_name\": \"Veg Fried Rice\", \"price\": \"80\", \"description\": \"\"}, {\"item_name\": \"Egg Fried Rice\", \"price\": \"90\", \"description\": \"\"}, {\"item_name\": \"Chicken Fried Rice\", \"price\": \"120\", \"description\": \"\"}, {\"item_name\": \"Mushroom Fried Rice\", \"price\": \"120\", \"description\": \"\"}, {\"item_name\": \"Panner Fried Rice\", \"price\": \"120\", \"description\": \"\"}, {\"item_name\": \"Mixed Fried Rice\", \"price\": \"150\", \"description\": \"\"}, {\"item_name\": \"Schezwan Chicken Fried Rice\", \"price\": \"120\", \"description\": \"\"}, {\"item_name\": \"Schezwan Veg Fried Rice\", \"price\": \"140\", \"description\": \"\"}, {\"item_name\": \"Taiwanese Chicken Fried Rice\", \"price\": \"150\", \"description\": \"\"}, {\"item_name\": \"Taiwanese Veg Fried Rice\", \"price\": \"120\", \"description\": \"\"}]}\n",
      "\n",
      "Question: hii\n",
      "assistant\n",
      "Hello! How may I assist you?\n",
      "user\n",
      "Context: {\"category\": \"Parotta\", \"items\": [{\"item_name\": \"Parotta Veechu Parotta\", \"price\": \"70\", \"description\": \"\"}, {\"item_name\": \"Open Veechu Parotta\", \"price\": \"25\", \"description\": \"\"}, {\"item_name\": \"Veechu Egg Parotta\", \"price\": \"70\", \"description\": \"\"}, {\"item_name\": \"Piece Parotta\", \"price\": \"180\", \"description\": \"\"}, {\"item_name\": \"Kothu Parotta\", \"price\": \"170\", \"description\": \"\"}, {\"item_name\": \"Mutton Kaima Parotta\", \"price\": \"180\", \"description\": \"\"}, {\"item_name\": \"Chicken Kaima Parotta\", \"price\": \"170\", \"description\": \"\"}, {\"item_name\": \"Mutton Murtabak Parotta\", \"price\": \"25\", \"description\": \"\"}, {\"item_name\": \"Chicken Murtabak Parotta\", \"price\": \"20\", \"description\": \"\"}, {\"item_name\": \"Oll Parotta\", \"price\": \"25\", \"description\": \"\"}, {\"item_name\": \"Without Oil Parotta\", \"price\": \"30\", \"description\": \"\"}, {\"item_name\": \"Panchu Parotta\", \"price\": \"210\", \"description\": \"\"}, {\"item_name\": \"Sweet Parotta\", \"price\": \"170\", \"description\": \"\"}, {\"item_name\": \"Banana Leaf Mutton Parotta\", \"price\": \"40\", \"description\": \"\"}, {\"item_name\": \"Banana Leaf Chicken Parotta\", \"price\": \"300\", \"description\": \"\"}, {\"item_name\": \"Chappathi\", \"price\": \"120\", \"description\": \"\"}, {\"item_name\": \"Chicken Dum Parotta\", \"price\": \"130\", \"description\": \"\"}, {\"item_name\": \"Mushroom Dosa\", \"price\": \"160\", \"description\": \"\"}, {\"item_name\": \"Chicken Dosa\", \"price\": \"120\", \"description\": \"\"}, {\"item_name\": \"Mutton Dosa\", \"price\": \"130\", \"description\": \"\"}]}\n",
      "{\"category\": \"Idiyappam / Paya\", \"items\": [{\"item_name\": \"Idiyappam / Paya\", \"price\": \"80\", \"description\": \"\"}, {\"item_name\": \"Appam / Chicken Gravy\", \"price\": \"110\", \"description\": \"\"}]}\n",
      "{\"category\": \"Manchurian\", \"items\": [{\"item_name\": \"Veg Manchurian\", \"price\": \"80\", \"description\": \"\"}, {\"item_name\": \"Gobi Manchurian\", \"price\": \"90\", \"description\": \"\"}, {\"item_name\": \"Chilli Gobi Manchurian\", \"price\": \"120\", \"description\": \"\"}, {\"item_name\": \"Mushroom Gravy\", \"price\": \"100\", \"description\": \"\"}, {\"item_name\": \"Mushroom Manchurian\", \"price\": \"110\", \"description\": \"\"}, {\"item_name\": \"Crispy Veg\", \"price\": \"140\", \"description\": \"\"}, {\"item_name\": \"Szechwan Chicken\", \"price\": \"140\", \"description\": \"\"}, {\"item_name\": \"Chilli Chicken\", \"price\": \"100\", \"description\": \"\"}, {\"item_name\": \"Ginger Chicken\", \"price\": \"130\", \"description\": \"\"}, {\"item_name\": \"Dragon Chicken\", \"price\": \"110\", \"description\": \"\"}, {\"item_name\": \"Shawarma Roll\", \"price\": \"140\", \"description\": \"\"}, {\"item_name\": \"Shawarma Plate\", \"price\": \"100\", \"description\": \"\"}]}\n",
      "\n",
      "Question: i want Kothu Parotta what's the price of that?\n",
      "assistant\n",
      "The price for Kothu Parotta is 170.\n",
      "user\n",
      "Context: {\"category\": \"Manchurian\", \"items\": [{\"item_name\": \"Veg Manchurian\", \"price\": \"80\", \"description\": \"\"}, {\"item_name\": \"Gobi Manchurian\", \"price\": \"90\", \"description\": \"\"}, {\"item_name\": \"Chilli Gobi Manchurian\", \"price\": \"120\", \"description\": \"\"}, {\"item_name\": \"Mushroom Gravy\", \"price\": \"100\", \"description\": \"\"}, {\"item_name\": \"Mushroom Manchurian\", \"price\": \"110\", \"description\": \"\"}, {\"item_name\": \"Crispy Veg\", \"price\": \"140\", \"description\": \"\"}, {\"item_name\": \"Szechwan Chicken\", \"price\": \"140\", \"description\": \"\"}, {\"item_name\": \"Chilli Chicken\", \"price\": \"100\", \"description\": \"\"}, {\"item_name\": \"Ginger Chicken\", \"price\": \"130\", \"description\": \"\"}, {\"item_name\": \"Dragon Chicken\", \"price\": \"110\", \"description\": \"\"}, {\"item_name\": \"Shawarma Roll\", \"price\": \"140\", \"description\": \"\"}, {\"item_name\": \"Shawarma Plate\", \"price\": \"100\", \"description\": \"\"}]}\n",
      "{\"category\": \"Parotta\", \"items\": [{\"item_name\": \"Parotta Veechu Parotta\", \"price\": \"70\", \"description\": \"\"}, {\"item_name\": \"Open Veechu Parotta\", \"price\": \"25\", \"description\": \"\"}, {\"item_name\": \"Veechu Egg Parotta\", \"price\": \"70\", \"description\": \"\"}, {\"item_name\": \"Piece Parotta\", \"price\": \"180\", \"description\": \"\"}, {\"item_name\": \"Kothu Parotta\", \"price\": \"170\", \"description\": \"\"}, {\"item_name\": \"Mutton Kaima Parotta\", \"price\": \"180\", \"description\": \"\"}, {\"item_name\": \"Chicken Kaima Parotta\", \"price\": \"170\", \"description\": \"\"}, {\"item_name\": \"Mutton Murtabak Parotta\", \"price\": \"25\", \"description\": \"\"}, {\"item_name\": \"Chicken Murtabak Parotta\", \"price\": \"20\", \"description\": \"\"}, {\"item_name\": \"Oll Parotta\", \"price\": \"25\", \"description\": \"\"}, {\"item_name\": \"Without Oil Parotta\", \"price\": \"30\", \"description\": \"\"}, {\"item_name\": \"Panchu Parotta\", \"price\": \"210\", \"description\": \"\"}, {\"item_name\": \"Sweet Parotta\", \"price\": \"170\", \"description\": \"\"}, {\"item_name\": \"Banana Leaf Mutton Parotta\", \"price\": \"40\", \"description\": \"\"}, {\"item_name\": \"Banana Leaf Chicken Parotta\", \"price\": \"300\", \"description\": \"\"}, {\"item_name\": \"Chappathi\", \"price\": \"120\", \"description\": \"\"}, {\"item_name\": \"Chicken Dum Parotta\", \"price\": \"130\", \"description\": \"\"}, {\"item_name\": \"Mushroom Dosa\", \"price\": \"160\", \"description\": \"\"}, {\"item_name\": \"Chicken Dosa\", \"price\": \"120\", \"description\": \"\"}, {\"item_name\": \"Mutton Dosa\", \"price\": \"130\", \"description\": \"\"}]}\n",
      "{\"category\": \"Idiyappam / Paya\", \"items\": [{\"item_name\": \"Idiyappam / Paya\", \"price\": \"80\", \"description\": \"\"}, {\"item_name\": \"Appam / Chicken Gravy\", \"price\": \"110\", \"description\": \"\"}]}\n",
      "\n",
      "Question: ok lets add two Kothu Parotta and one Veg Manchurian\n",
      "assistant\n",
      "Sure, let me add those for you.\n"
     ]
    }
   ],
   "source": [
    "from sklearn.metrics.pairwise import cosine_similarity\n",
    "# RAG retrieval\n",
    "def retrieve_relevant_docs(query, k=3):\n",
    "    query_embedding = embedder.encode([query], convert_to_tensor=True)\n",
    "    similarities = cosine_similarity(query_embedding.cpu().numpy(), text_embeddings.cpu().numpy())[0]\n",
    "    top_k_indices = similarities.argsort()[-k:][::-1]\n",
    "    return [text_chunks[i] for i in top_k_indices]\n",
    "\n",
    "\n",
    "# Chat loop\n",
    "print(\"Welcome to the chat! Type 'exit' to quit.\\n\")\n",
    "while True:\n",
    "    user_texts = input()\n",
    "    if user_texts.lower() in [\"exit\", \"quit\"]:\n",
    "        break\n",
    "\n",
    "    # Retrieve RAG context\n",
    "    retrieved_knowledge = retrieve_relevant_docs(user_texts)\n",
    "    rag_context = \"\\n\".join(retrieved_knowledge)\n",
    "\n",
    "    # Inject RAG context into chat\n",
    "    chat_history.append({\n",
    "        \"role\": \"user\",\n",
    "        \"content\": f\"Context: {rag_context}\\n\\nQuestion: {user_texts}\"\n",
    "    })\n",
    "\n",
    "    # # Append user message to history\n",
    "    # chat_history.append({\n",
    "    #     \"role\": \"user\",\n",
    "    #     \"content\": user_texts\n",
    "    # })\n",
    "\n",
    "    # Build the prompt from history\n",
    "    prompt = build_qwen_prompt(chat_history)\n",
    "\n",
    "    # Tokenize and run inference\n",
    "    inputs_ = tokenizer(prompt, return_tensors='pt').to(model.device)\n",
    "    outputs = model.generate(**inputs_, max_new_tokens=100, temperature=0.7)\n",
    "\n",
    "    # Decode and post-process\n",
    "    decoded = tokenizer.decode(outputs[0], skip_special_tokens=True)\n",
    "    assistant_reply = decoded.split(\"<|im_start|>assistant\\n\")[-1].split(\"<|im_end|>\")[0].strip()\n",
    "\n",
    "    # Append assistant reply to history\n",
    "    chat_history.append({\n",
    "        \"role\": \"assistant\",\n",
    "        \"content\": assistant_reply\n",
    "    })\n",
    "\n",
    "    print(\"Assistant:\", assistant_reply)"
   ]
  },
  {
   "cell_type": "code",
   "execution_count": 9,
   "id": "30ae6741",
   "metadata": {},
   "outputs": [
    {
     "data": {
      "text/plain": [
       "[{'role': 'system',\n",
       "  'content': \"You're a helpful restaurant cashier. You should remember past orders and assist the customer politely.\"},\n",
       " {'role': 'user', 'content': 'hello'},\n",
       " {'role': 'user', 'content': 'hii'},\n",
       " {'role': 'user', 'content': 'hii'},\n",
       " {'role': 'assistant',\n",
       "  'content': \"system\\nYou're a helpful restaurant cashier. You should remember past orders and assist the customer politely.\\nuser\\nhello\\nuser\\nhii\\nuser\\nhii\\nassistant\\nGood morning! How can I assist you today?\"},\n",
       " {'role': 'user', 'content': 'may i see the menu'},\n",
       " {'role': 'assistant',\n",
       "  'content': \"system\\nYou're a helpful restaurant cashier. You should remember past orders and assist the customer politely.\\nuser\\nhello\\nuser\\nhii\\nuser\\nhii\\nassistant\\nsystem\\nYou're a helpful restaurant cashier. You should remember past orders and assist the customer politely.\\nuser\\nhello\\nuser\\nhii\\nuser\\nhii\\nassistant\\nGood morning! How can I assist you today?\\nuser\\nmay i see the menu\\nassistant\\nSure, here is the menu. Would you like to look up the price of something specific?\"},\n",
       " {'role': 'user', 'content': 'hey whats the price for kothu Parotta'},\n",
       " {'role': 'assistant',\n",
       "  'content': \"system\\nYou're a helpful restaurant cashier. You should remember past orders and assist the customer politely.\\nuser\\nhello\\nuser\\nhii\\nuser\\nhii\\nassistant\\nsystem\\nYou're a helpful restaurant cashier. You should remember past orders and assist the customer politely.\\nuser\\nhello\\nuser\\nhii\\nuser\\nhii\\nassistant\\nGood morning! How can I assist you today?\\nuser\\nmay i see the menu\\nassistant\\nsystem\\nYou're a helpful restaurant cashier. You should remember past orders and assist the customer politely.\\nuser\\nhello\\nuser\\nhii\\nuser\\nhii\\nassistant\\nsystem\\nYou're a helpful restaurant cashier. You should remember past orders and assist the customer politely.\\nuser\\nhello\\nuser\\nhii\\nuser\\nhii\\nassistant\\nGood morning! How can I assist you today?\\nuser\\nmay i see the menu\\nassistant\\nSure, here is the menu. Would you like to look up the price of something specific?\\nuser\\nhey whats the price for kothu Parotta\\nassistant\\nsystem\\nThe Kothu Parotta costs $6.00.\"}]"
      ]
     },
     "execution_count": 9,
     "metadata": {},
     "output_type": "execute_result"
    }
   ],
   "source": [
    "chat_history"
   ]
  },
  {
   "cell_type": "code",
   "execution_count": null,
   "id": "d4d7f9c3",
   "metadata": {},
   "outputs": [],
   "source": []
  }
 ],
 "metadata": {
  "kernelspec": {
   "display_name": "myenv",
   "language": "python",
   "name": "python3"
  },
  "language_info": {
   "codemirror_mode": {
    "name": "ipython",
    "version": 3
   },
   "file_extension": ".py",
   "mimetype": "text/x-python",
   "name": "python",
   "nbconvert_exporter": "python",
   "pygments_lexer": "ipython3",
   "version": "3.12.0"
  }
 },
 "nbformat": 4,
 "nbformat_minor": 5
}
