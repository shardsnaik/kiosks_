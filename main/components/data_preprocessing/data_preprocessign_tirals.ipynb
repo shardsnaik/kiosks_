{
  "cells": [
    {
      "cell_type": "code",
      "execution_count": 5,
      "metadata": {
        "colab": {
          "base_uri": "https://localhost:8080/",
          "height": 113,
          "referenced_widgets": [
            "af7c7efc23b440039ee789043e1e84cf",
            "2cda546c4636433caf48e9aefb52968c",
            "4bf1ec96573f4f6fa505ee5310ac32e3",
            "2b768acd52bc4af29ab82df3ca5eea58",
            "8a8318372a354321a92416b6ca919a0e",
            "5cd4796d9b4e45a79476a882082c7670",
            "84a97ff6c4794c3c86f20c604feb80e6",
            "00e2757a104c4324bd87692b2df7cbe7",
            "efe8cd0386a3406eb911c38665d84a7f",
            "abbc038d3e30416c93281e49527714d4",
            "0f80c9cd37cf4f21b006d510225a5723",
            "6349b94368f94a4c87c447464e42deb3",
            "60aeee2d4180485baaba26074cf5c07a",
            "5f568d1b0d8e4e568bcc89ae97ad0c84",
            "f739e957697e4f6e917028c509c52cfd",
            "9fc7224ad5764fb8bd0ae0a4a9aaa508",
            "51d26b3086e544279008306f8b52b489",
            "e85bbbf4c64a4905a136c079713b61c0",
            "bc7db339c0dc466893da7c66b53e14c5",
            "e5b15e6c453f4440ab8078f924fa1fed",
            "e24596813e2d4352b7cae7680880f245",
            "58bfd4a272f6438086f2a0f0d0e9a846",
            "d8485bf541f44c78b1cb920d4e4930db",
            "f71410a3700548f9811557f6ab507a8f",
            "08d1e58458af4b32ad97047d56c7c963",
            "fd037dba08284d41bcef53023b90a33f",
            "6da9b654114b4c179151c57bb717f18a",
            "57163b21521d4710bf30a4bb6c79348f",
            "df353faeea7a484680c934677c8149e5",
            "07a8b71cf2ff43e095c58c184990fabe",
            "26b1b06f2cda4c2999fed03717293ab9",
            "93218b5a22c24030a26eaaa2d7f0800c",
            "3a85230b34294f65966978b853443fde"
          ]
        },
        "id": "geEUxJTGzwFV",
        "outputId": "5438bde1-b7ca-4b39-fe97-7c0bffe39295"
      },
      "outputs": [
        {
          "name": "stderr",
          "output_type": "stream",
          "text": [
            "c:\\kiosks_\\myenv\\Lib\\site-packages\\tqdm\\auto.py:21: TqdmWarning: IProgress not found. Please update jupyter and ipywidgets. See https://ipywidgets.readthedocs.io/en/stable/user_install.html\n",
            "  from .autonotebook import tqdm as notebook_tqdm\n"
          ]
        }
      ],
      "source": [
        "# !pip install datasets\n",
        "from datasets import load_dataset\n",
        "\n",
        "ds = load_dataset('FunDialogues/customer-service-grocery-cashier')"
      ]
    },
    {
      "cell_type": "code",
      "execution_count": 22,
      "metadata": {
        "colab": {
          "base_uri": "https://localhost:8080/"
        },
        "id": "IcLM_yTR0sFl",
        "outputId": "8070c749-6fea-4225-f4fa-e208219f708f"
      },
      "outputs": [
        {
          "name": "stdout",
          "output_type": "stream",
          "text": [
            "<class 'pandas.core.frame.DataFrame'>\n",
            "RangeIndex: 100 entries, 0 to 99\n",
            "Data columns (total 4 columns):\n",
            " #   Column       Non-Null Count  Dtype \n",
            "---  ------       --------------  ----- \n",
            " 0   index        100 non-null    int64 \n",
            " 1   id           100 non-null    int64 \n",
            " 2   description  100 non-null    object\n",
            " 3   dialogue     100 non-null    object\n",
            "dtypes: int64(2), object(2)\n",
            "memory usage: 3.3+ KB\n"
          ]
        }
      ],
      "source": [
        "ds.info()\n",
        "\n"
      ]
    },
    {
      "cell_type": "code",
      "execution_count": 10,
      "metadata": {
        "colab": {
          "base_uri": "https://localhost:8080/"
        },
        "id": "MQLfQU_h0skb",
        "outputId": "0de2ba54-cd56-4b64-be9a-518f19fa871d"
      },
      "outputs": [
        {
          "data": {
            "text/html": [
              "<div>\n",
              "<style scoped>\n",
              "    .dataframe tbody tr th:only-of-type {\n",
              "        vertical-align: middle;\n",
              "    }\n",
              "\n",
              "    .dataframe tbody tr th {\n",
              "        vertical-align: top;\n",
              "    }\n",
              "\n",
              "    .dataframe thead th {\n",
              "        text-align: right;\n",
              "    }\n",
              "</style>\n",
              "<table border=\"1\" class=\"dataframe\">\n",
              "  <thead>\n",
              "    <tr style=\"text-align: right;\">\n",
              "      <th></th>\n",
              "      <th>index</th>\n",
              "      <th>id</th>\n",
              "      <th>description</th>\n",
              "      <th>dialogue</th>\n",
              "    </tr>\n",
              "  </thead>\n",
              "  <tbody>\n",
              "    <tr>\n",
              "      <th>0</th>\n",
              "      <td>0</td>\n",
              "      <td>1</td>\n",
              "      <td>Price inquiry</td>\n",
              "      <td>Customer: Excuse me, could you tell me the pri...</td>\n",
              "    </tr>\n",
              "    <tr>\n",
              "      <th>1</th>\n",
              "      <td>1</td>\n",
              "      <td>2</td>\n",
              "      <td>Product availability</td>\n",
              "      <td>Cashier: Good afternoon! How can I assist you ...</td>\n",
              "    </tr>\n",
              "  </tbody>\n",
              "</table>\n",
              "</div>"
            ],
            "text/plain": [
              "   index  id           description  \\\n",
              "0      0   1         Price inquiry   \n",
              "1      1   2  Product availability   \n",
              "\n",
              "                                            dialogue  \n",
              "0  Customer: Excuse me, could you tell me the pri...  \n",
              "1  Cashier: Good afternoon! How can I assist you ...  "
            ]
          },
          "execution_count": 10,
          "metadata": {},
          "output_type": "execute_result"
        }
      ],
      "source": [
        "ds[:2]"
      ]
    },
    {
      "cell_type": "code",
      "execution_count": 13,
      "metadata": {
        "colab": {
          "base_uri": "https://localhost:8080/"
        },
        "id": "hb7mlUBV1Q-8",
        "outputId": "143d4dcc-9756-43c7-bd59-65208396a63a"
      },
      "outputs": [
        {
          "name": "stdout",
          "output_type": "stream",
          "text": [
            "100\n"
          ]
        }
      ],
      "source": [
        "print(len(ds['train']))"
      ]
    },
    {
      "cell_type": "code",
      "execution_count": 7,
      "metadata": {
        "colab": {
          "base_uri": "https://localhost:8080/"
        },
        "id": "fKyFCvtF2Nhs",
        "outputId": "3998de1b-ea39-4a1f-acce-46a439bbfb28"
      },
      "outputs": [
        {
          "data": {
            "text/plain": [
              "{'train': ['index', 'id', 'description', 'dialogue']}"
            ]
          },
          "execution_count": 7,
          "metadata": {},
          "output_type": "execute_result"
        }
      ],
      "source": [
        "ds.column_names"
      ]
    },
    {
      "cell_type": "code",
      "execution_count": 15,
      "metadata": {
        "colab": {
          "base_uri": "https://localhost:8080/"
        },
        "id": "l8zO4MpC3MFH",
        "outputId": "edc290c1-d9e3-4e2d-a489-1ae899cc2179"
      },
      "outputs": [
        {
          "name": "stdout",
          "output_type": "stream",
          "text": [
            "{'index': 0, 'id': 1, 'description': 'Price inquiry', 'dialogue': 'Customer: Excuse me, could you tell me the price of the apples per pound? Cashier: Certainly! The price for the apples is $1.99 per pound.'}\n",
            "{'index': 2, 'id': 3, 'description': 'Coupon usage', 'dialogue': 'Customer: I have this coupon for 20% off. Can I use it on this purchase? Cashier: Of course! Let me scan it for you. Great, your total comes to $32.50 after applying the discount.'}\n"
          ]
        }
      ],
      "source": [
        "# Examine a few examples\n",
        "print(ds[\"train\"][0])\n",
        "print(ds[\"train\"][2])"
      ]
    },
    {
      "cell_type": "code",
      "execution_count": 22,
      "metadata": {
        "id": "Li8jt5AsUTFX"
      },
      "outputs": [],
      "source": [
        "dataset.to_csv('data_set.csv', index=False)"
      ]
    },
    {
      "cell_type": "markdown",
      "metadata": {},
      "source": [
        "Data reading and preprocessing "
      ]
    },
    {
      "cell_type": "code",
      "execution_count": 2,
      "metadata": {},
      "outputs": [
        {
          "data": {
            "text/plain": [
              "'C:\\\\Kiosks_'"
            ]
          },
          "execution_count": 2,
          "metadata": {},
          "output_type": "execute_result"
        }
      ],
      "source": [
        "import os \n",
        "os.chdir('C:/Kiosks_')\n",
        "os.getcwd()"
      ]
    },
    {
      "cell_type": "code",
      "execution_count": 28,
      "metadata": {},
      "outputs": [
        {
          "name": "stdout",
          "output_type": "stream",
          "text": [
            "created directory at: artifacts/datasets\n"
          ]
        }
      ],
      "source": [
        "import pandas\n",
        "from main.components.data_preprocessing.config.data_preproc_config import data_preproc_configs\n",
        "\n",
        "obj = data_preproc_configs()\n",
        "configs = obj.data_preprocessing_configs()\n",
        "\n",
        "os.makedirs(configs['raw_dataset_path'] , exist_ok=True)\n",
        "# ds = ds['train'].to_pandas()\n",
        "ds.to_csv(os.path.join(configs['raw_dataset_path'], 'raw_data.csv'), index = False)\n",
        "# print(configs)"
      ]
    },
    {
      "cell_type": "code",
      "execution_count": 30,
      "metadata": {},
      "outputs": [
        {
          "data": {
            "text/html": [
              "<div>\n",
              "<style scoped>\n",
              "    .dataframe tbody tr th:only-of-type {\n",
              "        vertical-align: middle;\n",
              "    }\n",
              "\n",
              "    .dataframe tbody tr th {\n",
              "        vertical-align: top;\n",
              "    }\n",
              "\n",
              "    .dataframe thead th {\n",
              "        text-align: right;\n",
              "    }\n",
              "</style>\n",
              "<table border=\"1\" class=\"dataframe\">\n",
              "  <thead>\n",
              "    <tr style=\"text-align: right;\">\n",
              "      <th></th>\n",
              "      <th>index</th>\n",
              "      <th>id</th>\n",
              "      <th>description</th>\n",
              "      <th>dialogue</th>\n",
              "    </tr>\n",
              "  </thead>\n",
              "  <tbody>\n",
              "    <tr>\n",
              "      <th>0</th>\n",
              "      <td>0</td>\n",
              "      <td>1</td>\n",
              "      <td>Price inquiry</td>\n",
              "      <td>Customer: Excuse me, could you tell me the pri...</td>\n",
              "    </tr>\n",
              "    <tr>\n",
              "      <th>1</th>\n",
              "      <td>1</td>\n",
              "      <td>2</td>\n",
              "      <td>Product availability</td>\n",
              "      <td>Cashier: Good afternoon! How can I assist you ...</td>\n",
              "    </tr>\n",
              "    <tr>\n",
              "      <th>2</th>\n",
              "      <td>2</td>\n",
              "      <td>3</td>\n",
              "      <td>Coupon usage</td>\n",
              "      <td>Customer: I have this coupon for 20% off. Can ...</td>\n",
              "    </tr>\n",
              "    <tr>\n",
              "      <th>3</th>\n",
              "      <td>3</td>\n",
              "      <td>4</td>\n",
              "      <td>Return policy</td>\n",
              "      <td>Cashier: How may I help you? Customer: I bough...</td>\n",
              "    </tr>\n",
              "    <tr>\n",
              "      <th>4</th>\n",
              "      <td>4</td>\n",
              "      <td>5</td>\n",
              "      <td>Payment method</td>\n",
              "      <td>Customer: Excuse me, can I pay with a credit c...</td>\n",
              "    </tr>\n",
              "  </tbody>\n",
              "</table>\n",
              "</div>"
            ],
            "text/plain": [
              "   index  id           description  \\\n",
              "0      0   1         Price inquiry   \n",
              "1      1   2  Product availability   \n",
              "2      2   3          Coupon usage   \n",
              "3      3   4         Return policy   \n",
              "4      4   5        Payment method   \n",
              "\n",
              "                                            dialogue  \n",
              "0  Customer: Excuse me, could you tell me the pri...  \n",
              "1  Cashier: Good afternoon! How can I assist you ...  \n",
              "2  Customer: I have this coupon for 20% off. Can ...  \n",
              "3  Cashier: How may I help you? Customer: I bough...  \n",
              "4  Customer: Excuse me, can I pay with a credit c...  "
            ]
          },
          "execution_count": 30,
          "metadata": {},
          "output_type": "execute_result"
        }
      ],
      "source": [
        "data = pandas.read_csv(os.path.join(configs['raw_dataset_path'], 'raw_data.csv'))\n",
        "data.head(5)"
      ]
    },
    {
      "cell_type": "code",
      "execution_count": 31,
      "metadata": {},
      "outputs": [],
      "source": [
        "data['dialogue'][3]\n",
        "data.drop('index', axis=1, inplace=True)"
      ]
    },
    {
      "cell_type": "code",
      "execution_count": 38,
      "metadata": {},
      "outputs": [],
      "source": [
        "import json\n",
        "\n",
        "# Assuming `data` is your DataFrame\n",
        "json_entries = []\n",
        "\n",
        "for i in range(len(data)):  # Looping through rows\n",
        "    instruction = data.loc[i, 'description']\n",
        "    dialogs = data.loc[i, 'dialogue']\n",
        "\n",
        "    json_entry = {\n",
        "        'instruction': instruction,\n",
        "        'input': dialogs\n",
        "    }\n",
        "    json_entries.append(json_entry)\n",
        "\n",
        "# Write all JSON entries to a single file\n",
        "with open('artifacts/raw_datasets/Sample.jsonl', 'w') as f:\n",
        "    f.write('\\n'.join([json.dumps(entry) for entry in json_entries]))\n"
      ]
    },
    {
      "cell_type": "code",
      "execution_count": 62,
      "metadata": {},
      "outputs": [],
      "source": [
        "import re\n",
        "with open('artifacts/raw_datasets/Sample.jsonl', 'w') as f:\n",
        "    for i in range(len(data['dialogue'])):\n",
        "        diaglog = data['dialogue'][i]\n",
        "\n",
        "        parts = re.split(r'(Cashier:|Customer:)', diaglog)[1:]\n",
        "        # print(parts)\n",
        "        # print(len(parts))\n",
        "        messages = []\n",
        "\n",
        "        for j in range(0, len(parts), 2):\n",
        "            if j+1 < len(parts):\n",
        "                role = parts[j].strip()\n",
        "                content = parts[j+1].strip()\n",
        "                # Map roles to user/assistant format\n",
        "                if role == \"Customer:\":\n",
        "                    messages.append({\"role\": \"user\", \"content\": content})\n",
        "                elif role == \"Cashier:\":\n",
        "                    messages.append({\"role\": \"assistant\", \"content\": content})\n",
        "        \n",
        "        # Create JSON entry for chat format\n",
        "        json_entry = {\n",
        "            \"messages\": messages\n",
        "        }\n",
        "        \n",
        "        # Write to file\n",
        "        f.write(json.dumps(json_entry) + '\\n')\n"
      ]
    },
    {
      "cell_type": "code",
      "execution_count": null,
      "metadata": {},
      "outputs": [
        {
          "data": {
            "text/plain": [
              "['Customer:',\n",
              " ' Excuse me, can I pay with a credit card? ',\n",
              " 'Cashier:',\n",
              " \" Absolutely! We accept all major credit cards. Please insert or swipe your card when you're ready.\"]"
            ]
          },
          "execution_count": 47,
          "metadata": {},
          "output_type": "execute_result"
        }
      ],
      "source": [
        "parts\n"
      ]
    },
    {
      "cell_type": "markdown",
      "metadata": {},
      "source": [
        "Note The diversity in conversation"
      ]
    },
    {
      "cell_type": "code",
      "execution_count": null,
      "metadata": {},
      "outputs": [],
      "source": [
        "{\"messages\": [{\"role\": \"assistant\", \"content\": \"I see this item is marked as 'on sale.' Can you tell me the discounted price?\"}, {\"role\": \"user\", \"content\": \"Sure! The sale price is {item_price}, marked down from {item_discount_price}.\"}]}\n",
        "\n",
        "{\"messages\": [{\"role\": \"user\", \"content\": \"Are there any discounts available for senior citizens?\"}, {\"role\": \"assistant\", \"content\": \"Yes, we offer a {discount_percentage} for customers aged 60 and above. Just show your ID at the checkout.\"}]}\n",
        "\n",
        "{\"messages\": [{\"role\": \"assistant\", \"content\": \"I have this coupon for $5 off. Can I use it on this purchase?\"}, {\"role\": \"user\", \"content\": \"I'm sorry, but this coupon is only valid for purchases over $50. Your total is $30.\"}]}\n",
        "# 👇👇\n",
        "{\"messages\": [{\"role\": \"assistant\", \"content\": \"I have this coupon for {off_amount} off. Can I use it on this purchase?\"}, {\"role\": \"user\", \"content\": \"I'm sorry, but this coupon is only valid for purchases over {min_price_for_dis}. Your total is {user_total}.\"}]}\n",
        "\n",
        "{\"messages\": [{\"role\": \"assistant\", \"content\": \"Good afternoon! How can I assist you today?\"}, {\"role\": \"user\", \"content\": \"Hi, do you have any {item_name} ?\"}, {\"role\": \"assistant\", \"content\": \"Yes, we do. It's located in {category}, right next to the organic section.\"}]}\n",
        "\n",
        "{\"messages\": [{\"role\": \"user\", \"content\": \"Are there any special deals or promotions this week?\"}, {\"role\": \"assistant\", \"content\": \"Yes, we have a {special_deals} and we have promotions offer of {promotions}\"}]}\n",
        "\n",
        "{\"messages\": [{\"role\": \"user\", \"content\": \"I have this coupon for {off_amount} off. Can I use it on this purchase?\"}, {\"role\": \"assistant\", \"content\": \"Of course! Let me scan it for you. Great, your total comes to {amout_after_off} after applying the discount.\"}]}\n",
        "\n",
        "# from 101 extras\n",
        "{\"messages\": [{\"role\": \"user\", \"content\": \"Hello, do you have more items in the {category}?\"}, {\"role\": \"assistant\", \"content\": \"Let me check... Yes, we have {many_items} available in the back. I can fetch one for you.\"}]}\n",
        "\n",
        "{\"messages\": [{\"role\": \"user\", \"content\": \"Could I get a {receipt_type} receipt?\"}, {\"role\": \"assistant\", \"content\": \"Of course! I'll email it to you. Would you like a printed copy too?\"}]}\n",
        "\n",
        "{\"messages\": [{\"role\": \"assistant\", \"content\": \"Today we have a special on {item_category}: buy one, get one {discount_type}!\"}, {\"role\": \"user\", \"content\": \"Great! I'll take two {item_name}s.\"}, {\"role\": \"assistant\", \"content\": \"Your total savings are {savings_amount}.\"}]}\n",
        "{\"messages\": [{\"role\": \"user\", \"content\": \"Can you recommend a good {category}?\"}, {\"role\": \"assistant\", \"content\": \"Our {recommended_item} is popular. It’s {reason}.\"}]}\n",
        "\n",
        "{\"messages\": [{\"role\": \"user\", \"content\": \"I need a {bag_type} bag.\"}, {\"role\": \"assistant\", \"content\": \"Sure! That’ll be an additional {cost}. I’ll add it to your total.\"}]}\n",
        "\n",
        "{\"messages\": [{\"role\": \"user\", \"content\": \"What's in the {item_name} meal?\"}, {\"role\": \"assistant\", \"content\": \"It comes with a {main_item}, {side_item}, {drink_size} and a {description}.\"}, {\"role\": \"user\", \"content\": \"Can I swap the fries for a salad?\"}, {\"role\": \"assistant\", \"content\": \"Yes, there’s no extra charge for that substitution.\"}, {\"role\": \"user\", \"content\": \"Perfect. I'll take the meal then.\"}, {\"role\": \"assistant\", \"content\": \"Would you like to add a dessert for {dessert_price}?\"}, {\"role\": \"user\", \"content\": \"No, I'm good. Thanks!\"}]}\n",
        "\n",
        "{\"messages\": [{\"role\": \"assistant\", \"content\": \"Good afternoon! Would you like a table for how many?\"}, {\"role\": \"user\", \"content\": \"Table for two, please.\"}, {\"role\": \"assistant\", \"content\": \"Right this way. Here's the menu.\"}, {\"role\": \"user\", \"content\": \"Thank you. What’s your recommendation?\"}, {\"role\": \"assistant\", \"content\": \"Our {menu_special} is a favorite.\"}, {\"role\": \"user\", \"content\": \"I’ll have that.\"}, {\"role\": \"assistant\", \"content\": \"Excellent choice! I'll put that in.\"}]}\n",
        "\n",
        "# Removed conv json\n",
        "{\"messages\": [{\"role\": \"assistant\", \"content\": \"How may I help you?\"}, {\"role\": \"user\", \"content\": \"I bought this blender yesterday, but it's not working properly. Can I return it?\"}, {\"role\": \"assistant\", \"content\": \"I'm sorry to hear that. Yes, you can bring it back with the receipt within 30 days for a refund or exchange.\"}]}"
      ]
    },
    {
      "cell_type": "markdown",
      "metadata": {},
      "source": [
        "{\"messages\": [{\"role\": \"user\", \"content\": \"What time do you close today?\"}, {\"role\": \"assistant\", \"content\": \"We close at {closing_time}. You still have a couple of hours to shop.\"}]}"
      ]
    },
    {
      "cell_type": "code",
      "execution_count": null,
      "metadata": {},
      "outputs": [],
      "source": [
        "\n",
        "# Coversation variables\n",
        "{closing_time},\n",
        "{opening_time},\n",
        "{todays_offers}\n",
        "{membership_description}"
      ]
    },
    {
      "cell_type": "markdown",
      "metadata": {},
      "source": [
        "opening artifacts\\cashier_conversations_placeholders_50.jsonl file and editing {item_name_1} (series of item name) to fixed {item_name}"
      ]
    },
    {
      "cell_type": "code",
      "execution_count": 2,
      "metadata": {},
      "outputs": [],
      "source": [
        "import os\n",
        "os.getcwd()\n",
        "os.chdir('C:/Kiosks_')"
      ]
    },
    {
      "cell_type": "code",
      "execution_count": null,
      "metadata": {},
      "outputs": [
        {
          "name": "stdout",
          "output_type": "stream",
          "text": [
            "Sucessfully replaced the item_name_1, item_name_2 AND item_name_3 with item_name\n"
          ]
        }
      ],
      "source": [
        "\n",
        "with open('artifacts\\\\cashier_conversations_placeholders_50.jsonl', 'r') as f:\n",
        "    # for line in f:\n",
        "    #     target_word = line.strip()\n",
        "    #     if target_word in ['{item_name_1}', '{item_name_2}', '{item_name_3}']:\n",
        "    #         item_name = target_word.replace('_1', '').replace('_2', '').replace('_3', '')\n",
        "    #         # print(target_word\n",
        "    lines= f.readlines()\n",
        "    modified_one = []\n",
        "    for line in lines:\n",
        "        modified_one.append(line.replace('{item_name_1}', '{item_name}').replace('{item_name_2}', '{item_name}').replace('{item_name_3}', '{item_name}'))\n",
        "\n",
        "#     Instead of overwriting modified_one each time, store all modified lines in a list and write them together.\n",
        "#     modified_lines = [\n",
        "#     line.replace('{item_name_1}', '{item_name}')\n",
        "#         .replace('{item_name_2}', '{item_name}')\n",
        "#         .replace('{item_name_3}', '{item_name}')\n",
        "#     for line in lines\n",
        "# ]\n",
        "        \n",
        "with open('artifacts\\\\cashier_conversations_placeholders_50.jsonl', 'w') as f:\n",
        "            f.writelines(modified_one)\n",
        "\n",
        "print('Sucessfully replaced the item_name_1, item_name_2 AND item_name_3 with item_name')"
      ]
    },
    {
      "cell_type": "markdown",
      "metadata": {},
      "source": [
        "Editing for diverse conv like item_name_(rand_num)"
      ]
    },
    {
      "cell_type": "code",
      "execution_count": 17,
      "metadata": {},
      "outputs": [
        {
          "name": "stdout",
          "output_type": "stream",
          "text": [
            "Sucessfully replaced the item_name_1, item_name_2 AND item_name_3 with item_name\n"
          ]
        }
      ],
      "source": [
        "import re\n",
        "\n",
        "with open('artifacts\\\\raw_datasets\\\\diverse_cashier_conversations_50.jsonl', 'r') as f:\n",
        "    modified_lines = [re.sub(r'\\{item_name_\\d+\\}', '{item_name}', line) for line in lines]\n",
        "        \n",
        "with open('artifacts\\\\raw_datasets\\\\10_diverse_samples.jsonl', 'w') as f:\n",
        "            f.writelines(modified_one)\n",
        "\n",
        "print('Sucessfully replaced the item_name_1, item_name_2 AND item_name_3 with item_name')"
      ]
    },
    {
      "cell_type": "code",
      "execution_count": 2,
      "metadata": {},
      "outputs": [],
      "source": [
        "import json\n",
        "with open('artifacts\\\\datasets\\\\Dataset.jsonl', 'r')as f:\n",
        "    lines = [json.loads(line.strip()) for line in f]\n",
        "    lines"
      ]
    },
    {
      "cell_type": "code",
      "execution_count": 4,
      "metadata": {},
      "outputs": [],
      "source": [
        "# lines"
      ]
    },
    {
      "cell_type": "code",
      "execution_count": null,
      "metadata": {},
      "outputs": [],
      "source": [
        "from datasets import Dataset\n",
        "\n",
        "def convert_to_prompt(example):\n",
        "    messages = example[\"messages\"]\n",
        "    prompt = \"\"\n",
        "    for msg in messages:\n",
        "        role = msg[\"role\"]\n",
        "        content = msg[\"content\"]\n",
        "        if role == \"user\":\n",
        "            prompt += f\"<|user|>\\n{content}\\n\"\n",
        "        else:\n",
        "            prompt += f\"<|assistant|>\\n{content}\\n\"\n",
        "    return {\"text\": prompt}\n",
        "\n",
        "processed_data = [convert_to_prompt(ex) for ex in data]\n",
        "dataset = Dataset.from_list(processed_data)\n",
        "\n",
        "\n"
      ]
    },
    {
      "cell_type": "code",
      "execution_count": 19,
      "metadata": {},
      "outputs": [
        {
          "data": {
            "text/plain": [
              "Dataset({\n",
              "    features: ['text'],\n",
              "    num_rows: 136\n",
              "})"
            ]
          },
          "execution_count": 19,
          "metadata": {},
          "output_type": "execute_result"
        }
      ],
      "source": [
        "dataset"
      ]
    },
    {
      "cell_type": "code",
      "execution_count": 9,
      "metadata": {},
      "outputs": [],
      "source": [
        "import json\n",
        "\n",
        "with open(\"main\\\\components\\\\menu_maneger\\\\extracted_menu_dir\\\\manual_reviewed_menu_data.json\") as f:\n",
        "    men = json.load(f)"
      ]
    },
    {
      "cell_type": "code",
      "execution_count": 21,
      "metadata": {},
      "outputs": [
        {
          "name": "stdout",
          "output_type": "stream",
          "text": [
            "BOBBLES WITH POPPING BOBA\n"
          ]
        },
        {
          "ename": "KeyError",
          "evalue": "'category'",
          "output_type": "error",
          "traceback": [
            "\u001b[31m---------------------------------------------------------------------------\u001b[39m",
            "\u001b[31mKeyError\u001b[39m                                  Traceback (most recent call last)",
            "\u001b[36mCell\u001b[39m\u001b[36m \u001b[39m\u001b[32mIn[21]\u001b[39m\u001b[32m, line 11\u001b[39m\n\u001b[32m      1\u001b[39m \u001b[38;5;66;03m# all_item_names = []\u001b[39;00m\n\u001b[32m      2\u001b[39m \u001b[38;5;66;03m# for i in men:\u001b[39;00m\n\u001b[32m      3\u001b[39m \u001b[38;5;66;03m#     for j in i['items']:\u001b[39;00m\n\u001b[32m   (...)\u001b[39m\u001b[32m      7\u001b[39m \u001b[38;5;66;03m#         if name:\u001b[39;00m\n\u001b[32m      8\u001b[39m \u001b[38;5;66;03m#             all_item_names.append(name)\u001b[39;00m\n\u001b[32m     10\u001b[39m \u001b[38;5;28;01mfor\u001b[39;00m i \u001b[38;5;129;01min\u001b[39;00m men:\n\u001b[32m---> \u001b[39m\u001b[32m11\u001b[39m     \u001b[38;5;28mprint\u001b[39m(\u001b[43mi\u001b[49m\u001b[43m[\u001b[49m\u001b[33;43m'\u001b[39;49m\u001b[33;43mcategory\u001b[39;49m\u001b[33;43m'\u001b[39;49m\u001b[43m]\u001b[49m)\n",
            "\u001b[31mKeyError\u001b[39m: 'category'"
          ]
        }
      ],
      "source": [
        "# all_item_names = []\n",
        "# for i in men:\n",
        "#     for j in i['items']:\n",
        "#     # for j in men.get('items', []):\n",
        "#         # name = j['item_name']\n",
        "#         name = j.get('item_name')\n",
        "#         if name:\n",
        "#             all_item_names.append(name)\n",
        "\n",
        "for i in men:\n",
        "    print(i['category'])"
      ]
    },
    {
      "cell_type": "code",
      "execution_count": 10,
      "metadata": {},
      "outputs": [],
      "source": [
        "import json\n",
        "\n",
        "datas = []\n",
        "with open('artifacts\\\\datasets\\\\dataset_v2.jsonl', 'r', encoding='utf-8') as jsonl_file:\n",
        "    for line in jsonl_file:\n",
        "        datas.append(json.loads(line))"
      ]
    },
    {
      "cell_type": "code",
      "execution_count": 8,
      "metadata": {},
      "outputs": [],
      "source": [
        "import json\n",
        "\n",
        "datas = []\n",
        "with open('artifacts\\\\datasets\\\\dataset_v2.jsonl', 'r', encoding='utf-8') as jsonl_file:\n",
        "# with open('artifacts\\\\datasets\\\\dup_test.jsonl', 'r') as jsonl_file:\n",
        "    for i, line in enumerate(jsonl_file, 1):\n",
        "        try:\n",
        "            datas.append(json.loads(line))\n",
        "        except json.JSONDecodeError as e:\n",
        "            print(f\"❌ JSON decode error at line {i}: {line.strip()}\")\n",
        "            print(f\"➡️ Error: {e}\")\n",
        "            break\n"
      ]
    },
    {
      "cell_type": "code",
      "execution_count": 9,
      "metadata": {},
      "outputs": [
        {
          "ename": "UnicodeDecodeError",
          "evalue": "'charmap' codec can't decode byte 0x8d in position 4904: character maps to <undefined>",
          "output_type": "error",
          "traceback": [
            "\u001b[31m---------------------------------------------------------------------------\u001b[39m",
            "\u001b[31mUnicodeDecodeError\u001b[39m                        Traceback (most recent call last)",
            "\u001b[36mCell\u001b[39m\u001b[36m \u001b[39m\u001b[32mIn[9]\u001b[39m\u001b[32m, line 5\u001b[39m\n\u001b[32m      3\u001b[39m datas = []\n\u001b[32m      4\u001b[39m \u001b[38;5;28;01mwith\u001b[39;00m \u001b[38;5;28mopen\u001b[39m(\u001b[33m'\u001b[39m\u001b[33martifacts\u001b[39m\u001b[38;5;130;01m\\\\\u001b[39;00m\u001b[33mdatasets\u001b[39m\u001b[38;5;130;01m\\\\\u001b[39;00m\u001b[33mdataset_v2.jsonl\u001b[39m\u001b[33m'\u001b[39m, \u001b[33m'\u001b[39m\u001b[33mr\u001b[39m\u001b[33m'\u001b[39m) \u001b[38;5;28;01mas\u001b[39;00m jsonl_file:\n\u001b[32m----> \u001b[39m\u001b[32m5\u001b[39m \u001b[43m    \u001b[49m\u001b[38;5;28;43;01mfor\u001b[39;49;00m\u001b[43m \u001b[49m\u001b[43mline\u001b[49m\u001b[43m \u001b[49m\u001b[38;5;129;43;01min\u001b[39;49;00m\u001b[43m \u001b[49m\u001b[43mjsonl_file\u001b[49m\u001b[43m:\u001b[49m\n\u001b[32m      6\u001b[39m \u001b[43m        \u001b[49m\u001b[38;5;28;43;01mtry\u001b[39;49;00m\u001b[43m:\u001b[49m\n\u001b[32m      7\u001b[39m \u001b[43m            \u001b[49m\u001b[38;5;66;43;03m# Attempt to load the JSON from the current line\u001b[39;49;00m\n\u001b[32m      8\u001b[39m \u001b[43m            \u001b[49m\u001b[43mdatas\u001b[49m\u001b[43m.\u001b[49m\u001b[43mappend\u001b[49m\u001b[43m(\u001b[49m\u001b[43mjson\u001b[49m\u001b[43m.\u001b[49m\u001b[43mloads\u001b[49m\u001b[43m(\u001b[49m\u001b[43mline\u001b[49m\u001b[43m)\u001b[49m\u001b[43m)\u001b[49m\n",
            "\u001b[36mFile \u001b[39m\u001b[32m~\\AppData\\Local\\Programs\\Python\\Python312\\Lib\\encodings\\cp1252.py:23\u001b[39m, in \u001b[36mIncrementalDecoder.decode\u001b[39m\u001b[34m(self, input, final)\u001b[39m\n\u001b[32m     22\u001b[39m \u001b[38;5;28;01mdef\u001b[39;00m\u001b[38;5;250m \u001b[39m\u001b[34mdecode\u001b[39m(\u001b[38;5;28mself\u001b[39m, \u001b[38;5;28minput\u001b[39m, final=\u001b[38;5;28;01mFalse\u001b[39;00m):\n\u001b[32m---> \u001b[39m\u001b[32m23\u001b[39m     \u001b[38;5;28;01mreturn\u001b[39;00m \u001b[43mcodecs\u001b[49m\u001b[43m.\u001b[49m\u001b[43mcharmap_decode\u001b[49m\u001b[43m(\u001b[49m\u001b[38;5;28;43minput\u001b[39;49m\u001b[43m,\u001b[49m\u001b[38;5;28;43mself\u001b[39;49m\u001b[43m.\u001b[49m\u001b[43merrors\u001b[49m\u001b[43m,\u001b[49m\u001b[43mdecoding_table\u001b[49m\u001b[43m)\u001b[49m[\u001b[32m0\u001b[39m]\n",
            "\u001b[31mUnicodeDecodeError\u001b[39m: 'charmap' codec can't decode byte 0x8d in position 4904: character maps to <undefined>"
          ]
        }
      ],
      "source": [
        "import json\n",
        "\n",
        "datas = []\n",
        "with open('artifacts\\\\datasets\\\\dataset_v2.jsonl', 'r') as jsonl_file:\n",
        "    for line in jsonl_file:\n",
        "        try:\n",
        "            # Attempt to load the JSON from the current line\n",
        "            datas.append(json.loads(line))\n",
        "        except json.JSONDecodeError as e:\n",
        "            # If a JSONDecodeError occurs, print an error message and the problematic line\n",
        "            print(f\"Skipping invalid JSON line: {line.strip()} due to error: {e}\")\n",
        "            # You might want to log this error or handle it differently depending on your needs\n",
        "            continue # Skip to the next line"
      ]
    },
    {
      "cell_type": "markdown",
      "metadata": {},
      "source": [
        "## Converting Multi Line to single line"
      ]
    },
    {
      "cell_type": "code",
      "execution_count": 4,
      "metadata": {},
      "outputs": [
        {
          "name": "stdout",
          "output_type": "stream",
          "text": [
            "⚠️ Incomplete JSON left at end of file (not written).\n",
            "\n",
            "✅ Finished: 0 JSON objects written, 1 errors.\n"
          ]
        }
      ],
      "source": [
        "import json\n",
        "\n",
        "input_file = \"artifacts\\\\datasets\\\\dataset_v2.jsonl\"   # Your current multi-line JSON file\n",
        "output_file = \"artifacts\\\\datasets\\\\fixed_dataset.jsonl\"  # Desired clean .jsonl file\n",
        "\n",
        "buffer = \"\"\n",
        "valid_count = 0\n",
        "error_count = 0\n",
        "\n",
        "def try_parse_json(text):\n",
        "    try:\n",
        "        return json.loads(text)\n",
        "    except json.JSONDecodeError:\n",
        "        return None\n",
        "\n",
        "with open(input_file, \"r\", encoding=\"utf-8\") as infile, open(output_file, \"w\", encoding=\"utf-8\") as outfile:\n",
        "    for line in infile:\n",
        "        # Skip empty or whitespace-only lines\n",
        "        if not line.strip():\n",
        "            continue\n",
        "\n",
        "        buffer += line\n",
        "\n",
        "        # Try to parse current buffer\n",
        "        parsed = try_parse_json(buffer)\n",
        "        if parsed is not None:\n",
        "            json.dump(parsed, outfile, ensure_ascii=False)\n",
        "            outfile.write(\"\\n\")\n",
        "            valid_count += 1\n",
        "            buffer = \"\"  # Reset for the next object\n",
        "\n",
        "    if buffer.strip():\n",
        "        print(\"⚠️ Incomplete JSON left at end of file (not written).\")\n",
        "        error_count += 1\n",
        "\n",
        "print(f\"\\n✅ Finished: {valid_count} JSON objects written, {error_count} errors.\")"
      ]
    },
    {
      "cell_type": "code",
      "execution_count": 9,
      "metadata": {},
      "outputs": [
        {
          "name": "stdout",
          "output_type": "stream",
          "text": [
            "🍽️ MENU\n",
            "\n",
            "🔸 All day Breakfast\n",
            " - Akki Roti - ₹111 (Delicious flat bread made from rice flour served with our speciality chutney pudi)\n",
            " - Butter Khali Dosa Double - ₹151\n",
            " - Butter Khali Dosa Single - ₹87\n",
            " - Butter Masala Dosa - ₹165 (Unfolded masala dosa served with sagu and chutney)\n",
            " - Butter Plain Dose - ₹143\n",
            " - Ghee Khali Dosa Double - ₹140\n",
            " - Ghee Khali Dosa Single - ₹80\n",
            " - Ghee Masala Dosa - ₹165 (Crispy crepe made of fermented rice and lentil batter with flavourful spiced seasoned)\n",
            " - Ghee Plain Dosa - ₹143 (Crispy crepe made of fermented rice and lentil batter, topped with chutney pudi)\n",
            " - Khali Dosa Double - ₹115 (Light and fluffy dosae served with sagu & chutney)\n",
            " - Khali Dosa Single - ₹76 (Light and fluffy dosae served with sagu & chutney)\n",
            " - Masala Dosa - ₹140 (Crispy crepe made of fermented rice and lentil batter with flavourful spiced seasoned)\n",
            " - Onion Uttappam - ₹137 (Plain dosae with sweet onions, finely chopped green chillies and curry leaves served)\n",
            " - Open Butter Masala Dosa - ₹165 (Unfolded masala dosa served with sagu and chutney)\n",
            " - Plain Dosa - ₹120 (Crispy crepe made of fermented rice and lentil batter, topped with chutney pudi)\n",
            " - Pudi Dosa - ₹135 (Crispy crepe made of fermented rice and lentil batter, topped with chutney pudi)\n",
            " - Ragi Dosa Double - ₹115 (A healthy and delicious crepe prepared with finger millet served with sagu and)\n",
            " - Ragi Dosa Single - ₹60 (A healthy and delicious crepe prepared with finger millet served with sagu and)\n",
            " - Rava Masala Dosa - ₹140 (A thin netted savoury crepe made of sooji, rice flour, maida and water)\n",
            " - Rava Onion Dosa - ₹150 (Crispy netted crepes made with semolina, rice flour, onions and finely chopped green)\n",
            " - Rava Plain Dosa - ₹120 (Crisp aromatic crepes made with semolina, cumin, ginger, coriander leaves and green chilies)\n",
            " - Set Dosa - ₹130 (Soft, light and spongy dosa)\n",
            " - Spl Garlic Masala Dosa - ₹180\n",
            " - Ghee Masala Thatte Idly - ₹120 (Melt in the mouth steamed cakes made with a fermented batter of rice)\n",
            " - Ghee Thatte Idly - ₹98 (Melt in the mouth steamed cakes made with a fermented batter of rice)\n",
            " - Idly (2 Pcs) - ₹52 (Classic Tari Idly served with traditional coconut chutney)\n",
            " - Plain Thatte Idly - ₹59 (Melt in the mouth steamed cakes made with a fermented batter of rice)\n",
            " - Tawa Idly - ₹130\n",
            " - Ghee Pongal - ₹125 (A Classic Combination of Rice & Dal with goodness of Ghee)\n",
            " - Ghee Set Dosa - ₹145 (Soft, light and spongy dosa made with ghee)\n",
            " - Poori - ₹99\n",
            " - Ragi Roti - ₹111 (A Healthy, tasty gluten free flat bread made from finger millet served with)\n",
            " - Maddur Vada - ₹38\n",
            " - Masala Vada [2 Pcs] - ₹45 (Popular South Indian Fritter made with Chana Dal, Onion, Spices & herbs, served)\n",
            " - Vada - ₹58 (Crispy doughnut shaped fritters made from lentils served with sambhar and chutney)\n",
            "\n",
            "🔸 Uttapam\n",
            " - Onion Uttappam - ₹137 (Plain dosae with sweet onions, finely chopped green chillies and curry leaves served)\n",
            " - Tomato Uttapam - ₹137 (Savoury pancakes with crispy golden edges and a pillowy soft centre topped with)\n",
            "\n",
            "🔸 Lunch\n",
            " - Bisibele Bhath - ₹115 (A delicious and healthy complete meal of rice, lentils and vegetables. Served with)\n",
            " - Combo Rice - ₹140 (Choice Of Any 2 Rice [Lemon Rice, Puliyogare, Bisi Bele Bhath, Curd Rice])\n",
            " - Curd Rice - ₹90 (Soft cooked mushy rice mixed with curd and salt, finished off with tempering)\n",
            " - Lemon Rice - ₹90 (A rice preparation enhanced with distinct flavours of lemon juice, curry leaves, turmeric)\n",
            " - Mix Rice - ₹85 (Choice of any 1 rice lemon rice, puliyogare, bisi bele bhath, curd rice)\n",
            " - Pudi Rice - ₹151 (Rice flavoured with our signature chutney Pudi)\n",
            " - Puliyogare - ₹105 (Authentic and traditional rice made with tamarind extract and dry spices)\n",
            "\n",
            "🔸 Meals\n",
            " - Mini Meals - ₹104 (Rice, Sambar ,Rasam, Paliya, Papad)\n",
            " - South Indian Meal - ₹165\n",
            "\n",
            "🎁 OFFERS\n",
            " - Flat ₹100 Off on above 599\n",
            " - Flat 50% Off on above 2999\n",
            " - 20% off on 1999\n",
            "\n",
            "💳 PAYMENT METHODS\n",
            " - Cash\n",
            " - Online Payment\n",
            " - UPI Payment\n",
            " - Card Payment\n"
          ]
        }
      ],
      "source": [
        "import json\n",
        "\n",
        "def convert_menu_to_string(menu_data):\n",
        "    menu_context = menu_data[\"messages\"][0][\"content\"][\"MENU_CONTEXT\"]\n",
        "    \n",
        "    result = []\n",
        "\n",
        "    # Food Items by Category\n",
        "    result.append(\"🍽️ MENU\")\n",
        "    for category_data in menu_context[\"food_items\"]:\n",
        "        category = category_data[\"category\"]\n",
        "        result.append(f\"\\n🔸 {category}\")\n",
        "        for item in category_data[\"items\"]:\n",
        "            item_name = item[\"item_name\"]\n",
        "            price = item[\"price\"]\n",
        "            description = item.get(\"description\", \"\")\n",
        "            line = f\" - {item_name} - ₹{price}\"\n",
        "            if description:\n",
        "                line += f\" ({description})\"\n",
        "            result.append(line)\n",
        "    \n",
        "    # Offers\n",
        "    offers = menu_context.get(\"offers\", [])\n",
        "    if offers:\n",
        "        result.append(\"\\n🎁 OFFERS\")\n",
        "        for offer in offers:\n",
        "            result.append(f\" - {offer}\")\n",
        "\n",
        "    # Recommended Items\n",
        "    recommended = menu_context.get(\"recommended_items\", [])\n",
        "    if recommended:\n",
        "        result.append(\"\\n⭐ RECOMMENDED\")\n",
        "        for rec in recommended:\n",
        "            result.append(f\" - {rec}\")\n",
        "    \n",
        "    # Payment Methods\n",
        "    payment = menu_context.get(\"payment_methods\", [])\n",
        "    if payment:\n",
        "        result.append(\"\\n💳 PAYMENT METHODS\")\n",
        "        for pay in payment:\n",
        "            result.append(f\" - {pay}\")\n",
        "    \n",
        "    # Special Menus\n",
        "    specials = menu_context.get(\"special_menu's\", [])\n",
        "    if specials:\n",
        "        result.append(\"\\n🌟 SPECIAL MENUS\")\n",
        "        for item in specials:\n",
        "            result.append(f\" - {item}\")\n",
        "\n",
        "    return \"\\n\".join(result)\n",
        "\n",
        "# Load your data (paste your JSON content as a string here)\n",
        "import os\n",
        "os.makedirs('main\\\\components\\\\data_preprocessing', exist_ok=True)\n",
        "\n",
        "with open(\"main/components/data_preprocessing/dlt.jsonl\", \"r\", encoding=\"utf-8\") as f:\n",
        "    for line in f:\n",
        "        data = json.loads(line)\n",
        "        menu_string = convert_menu_to_string(data)\n",
        "        print(menu_string)\n"
      ]
    },
    {
      "cell_type": "markdown",
      "metadata": {},
      "source": [
        "### code for editing / string in menu_context to make a single string instead of json"
      ]
    },
    {
      "cell_type": "code",
      "execution_count": 8,
      "metadata": {},
      "outputs": [],
      "source": [
        "# import json, re\n",
        "# with open('artifacts\\\\datasets\\\\dlt.jsonl') as f:\n",
        "#     for lines in f:\n",
        "#         # data = json.loads(lines)\n",
        "#         quatation = re.sub(r'\"',r'\\\"', lines)\n",
        "#         # write_file.write(quatation)\n",
        "#         print(quatation)\n",
        "import json\n",
        "import re\n",
        "\n",
        "# Read and modify content\n",
        "with open('artifacts\\\\datasets\\\\dlt.jsonl', 'r') as f:\n",
        "    modified_lines = [re.sub(r'\"', r'\\\\\"', line) for line in f]\n",
        "\n",
        "# Write back to the same file\n",
        "with open('artifacts\\\\datasets\\\\dlt.jsonl', 'w') as f:\n",
        "    f.writelines(modified_lines)\n"
      ]
    },
    {
      "cell_type": "code",
      "execution_count": null,
      "metadata": {},
      "outputs": [],
      "source": [
        "import json\n",
        "import re\n",
        "\n",
        "# Read and modify content\n",
        "with open('artifacts\\\\datasets\\\\dlt.jsonl', 'r') as f:\n",
        "    modified_lines = [re.sub(r'\"', r'\\\\\"', line) for line in f]\n",
        "\n",
        "# Write back to the same file\n",
        "with open('artifacts\\\\datasets\\\\dlt.jsonl', 'w') as f:\n",
        "    f.writelines(modified_lines)\n"
      ]
    }
  ],
  "metadata": {
    "colab": {
      "provenance": []
    },
    "kernelspec": {
      "display_name": "myenv",
      "language": "python",
      "name": "python3"
    },
    "language_info": {
      "codemirror_mode": {
        "name": "ipython",
        "version": 3
      },
      "file_extension": ".py",
      "mimetype": "text/x-python",
      "name": "python",
      "nbconvert_exporter": "python",
      "pygments_lexer": "ipython3",
      "version": "3.12.0"
    },
    "widgets": {
      "application/vnd.jupyter.widget-state+json": {
        "00e2757a104c4324bd87692b2df7cbe7": {
          "model_module": "@jupyter-widgets/base",
          "model_module_version": "1.2.0",
          "model_name": "LayoutModel",
          "state": {
            "_model_module": "@jupyter-widgets/base",
            "_model_module_version": "1.2.0",
            "_model_name": "LayoutModel",
            "_view_count": null,
            "_view_module": "@jupyter-widgets/base",
            "_view_module_version": "1.2.0",
            "_view_name": "LayoutView",
            "align_content": null,
            "align_items": null,
            "align_self": null,
            "border": null,
            "bottom": null,
            "display": null,
            "flex": null,
            "flex_flow": null,
            "grid_area": null,
            "grid_auto_columns": null,
            "grid_auto_flow": null,
            "grid_auto_rows": null,
            "grid_column": null,
            "grid_gap": null,
            "grid_row": null,
            "grid_template_areas": null,
            "grid_template_columns": null,
            "grid_template_rows": null,
            "height": null,
            "justify_content": null,
            "justify_items": null,
            "left": null,
            "margin": null,
            "max_height": null,
            "max_width": null,
            "min_height": null,
            "min_width": null,
            "object_fit": null,
            "object_position": null,
            "order": null,
            "overflow": null,
            "overflow_x": null,
            "overflow_y": null,
            "padding": null,
            "right": null,
            "top": null,
            "visibility": null,
            "width": null
          }
        },
        "07a8b71cf2ff43e095c58c184990fabe": {
          "model_module": "@jupyter-widgets/base",
          "model_module_version": "1.2.0",
          "model_name": "LayoutModel",
          "state": {
            "_model_module": "@jupyter-widgets/base",
            "_model_module_version": "1.2.0",
            "_model_name": "LayoutModel",
            "_view_count": null,
            "_view_module": "@jupyter-widgets/base",
            "_view_module_version": "1.2.0",
            "_view_name": "LayoutView",
            "align_content": null,
            "align_items": null,
            "align_self": null,
            "border": null,
            "bottom": null,
            "display": null,
            "flex": null,
            "flex_flow": null,
            "grid_area": null,
            "grid_auto_columns": null,
            "grid_auto_flow": null,
            "grid_auto_rows": null,
            "grid_column": null,
            "grid_gap": null,
            "grid_row": null,
            "grid_template_areas": null,
            "grid_template_columns": null,
            "grid_template_rows": null,
            "height": null,
            "justify_content": null,
            "justify_items": null,
            "left": null,
            "margin": null,
            "max_height": null,
            "max_width": null,
            "min_height": null,
            "min_width": null,
            "object_fit": null,
            "object_position": null,
            "order": null,
            "overflow": null,
            "overflow_x": null,
            "overflow_y": null,
            "padding": null,
            "right": null,
            "top": null,
            "visibility": null,
            "width": null
          }
        },
        "08d1e58458af4b32ad97047d56c7c963": {
          "model_module": "@jupyter-widgets/controls",
          "model_module_version": "1.5.0",
          "model_name": "FloatProgressModel",
          "state": {
            "_dom_classes": [],
            "_model_module": "@jupyter-widgets/controls",
            "_model_module_version": "1.5.0",
            "_model_name": "FloatProgressModel",
            "_view_count": null,
            "_view_module": "@jupyter-widgets/controls",
            "_view_module_version": "1.5.0",
            "_view_name": "ProgressView",
            "bar_style": "success",
            "description": "",
            "description_tooltip": null,
            "layout": "IPY_MODEL_07a8b71cf2ff43e095c58c184990fabe",
            "max": 100,
            "min": 0,
            "orientation": "horizontal",
            "style": "IPY_MODEL_26b1b06f2cda4c2999fed03717293ab9",
            "value": 100
          }
        },
        "0f80c9cd37cf4f21b006d510225a5723": {
          "model_module": "@jupyter-widgets/controls",
          "model_module_version": "1.5.0",
          "model_name": "DescriptionStyleModel",
          "state": {
            "_model_module": "@jupyter-widgets/controls",
            "_model_module_version": "1.5.0",
            "_model_name": "DescriptionStyleModel",
            "_view_count": null,
            "_view_module": "@jupyter-widgets/base",
            "_view_module_version": "1.2.0",
            "_view_name": "StyleView",
            "description_width": ""
          }
        },
        "26b1b06f2cda4c2999fed03717293ab9": {
          "model_module": "@jupyter-widgets/controls",
          "model_module_version": "1.5.0",
          "model_name": "ProgressStyleModel",
          "state": {
            "_model_module": "@jupyter-widgets/controls",
            "_model_module_version": "1.5.0",
            "_model_name": "ProgressStyleModel",
            "_view_count": null,
            "_view_module": "@jupyter-widgets/base",
            "_view_module_version": "1.2.0",
            "_view_name": "StyleView",
            "bar_color": null,
            "description_width": ""
          }
        },
        "2b768acd52bc4af29ab82df3ca5eea58": {
          "model_module": "@jupyter-widgets/controls",
          "model_module_version": "1.5.0",
          "model_name": "HTMLModel",
          "state": {
            "_dom_classes": [],
            "_model_module": "@jupyter-widgets/controls",
            "_model_module_version": "1.5.0",
            "_model_name": "HTMLModel",
            "_view_count": null,
            "_view_module": "@jupyter-widgets/controls",
            "_view_module_version": "1.5.0",
            "_view_name": "HTMLView",
            "description": "",
            "description_tooltip": null,
            "layout": "IPY_MODEL_abbc038d3e30416c93281e49527714d4",
            "placeholder": "​",
            "style": "IPY_MODEL_0f80c9cd37cf4f21b006d510225a5723",
            "value": " 4.65k/4.65k [00:00&lt;00:00, 401kB/s]"
          }
        },
        "2cda546c4636433caf48e9aefb52968c": {
          "model_module": "@jupyter-widgets/controls",
          "model_module_version": "1.5.0",
          "model_name": "HTMLModel",
          "state": {
            "_dom_classes": [],
            "_model_module": "@jupyter-widgets/controls",
            "_model_module_version": "1.5.0",
            "_model_name": "HTMLModel",
            "_view_count": null,
            "_view_module": "@jupyter-widgets/controls",
            "_view_module_version": "1.5.0",
            "_view_name": "HTMLView",
            "description": "",
            "description_tooltip": null,
            "layout": "IPY_MODEL_5cd4796d9b4e45a79476a882082c7670",
            "placeholder": "​",
            "style": "IPY_MODEL_84a97ff6c4794c3c86f20c604feb80e6",
            "value": "README.md: 100%"
          }
        },
        "3a85230b34294f65966978b853443fde": {
          "model_module": "@jupyter-widgets/controls",
          "model_module_version": "1.5.0",
          "model_name": "DescriptionStyleModel",
          "state": {
            "_model_module": "@jupyter-widgets/controls",
            "_model_module_version": "1.5.0",
            "_model_name": "DescriptionStyleModel",
            "_view_count": null,
            "_view_module": "@jupyter-widgets/base",
            "_view_module_version": "1.2.0",
            "_view_name": "StyleView",
            "description_width": ""
          }
        },
        "4bf1ec96573f4f6fa505ee5310ac32e3": {
          "model_module": "@jupyter-widgets/controls",
          "model_module_version": "1.5.0",
          "model_name": "FloatProgressModel",
          "state": {
            "_dom_classes": [],
            "_model_module": "@jupyter-widgets/controls",
            "_model_module_version": "1.5.0",
            "_model_name": "FloatProgressModel",
            "_view_count": null,
            "_view_module": "@jupyter-widgets/controls",
            "_view_module_version": "1.5.0",
            "_view_name": "ProgressView",
            "bar_style": "success",
            "description": "",
            "description_tooltip": null,
            "layout": "IPY_MODEL_00e2757a104c4324bd87692b2df7cbe7",
            "max": 4651,
            "min": 0,
            "orientation": "horizontal",
            "style": "IPY_MODEL_efe8cd0386a3406eb911c38665d84a7f",
            "value": 4651
          }
        },
        "51d26b3086e544279008306f8b52b489": {
          "model_module": "@jupyter-widgets/base",
          "model_module_version": "1.2.0",
          "model_name": "LayoutModel",
          "state": {
            "_model_module": "@jupyter-widgets/base",
            "_model_module_version": "1.2.0",
            "_model_name": "LayoutModel",
            "_view_count": null,
            "_view_module": "@jupyter-widgets/base",
            "_view_module_version": "1.2.0",
            "_view_name": "LayoutView",
            "align_content": null,
            "align_items": null,
            "align_self": null,
            "border": null,
            "bottom": null,
            "display": null,
            "flex": null,
            "flex_flow": null,
            "grid_area": null,
            "grid_auto_columns": null,
            "grid_auto_flow": null,
            "grid_auto_rows": null,
            "grid_column": null,
            "grid_gap": null,
            "grid_row": null,
            "grid_template_areas": null,
            "grid_template_columns": null,
            "grid_template_rows": null,
            "height": null,
            "justify_content": null,
            "justify_items": null,
            "left": null,
            "margin": null,
            "max_height": null,
            "max_width": null,
            "min_height": null,
            "min_width": null,
            "object_fit": null,
            "object_position": null,
            "order": null,
            "overflow": null,
            "overflow_x": null,
            "overflow_y": null,
            "padding": null,
            "right": null,
            "top": null,
            "visibility": null,
            "width": null
          }
        },
        "57163b21521d4710bf30a4bb6c79348f": {
          "model_module": "@jupyter-widgets/base",
          "model_module_version": "1.2.0",
          "model_name": "LayoutModel",
          "state": {
            "_model_module": "@jupyter-widgets/base",
            "_model_module_version": "1.2.0",
            "_model_name": "LayoutModel",
            "_view_count": null,
            "_view_module": "@jupyter-widgets/base",
            "_view_module_version": "1.2.0",
            "_view_name": "LayoutView",
            "align_content": null,
            "align_items": null,
            "align_self": null,
            "border": null,
            "bottom": null,
            "display": null,
            "flex": null,
            "flex_flow": null,
            "grid_area": null,
            "grid_auto_columns": null,
            "grid_auto_flow": null,
            "grid_auto_rows": null,
            "grid_column": null,
            "grid_gap": null,
            "grid_row": null,
            "grid_template_areas": null,
            "grid_template_columns": null,
            "grid_template_rows": null,
            "height": null,
            "justify_content": null,
            "justify_items": null,
            "left": null,
            "margin": null,
            "max_height": null,
            "max_width": null,
            "min_height": null,
            "min_width": null,
            "object_fit": null,
            "object_position": null,
            "order": null,
            "overflow": null,
            "overflow_x": null,
            "overflow_y": null,
            "padding": null,
            "right": null,
            "top": null,
            "visibility": null,
            "width": null
          }
        },
        "58bfd4a272f6438086f2a0f0d0e9a846": {
          "model_module": "@jupyter-widgets/controls",
          "model_module_version": "1.5.0",
          "model_name": "DescriptionStyleModel",
          "state": {
            "_model_module": "@jupyter-widgets/controls",
            "_model_module_version": "1.5.0",
            "_model_name": "DescriptionStyleModel",
            "_view_count": null,
            "_view_module": "@jupyter-widgets/base",
            "_view_module_version": "1.2.0",
            "_view_name": "StyleView",
            "description_width": ""
          }
        },
        "5cd4796d9b4e45a79476a882082c7670": {
          "model_module": "@jupyter-widgets/base",
          "model_module_version": "1.2.0",
          "model_name": "LayoutModel",
          "state": {
            "_model_module": "@jupyter-widgets/base",
            "_model_module_version": "1.2.0",
            "_model_name": "LayoutModel",
            "_view_count": null,
            "_view_module": "@jupyter-widgets/base",
            "_view_module_version": "1.2.0",
            "_view_name": "LayoutView",
            "align_content": null,
            "align_items": null,
            "align_self": null,
            "border": null,
            "bottom": null,
            "display": null,
            "flex": null,
            "flex_flow": null,
            "grid_area": null,
            "grid_auto_columns": null,
            "grid_auto_flow": null,
            "grid_auto_rows": null,
            "grid_column": null,
            "grid_gap": null,
            "grid_row": null,
            "grid_template_areas": null,
            "grid_template_columns": null,
            "grid_template_rows": null,
            "height": null,
            "justify_content": null,
            "justify_items": null,
            "left": null,
            "margin": null,
            "max_height": null,
            "max_width": null,
            "min_height": null,
            "min_width": null,
            "object_fit": null,
            "object_position": null,
            "order": null,
            "overflow": null,
            "overflow_x": null,
            "overflow_y": null,
            "padding": null,
            "right": null,
            "top": null,
            "visibility": null,
            "width": null
          }
        },
        "5f568d1b0d8e4e568bcc89ae97ad0c84": {
          "model_module": "@jupyter-widgets/controls",
          "model_module_version": "1.5.0",
          "model_name": "FloatProgressModel",
          "state": {
            "_dom_classes": [],
            "_model_module": "@jupyter-widgets/controls",
            "_model_module_version": "1.5.0",
            "_model_name": "FloatProgressModel",
            "_view_count": null,
            "_view_module": "@jupyter-widgets/controls",
            "_view_module_version": "1.5.0",
            "_view_name": "ProgressView",
            "bar_style": "success",
            "description": "",
            "description_tooltip": null,
            "layout": "IPY_MODEL_bc7db339c0dc466893da7c66b53e14c5",
            "max": 19023,
            "min": 0,
            "orientation": "horizontal",
            "style": "IPY_MODEL_e5b15e6c453f4440ab8078f924fa1fed",
            "value": 19023
          }
        },
        "60aeee2d4180485baaba26074cf5c07a": {
          "model_module": "@jupyter-widgets/controls",
          "model_module_version": "1.5.0",
          "model_name": "HTMLModel",
          "state": {
            "_dom_classes": [],
            "_model_module": "@jupyter-widgets/controls",
            "_model_module_version": "1.5.0",
            "_model_name": "HTMLModel",
            "_view_count": null,
            "_view_module": "@jupyter-widgets/controls",
            "_view_module_version": "1.5.0",
            "_view_name": "HTMLView",
            "description": "",
            "description_tooltip": null,
            "layout": "IPY_MODEL_51d26b3086e544279008306f8b52b489",
            "placeholder": "​",
            "style": "IPY_MODEL_e85bbbf4c64a4905a136c079713b61c0",
            "value": "grocery_cashier.csv: 100%"
          }
        },
        "6349b94368f94a4c87c447464e42deb3": {
          "model_module": "@jupyter-widgets/controls",
          "model_module_version": "1.5.0",
          "model_name": "HBoxModel",
          "state": {
            "_dom_classes": [],
            "_model_module": "@jupyter-widgets/controls",
            "_model_module_version": "1.5.0",
            "_model_name": "HBoxModel",
            "_view_count": null,
            "_view_module": "@jupyter-widgets/controls",
            "_view_module_version": "1.5.0",
            "_view_name": "HBoxView",
            "box_style": "",
            "children": [
              "IPY_MODEL_60aeee2d4180485baaba26074cf5c07a",
              "IPY_MODEL_5f568d1b0d8e4e568bcc89ae97ad0c84",
              "IPY_MODEL_f739e957697e4f6e917028c509c52cfd"
            ],
            "layout": "IPY_MODEL_9fc7224ad5764fb8bd0ae0a4a9aaa508"
          }
        },
        "6da9b654114b4c179151c57bb717f18a": {
          "model_module": "@jupyter-widgets/base",
          "model_module_version": "1.2.0",
          "model_name": "LayoutModel",
          "state": {
            "_model_module": "@jupyter-widgets/base",
            "_model_module_version": "1.2.0",
            "_model_name": "LayoutModel",
            "_view_count": null,
            "_view_module": "@jupyter-widgets/base",
            "_view_module_version": "1.2.0",
            "_view_name": "LayoutView",
            "align_content": null,
            "align_items": null,
            "align_self": null,
            "border": null,
            "bottom": null,
            "display": null,
            "flex": null,
            "flex_flow": null,
            "grid_area": null,
            "grid_auto_columns": null,
            "grid_auto_flow": null,
            "grid_auto_rows": null,
            "grid_column": null,
            "grid_gap": null,
            "grid_row": null,
            "grid_template_areas": null,
            "grid_template_columns": null,
            "grid_template_rows": null,
            "height": null,
            "justify_content": null,
            "justify_items": null,
            "left": null,
            "margin": null,
            "max_height": null,
            "max_width": null,
            "min_height": null,
            "min_width": null,
            "object_fit": null,
            "object_position": null,
            "order": null,
            "overflow": null,
            "overflow_x": null,
            "overflow_y": null,
            "padding": null,
            "right": null,
            "top": null,
            "visibility": null,
            "width": null
          }
        },
        "84a97ff6c4794c3c86f20c604feb80e6": {
          "model_module": "@jupyter-widgets/controls",
          "model_module_version": "1.5.0",
          "model_name": "DescriptionStyleModel",
          "state": {
            "_model_module": "@jupyter-widgets/controls",
            "_model_module_version": "1.5.0",
            "_model_name": "DescriptionStyleModel",
            "_view_count": null,
            "_view_module": "@jupyter-widgets/base",
            "_view_module_version": "1.2.0",
            "_view_name": "StyleView",
            "description_width": ""
          }
        },
        "8a8318372a354321a92416b6ca919a0e": {
          "model_module": "@jupyter-widgets/base",
          "model_module_version": "1.2.0",
          "model_name": "LayoutModel",
          "state": {
            "_model_module": "@jupyter-widgets/base",
            "_model_module_version": "1.2.0",
            "_model_name": "LayoutModel",
            "_view_count": null,
            "_view_module": "@jupyter-widgets/base",
            "_view_module_version": "1.2.0",
            "_view_name": "LayoutView",
            "align_content": null,
            "align_items": null,
            "align_self": null,
            "border": null,
            "bottom": null,
            "display": null,
            "flex": null,
            "flex_flow": null,
            "grid_area": null,
            "grid_auto_columns": null,
            "grid_auto_flow": null,
            "grid_auto_rows": null,
            "grid_column": null,
            "grid_gap": null,
            "grid_row": null,
            "grid_template_areas": null,
            "grid_template_columns": null,
            "grid_template_rows": null,
            "height": null,
            "justify_content": null,
            "justify_items": null,
            "left": null,
            "margin": null,
            "max_height": null,
            "max_width": null,
            "min_height": null,
            "min_width": null,
            "object_fit": null,
            "object_position": null,
            "order": null,
            "overflow": null,
            "overflow_x": null,
            "overflow_y": null,
            "padding": null,
            "right": null,
            "top": null,
            "visibility": null,
            "width": null
          }
        },
        "93218b5a22c24030a26eaaa2d7f0800c": {
          "model_module": "@jupyter-widgets/base",
          "model_module_version": "1.2.0",
          "model_name": "LayoutModel",
          "state": {
            "_model_module": "@jupyter-widgets/base",
            "_model_module_version": "1.2.0",
            "_model_name": "LayoutModel",
            "_view_count": null,
            "_view_module": "@jupyter-widgets/base",
            "_view_module_version": "1.2.0",
            "_view_name": "LayoutView",
            "align_content": null,
            "align_items": null,
            "align_self": null,
            "border": null,
            "bottom": null,
            "display": null,
            "flex": null,
            "flex_flow": null,
            "grid_area": null,
            "grid_auto_columns": null,
            "grid_auto_flow": null,
            "grid_auto_rows": null,
            "grid_column": null,
            "grid_gap": null,
            "grid_row": null,
            "grid_template_areas": null,
            "grid_template_columns": null,
            "grid_template_rows": null,
            "height": null,
            "justify_content": null,
            "justify_items": null,
            "left": null,
            "margin": null,
            "max_height": null,
            "max_width": null,
            "min_height": null,
            "min_width": null,
            "object_fit": null,
            "object_position": null,
            "order": null,
            "overflow": null,
            "overflow_x": null,
            "overflow_y": null,
            "padding": null,
            "right": null,
            "top": null,
            "visibility": null,
            "width": null
          }
        },
        "9fc7224ad5764fb8bd0ae0a4a9aaa508": {
          "model_module": "@jupyter-widgets/base",
          "model_module_version": "1.2.0",
          "model_name": "LayoutModel",
          "state": {
            "_model_module": "@jupyter-widgets/base",
            "_model_module_version": "1.2.0",
            "_model_name": "LayoutModel",
            "_view_count": null,
            "_view_module": "@jupyter-widgets/base",
            "_view_module_version": "1.2.0",
            "_view_name": "LayoutView",
            "align_content": null,
            "align_items": null,
            "align_self": null,
            "border": null,
            "bottom": null,
            "display": null,
            "flex": null,
            "flex_flow": null,
            "grid_area": null,
            "grid_auto_columns": null,
            "grid_auto_flow": null,
            "grid_auto_rows": null,
            "grid_column": null,
            "grid_gap": null,
            "grid_row": null,
            "grid_template_areas": null,
            "grid_template_columns": null,
            "grid_template_rows": null,
            "height": null,
            "justify_content": null,
            "justify_items": null,
            "left": null,
            "margin": null,
            "max_height": null,
            "max_width": null,
            "min_height": null,
            "min_width": null,
            "object_fit": null,
            "object_position": null,
            "order": null,
            "overflow": null,
            "overflow_x": null,
            "overflow_y": null,
            "padding": null,
            "right": null,
            "top": null,
            "visibility": null,
            "width": null
          }
        },
        "abbc038d3e30416c93281e49527714d4": {
          "model_module": "@jupyter-widgets/base",
          "model_module_version": "1.2.0",
          "model_name": "LayoutModel",
          "state": {
            "_model_module": "@jupyter-widgets/base",
            "_model_module_version": "1.2.0",
            "_model_name": "LayoutModel",
            "_view_count": null,
            "_view_module": "@jupyter-widgets/base",
            "_view_module_version": "1.2.0",
            "_view_name": "LayoutView",
            "align_content": null,
            "align_items": null,
            "align_self": null,
            "border": null,
            "bottom": null,
            "display": null,
            "flex": null,
            "flex_flow": null,
            "grid_area": null,
            "grid_auto_columns": null,
            "grid_auto_flow": null,
            "grid_auto_rows": null,
            "grid_column": null,
            "grid_gap": null,
            "grid_row": null,
            "grid_template_areas": null,
            "grid_template_columns": null,
            "grid_template_rows": null,
            "height": null,
            "justify_content": null,
            "justify_items": null,
            "left": null,
            "margin": null,
            "max_height": null,
            "max_width": null,
            "min_height": null,
            "min_width": null,
            "object_fit": null,
            "object_position": null,
            "order": null,
            "overflow": null,
            "overflow_x": null,
            "overflow_y": null,
            "padding": null,
            "right": null,
            "top": null,
            "visibility": null,
            "width": null
          }
        },
        "af7c7efc23b440039ee789043e1e84cf": {
          "model_module": "@jupyter-widgets/controls",
          "model_module_version": "1.5.0",
          "model_name": "HBoxModel",
          "state": {
            "_dom_classes": [],
            "_model_module": "@jupyter-widgets/controls",
            "_model_module_version": "1.5.0",
            "_model_name": "HBoxModel",
            "_view_count": null,
            "_view_module": "@jupyter-widgets/controls",
            "_view_module_version": "1.5.0",
            "_view_name": "HBoxView",
            "box_style": "",
            "children": [
              "IPY_MODEL_2cda546c4636433caf48e9aefb52968c",
              "IPY_MODEL_4bf1ec96573f4f6fa505ee5310ac32e3",
              "IPY_MODEL_2b768acd52bc4af29ab82df3ca5eea58"
            ],
            "layout": "IPY_MODEL_8a8318372a354321a92416b6ca919a0e"
          }
        },
        "bc7db339c0dc466893da7c66b53e14c5": {
          "model_module": "@jupyter-widgets/base",
          "model_module_version": "1.2.0",
          "model_name": "LayoutModel",
          "state": {
            "_model_module": "@jupyter-widgets/base",
            "_model_module_version": "1.2.0",
            "_model_name": "LayoutModel",
            "_view_count": null,
            "_view_module": "@jupyter-widgets/base",
            "_view_module_version": "1.2.0",
            "_view_name": "LayoutView",
            "align_content": null,
            "align_items": null,
            "align_self": null,
            "border": null,
            "bottom": null,
            "display": null,
            "flex": null,
            "flex_flow": null,
            "grid_area": null,
            "grid_auto_columns": null,
            "grid_auto_flow": null,
            "grid_auto_rows": null,
            "grid_column": null,
            "grid_gap": null,
            "grid_row": null,
            "grid_template_areas": null,
            "grid_template_columns": null,
            "grid_template_rows": null,
            "height": null,
            "justify_content": null,
            "justify_items": null,
            "left": null,
            "margin": null,
            "max_height": null,
            "max_width": null,
            "min_height": null,
            "min_width": null,
            "object_fit": null,
            "object_position": null,
            "order": null,
            "overflow": null,
            "overflow_x": null,
            "overflow_y": null,
            "padding": null,
            "right": null,
            "top": null,
            "visibility": null,
            "width": null
          }
        },
        "d8485bf541f44c78b1cb920d4e4930db": {
          "model_module": "@jupyter-widgets/controls",
          "model_module_version": "1.5.0",
          "model_name": "HBoxModel",
          "state": {
            "_dom_classes": [],
            "_model_module": "@jupyter-widgets/controls",
            "_model_module_version": "1.5.0",
            "_model_name": "HBoxModel",
            "_view_count": null,
            "_view_module": "@jupyter-widgets/controls",
            "_view_module_version": "1.5.0",
            "_view_name": "HBoxView",
            "box_style": "",
            "children": [
              "IPY_MODEL_f71410a3700548f9811557f6ab507a8f",
              "IPY_MODEL_08d1e58458af4b32ad97047d56c7c963",
              "IPY_MODEL_fd037dba08284d41bcef53023b90a33f"
            ],
            "layout": "IPY_MODEL_6da9b654114b4c179151c57bb717f18a"
          }
        },
        "df353faeea7a484680c934677c8149e5": {
          "model_module": "@jupyter-widgets/controls",
          "model_module_version": "1.5.0",
          "model_name": "DescriptionStyleModel",
          "state": {
            "_model_module": "@jupyter-widgets/controls",
            "_model_module_version": "1.5.0",
            "_model_name": "DescriptionStyleModel",
            "_view_count": null,
            "_view_module": "@jupyter-widgets/base",
            "_view_module_version": "1.2.0",
            "_view_name": "StyleView",
            "description_width": ""
          }
        },
        "e24596813e2d4352b7cae7680880f245": {
          "model_module": "@jupyter-widgets/base",
          "model_module_version": "1.2.0",
          "model_name": "LayoutModel",
          "state": {
            "_model_module": "@jupyter-widgets/base",
            "_model_module_version": "1.2.0",
            "_model_name": "LayoutModel",
            "_view_count": null,
            "_view_module": "@jupyter-widgets/base",
            "_view_module_version": "1.2.0",
            "_view_name": "LayoutView",
            "align_content": null,
            "align_items": null,
            "align_self": null,
            "border": null,
            "bottom": null,
            "display": null,
            "flex": null,
            "flex_flow": null,
            "grid_area": null,
            "grid_auto_columns": null,
            "grid_auto_flow": null,
            "grid_auto_rows": null,
            "grid_column": null,
            "grid_gap": null,
            "grid_row": null,
            "grid_template_areas": null,
            "grid_template_columns": null,
            "grid_template_rows": null,
            "height": null,
            "justify_content": null,
            "justify_items": null,
            "left": null,
            "margin": null,
            "max_height": null,
            "max_width": null,
            "min_height": null,
            "min_width": null,
            "object_fit": null,
            "object_position": null,
            "order": null,
            "overflow": null,
            "overflow_x": null,
            "overflow_y": null,
            "padding": null,
            "right": null,
            "top": null,
            "visibility": null,
            "width": null
          }
        },
        "e5b15e6c453f4440ab8078f924fa1fed": {
          "model_module": "@jupyter-widgets/controls",
          "model_module_version": "1.5.0",
          "model_name": "ProgressStyleModel",
          "state": {
            "_model_module": "@jupyter-widgets/controls",
            "_model_module_version": "1.5.0",
            "_model_name": "ProgressStyleModel",
            "_view_count": null,
            "_view_module": "@jupyter-widgets/base",
            "_view_module_version": "1.2.0",
            "_view_name": "StyleView",
            "bar_color": null,
            "description_width": ""
          }
        },
        "e85bbbf4c64a4905a136c079713b61c0": {
          "model_module": "@jupyter-widgets/controls",
          "model_module_version": "1.5.0",
          "model_name": "DescriptionStyleModel",
          "state": {
            "_model_module": "@jupyter-widgets/controls",
            "_model_module_version": "1.5.0",
            "_model_name": "DescriptionStyleModel",
            "_view_count": null,
            "_view_module": "@jupyter-widgets/base",
            "_view_module_version": "1.2.0",
            "_view_name": "StyleView",
            "description_width": ""
          }
        },
        "efe8cd0386a3406eb911c38665d84a7f": {
          "model_module": "@jupyter-widgets/controls",
          "model_module_version": "1.5.0",
          "model_name": "ProgressStyleModel",
          "state": {
            "_model_module": "@jupyter-widgets/controls",
            "_model_module_version": "1.5.0",
            "_model_name": "ProgressStyleModel",
            "_view_count": null,
            "_view_module": "@jupyter-widgets/base",
            "_view_module_version": "1.2.0",
            "_view_name": "StyleView",
            "bar_color": null,
            "description_width": ""
          }
        },
        "f71410a3700548f9811557f6ab507a8f": {
          "model_module": "@jupyter-widgets/controls",
          "model_module_version": "1.5.0",
          "model_name": "HTMLModel",
          "state": {
            "_dom_classes": [],
            "_model_module": "@jupyter-widgets/controls",
            "_model_module_version": "1.5.0",
            "_model_name": "HTMLModel",
            "_view_count": null,
            "_view_module": "@jupyter-widgets/controls",
            "_view_module_version": "1.5.0",
            "_view_name": "HTMLView",
            "description": "",
            "description_tooltip": null,
            "layout": "IPY_MODEL_57163b21521d4710bf30a4bb6c79348f",
            "placeholder": "​",
            "style": "IPY_MODEL_df353faeea7a484680c934677c8149e5",
            "value": "Generating train split: 100%"
          }
        },
        "f739e957697e4f6e917028c509c52cfd": {
          "model_module": "@jupyter-widgets/controls",
          "model_module_version": "1.5.0",
          "model_name": "HTMLModel",
          "state": {
            "_dom_classes": [],
            "_model_module": "@jupyter-widgets/controls",
            "_model_module_version": "1.5.0",
            "_model_name": "HTMLModel",
            "_view_count": null,
            "_view_module": "@jupyter-widgets/controls",
            "_view_module_version": "1.5.0",
            "_view_name": "HTMLView",
            "description": "",
            "description_tooltip": null,
            "layout": "IPY_MODEL_e24596813e2d4352b7cae7680880f245",
            "placeholder": "​",
            "style": "IPY_MODEL_58bfd4a272f6438086f2a0f0d0e9a846",
            "value": " 19.0k/19.0k [00:00&lt;00:00, 1.66MB/s]"
          }
        },
        "fd037dba08284d41bcef53023b90a33f": {
          "model_module": "@jupyter-widgets/controls",
          "model_module_version": "1.5.0",
          "model_name": "HTMLModel",
          "state": {
            "_dom_classes": [],
            "_model_module": "@jupyter-widgets/controls",
            "_model_module_version": "1.5.0",
            "_model_name": "HTMLModel",
            "_view_count": null,
            "_view_module": "@jupyter-widgets/controls",
            "_view_module_version": "1.5.0",
            "_view_name": "HTMLView",
            "description": "",
            "description_tooltip": null,
            "layout": "IPY_MODEL_93218b5a22c24030a26eaaa2d7f0800c",
            "placeholder": "​",
            "style": "IPY_MODEL_3a85230b34294f65966978b853443fde",
            "value": " 100/100 [00:00&lt;00:00, 2814.82 examples/s]"
          }
        }
      }
    }
  },
  "nbformat": 4,
  "nbformat_minor": 0
}
