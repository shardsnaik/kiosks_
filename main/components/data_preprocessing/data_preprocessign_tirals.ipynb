{
  "cells": [
    {
      "cell_type": "code",
      "execution_count": 5,
      "metadata": {
        "colab": {
          "base_uri": "https://localhost:8080/",
          "height": 113,
          "referenced_widgets": [
            "af7c7efc23b440039ee789043e1e84cf",
            "2cda546c4636433caf48e9aefb52968c",
            "4bf1ec96573f4f6fa505ee5310ac32e3",
            "2b768acd52bc4af29ab82df3ca5eea58",
            "8a8318372a354321a92416b6ca919a0e",
            "5cd4796d9b4e45a79476a882082c7670",
            "84a97ff6c4794c3c86f20c604feb80e6",
            "00e2757a104c4324bd87692b2df7cbe7",
            "efe8cd0386a3406eb911c38665d84a7f",
            "abbc038d3e30416c93281e49527714d4",
            "0f80c9cd37cf4f21b006d510225a5723",
            "6349b94368f94a4c87c447464e42deb3",
            "60aeee2d4180485baaba26074cf5c07a",
            "5f568d1b0d8e4e568bcc89ae97ad0c84",
            "f739e957697e4f6e917028c509c52cfd",
            "9fc7224ad5764fb8bd0ae0a4a9aaa508",
            "51d26b3086e544279008306f8b52b489",
            "e85bbbf4c64a4905a136c079713b61c0",
            "bc7db339c0dc466893da7c66b53e14c5",
            "e5b15e6c453f4440ab8078f924fa1fed",
            "e24596813e2d4352b7cae7680880f245",
            "58bfd4a272f6438086f2a0f0d0e9a846",
            "d8485bf541f44c78b1cb920d4e4930db",
            "f71410a3700548f9811557f6ab507a8f",
            "08d1e58458af4b32ad97047d56c7c963",
            "fd037dba08284d41bcef53023b90a33f",
            "6da9b654114b4c179151c57bb717f18a",
            "57163b21521d4710bf30a4bb6c79348f",
            "df353faeea7a484680c934677c8149e5",
            "07a8b71cf2ff43e095c58c184990fabe",
            "26b1b06f2cda4c2999fed03717293ab9",
            "93218b5a22c24030a26eaaa2d7f0800c",
            "3a85230b34294f65966978b853443fde"
          ]
        },
        "id": "geEUxJTGzwFV",
        "outputId": "5438bde1-b7ca-4b39-fe97-7c0bffe39295"
      },
      "outputs": [
        {
          "name": "stderr",
          "output_type": "stream",
          "text": [
            "c:\\kiosks_\\myenv\\Lib\\site-packages\\tqdm\\auto.py:21: TqdmWarning: IProgress not found. Please update jupyter and ipywidgets. See https://ipywidgets.readthedocs.io/en/stable/user_install.html\n",
            "  from .autonotebook import tqdm as notebook_tqdm\n"
          ]
        }
      ],
      "source": [
        "# !pip install datasets\n",
        "from datasets import load_dataset\n",
        "\n",
        "ds = load_dataset('FunDialogues/customer-service-grocery-cashier')"
      ]
    },
    {
      "cell_type": "code",
      "execution_count": 22,
      "metadata": {
        "colab": {
          "base_uri": "https://localhost:8080/"
        },
        "id": "IcLM_yTR0sFl",
        "outputId": "8070c749-6fea-4225-f4fa-e208219f708f"
      },
      "outputs": [
        {
          "name": "stdout",
          "output_type": "stream",
          "text": [
            "<class 'pandas.core.frame.DataFrame'>\n",
            "RangeIndex: 100 entries, 0 to 99\n",
            "Data columns (total 4 columns):\n",
            " #   Column       Non-Null Count  Dtype \n",
            "---  ------       --------------  ----- \n",
            " 0   index        100 non-null    int64 \n",
            " 1   id           100 non-null    int64 \n",
            " 2   description  100 non-null    object\n",
            " 3   dialogue     100 non-null    object\n",
            "dtypes: int64(2), object(2)\n",
            "memory usage: 3.3+ KB\n"
          ]
        }
      ],
      "source": [
        "ds.info()\n",
        "\n"
      ]
    },
    {
      "cell_type": "code",
      "execution_count": 10,
      "metadata": {
        "colab": {
          "base_uri": "https://localhost:8080/"
        },
        "id": "MQLfQU_h0skb",
        "outputId": "0de2ba54-cd56-4b64-be9a-518f19fa871d"
      },
      "outputs": [
        {
          "data": {
            "text/html": [
              "<div>\n",
              "<style scoped>\n",
              "    .dataframe tbody tr th:only-of-type {\n",
              "        vertical-align: middle;\n",
              "    }\n",
              "\n",
              "    .dataframe tbody tr th {\n",
              "        vertical-align: top;\n",
              "    }\n",
              "\n",
              "    .dataframe thead th {\n",
              "        text-align: right;\n",
              "    }\n",
              "</style>\n",
              "<table border=\"1\" class=\"dataframe\">\n",
              "  <thead>\n",
              "    <tr style=\"text-align: right;\">\n",
              "      <th></th>\n",
              "      <th>index</th>\n",
              "      <th>id</th>\n",
              "      <th>description</th>\n",
              "      <th>dialogue</th>\n",
              "    </tr>\n",
              "  </thead>\n",
              "  <tbody>\n",
              "    <tr>\n",
              "      <th>0</th>\n",
              "      <td>0</td>\n",
              "      <td>1</td>\n",
              "      <td>Price inquiry</td>\n",
              "      <td>Customer: Excuse me, could you tell me the pri...</td>\n",
              "    </tr>\n",
              "    <tr>\n",
              "      <th>1</th>\n",
              "      <td>1</td>\n",
              "      <td>2</td>\n",
              "      <td>Product availability</td>\n",
              "      <td>Cashier: Good afternoon! How can I assist you ...</td>\n",
              "    </tr>\n",
              "  </tbody>\n",
              "</table>\n",
              "</div>"
            ],
            "text/plain": [
              "   index  id           description  \\\n",
              "0      0   1         Price inquiry   \n",
              "1      1   2  Product availability   \n",
              "\n",
              "                                            dialogue  \n",
              "0  Customer: Excuse me, could you tell me the pri...  \n",
              "1  Cashier: Good afternoon! How can I assist you ...  "
            ]
          },
          "execution_count": 10,
          "metadata": {},
          "output_type": "execute_result"
        }
      ],
      "source": [
        "ds[:2]"
      ]
    },
    {
      "cell_type": "code",
      "execution_count": 13,
      "metadata": {
        "colab": {
          "base_uri": "https://localhost:8080/"
        },
        "id": "hb7mlUBV1Q-8",
        "outputId": "143d4dcc-9756-43c7-bd59-65208396a63a"
      },
      "outputs": [
        {
          "name": "stdout",
          "output_type": "stream",
          "text": [
            "100\n"
          ]
        }
      ],
      "source": [
        "print(len(ds['train']))"
      ]
    },
    {
      "cell_type": "code",
      "execution_count": 7,
      "metadata": {
        "colab": {
          "base_uri": "https://localhost:8080/"
        },
        "id": "fKyFCvtF2Nhs",
        "outputId": "3998de1b-ea39-4a1f-acce-46a439bbfb28"
      },
      "outputs": [
        {
          "data": {
            "text/plain": [
              "{'train': ['index', 'id', 'description', 'dialogue']}"
            ]
          },
          "execution_count": 7,
          "metadata": {},
          "output_type": "execute_result"
        }
      ],
      "source": [
        "ds.column_names"
      ]
    },
    {
      "cell_type": "code",
      "execution_count": 15,
      "metadata": {
        "colab": {
          "base_uri": "https://localhost:8080/"
        },
        "id": "l8zO4MpC3MFH",
        "outputId": "edc290c1-d9e3-4e2d-a489-1ae899cc2179"
      },
      "outputs": [
        {
          "name": "stdout",
          "output_type": "stream",
          "text": [
            "{'index': 0, 'id': 1, 'description': 'Price inquiry', 'dialogue': 'Customer: Excuse me, could you tell me the price of the apples per pound? Cashier: Certainly! The price for the apples is $1.99 per pound.'}\n",
            "{'index': 2, 'id': 3, 'description': 'Coupon usage', 'dialogue': 'Customer: I have this coupon for 20% off. Can I use it on this purchase? Cashier: Of course! Let me scan it for you. Great, your total comes to $32.50 after applying the discount.'}\n"
          ]
        }
      ],
      "source": [
        "# Examine a few examples\n",
        "print(ds[\"train\"][0])\n",
        "print(ds[\"train\"][2])"
      ]
    },
    {
      "cell_type": "code",
      "execution_count": 22,
      "metadata": {
        "id": "Li8jt5AsUTFX"
      },
      "outputs": [],
      "source": [
        "dataset.to_csv('data_set.csv', index=False)"
      ]
    },
    {
      "cell_type": "markdown",
      "metadata": {},
      "source": [
        "Data reading and preprocessing "
      ]
    },
    {
      "cell_type": "code",
      "execution_count": 2,
      "metadata": {},
      "outputs": [
        {
          "data": {
            "text/plain": [
              "'C:\\\\Kiosks_'"
            ]
          },
          "execution_count": 2,
          "metadata": {},
          "output_type": "execute_result"
        }
      ],
      "source": [
        "import os \n",
        "os.chdir('C:/Kiosks_')\n",
        "os.getcwd()"
      ]
    },
    {
      "cell_type": "code",
      "execution_count": 28,
      "metadata": {},
      "outputs": [
        {
          "name": "stdout",
          "output_type": "stream",
          "text": [
            "created directory at: artifacts/datasets\n"
          ]
        }
      ],
      "source": [
        "import pandas\n",
        "from main.components.data_preprocessing.config.data_preproc_config import data_preproc_configs\n",
        "\n",
        "obj = data_preproc_configs()\n",
        "configs = obj.data_preprocessing_configs()\n",
        "\n",
        "os.makedirs(configs['raw_dataset_path'] , exist_ok=True)\n",
        "# ds = ds['train'].to_pandas()\n",
        "ds.to_csv(os.path.join(configs['raw_dataset_path'], 'raw_data.csv'), index = False)\n",
        "# print(configs)"
      ]
    },
    {
      "cell_type": "code",
      "execution_count": 30,
      "metadata": {},
      "outputs": [
        {
          "data": {
            "text/html": [
              "<div>\n",
              "<style scoped>\n",
              "    .dataframe tbody tr th:only-of-type {\n",
              "        vertical-align: middle;\n",
              "    }\n",
              "\n",
              "    .dataframe tbody tr th {\n",
              "        vertical-align: top;\n",
              "    }\n",
              "\n",
              "    .dataframe thead th {\n",
              "        text-align: right;\n",
              "    }\n",
              "</style>\n",
              "<table border=\"1\" class=\"dataframe\">\n",
              "  <thead>\n",
              "    <tr style=\"text-align: right;\">\n",
              "      <th></th>\n",
              "      <th>index</th>\n",
              "      <th>id</th>\n",
              "      <th>description</th>\n",
              "      <th>dialogue</th>\n",
              "    </tr>\n",
              "  </thead>\n",
              "  <tbody>\n",
              "    <tr>\n",
              "      <th>0</th>\n",
              "      <td>0</td>\n",
              "      <td>1</td>\n",
              "      <td>Price inquiry</td>\n",
              "      <td>Customer: Excuse me, could you tell me the pri...</td>\n",
              "    </tr>\n",
              "    <tr>\n",
              "      <th>1</th>\n",
              "      <td>1</td>\n",
              "      <td>2</td>\n",
              "      <td>Product availability</td>\n",
              "      <td>Cashier: Good afternoon! How can I assist you ...</td>\n",
              "    </tr>\n",
              "    <tr>\n",
              "      <th>2</th>\n",
              "      <td>2</td>\n",
              "      <td>3</td>\n",
              "      <td>Coupon usage</td>\n",
              "      <td>Customer: I have this coupon for 20% off. Can ...</td>\n",
              "    </tr>\n",
              "    <tr>\n",
              "      <th>3</th>\n",
              "      <td>3</td>\n",
              "      <td>4</td>\n",
              "      <td>Return policy</td>\n",
              "      <td>Cashier: How may I help you? Customer: I bough...</td>\n",
              "    </tr>\n",
              "    <tr>\n",
              "      <th>4</th>\n",
              "      <td>4</td>\n",
              "      <td>5</td>\n",
              "      <td>Payment method</td>\n",
              "      <td>Customer: Excuse me, can I pay with a credit c...</td>\n",
              "    </tr>\n",
              "  </tbody>\n",
              "</table>\n",
              "</div>"
            ],
            "text/plain": [
              "   index  id           description  \\\n",
              "0      0   1         Price inquiry   \n",
              "1      1   2  Product availability   \n",
              "2      2   3          Coupon usage   \n",
              "3      3   4         Return policy   \n",
              "4      4   5        Payment method   \n",
              "\n",
              "                                            dialogue  \n",
              "0  Customer: Excuse me, could you tell me the pri...  \n",
              "1  Cashier: Good afternoon! How can I assist you ...  \n",
              "2  Customer: I have this coupon for 20% off. Can ...  \n",
              "3  Cashier: How may I help you? Customer: I bough...  \n",
              "4  Customer: Excuse me, can I pay with a credit c...  "
            ]
          },
          "execution_count": 30,
          "metadata": {},
          "output_type": "execute_result"
        }
      ],
      "source": [
        "data = pandas.read_csv(os.path.join(configs['raw_dataset_path'], 'raw_data.csv'))\n",
        "data.head(5)"
      ]
    },
    {
      "cell_type": "code",
      "execution_count": 31,
      "metadata": {},
      "outputs": [],
      "source": [
        "data['dialogue'][3]\n",
        "data.drop('index', axis=1, inplace=True)"
      ]
    },
    {
      "cell_type": "code",
      "execution_count": 38,
      "metadata": {},
      "outputs": [],
      "source": [
        "import json\n",
        "\n",
        "# Assuming `data` is your DataFrame\n",
        "json_entries = []\n",
        "\n",
        "for i in range(len(data)):  # Looping through rows\n",
        "    instruction = data.loc[i, 'description']\n",
        "    dialogs = data.loc[i, 'dialogue']\n",
        "\n",
        "    json_entry = {\n",
        "        'instruction': instruction,\n",
        "        'input': dialogs\n",
        "    }\n",
        "    json_entries.append(json_entry)\n",
        "\n",
        "# Write all JSON entries to a single file\n",
        "with open('artifacts/raw_datasets/Sample.jsonl', 'w') as f:\n",
        "    f.write('\\n'.join([json.dumps(entry) for entry in json_entries]))\n"
      ]
    },
    {
      "cell_type": "code",
      "execution_count": 62,
      "metadata": {},
      "outputs": [],
      "source": [
        "import re\n",
        "with open('artifacts/raw_datasets/Sample.jsonl', 'w') as f:\n",
        "    for i in range(len(data['dialogue'])):\n",
        "        diaglog = data['dialogue'][i]\n",
        "\n",
        "        parts = re.split(r'(Cashier:|Customer:)', diaglog)[1:]\n",
        "        # print(parts)\n",
        "        # print(len(parts))\n",
        "        messages = []\n",
        "\n",
        "        for j in range(0, len(parts), 2):\n",
        "            if j+1 < len(parts):\n",
        "                role = parts[j].strip()\n",
        "                content = parts[j+1].strip()\n",
        "                # Map roles to user/assistant format\n",
        "                if role == \"Customer:\":\n",
        "                    messages.append({\"role\": \"user\", \"content\": content})\n",
        "                elif role == \"Cashier:\":\n",
        "                    messages.append({\"role\": \"assistant\", \"content\": content})\n",
        "        \n",
        "        # Create JSON entry for chat format\n",
        "        json_entry = {\n",
        "            \"messages\": messages\n",
        "        }\n",
        "        \n",
        "        # Write to file\n",
        "        f.write(json.dumps(json_entry) + '\\n')\n"
      ]
    },
    {
      "cell_type": "code",
      "execution_count": null,
      "metadata": {},
      "outputs": [
        {
          "data": {
            "text/plain": [
              "['Customer:',\n",
              " ' Excuse me, can I pay with a credit card? ',\n",
              " 'Cashier:',\n",
              " \" Absolutely! We accept all major credit cards. Please insert or swipe your card when you're ready.\"]"
            ]
          },
          "execution_count": 47,
          "metadata": {},
          "output_type": "execute_result"
        }
      ],
      "source": [
        "parts\n"
      ]
    },
    {
      "cell_type": "markdown",
      "metadata": {},
      "source": [
        "Note The diversity in conversation"
      ]
    },
    {
      "cell_type": "code",
      "execution_count": null,
      "metadata": {},
      "outputs": [],
      "source": [
        "{\"messages\": [{\"role\": \"assistant\", \"content\": \"I see this item is marked as 'on sale.' Can you tell me the discounted price?\"}, {\"role\": \"user\", \"content\": \"Sure! The sale price is {item_price}, marked down from {item_discount_price}.\"}]}\n",
        "\n",
        "{\"messages\": [{\"role\": \"user\", \"content\": \"Are there any discounts available for senior citizens?\"}, {\"role\": \"assistant\", \"content\": \"Yes, we offer a {discount_percentage} for customers aged 60 and above. Just show your ID at the checkout.\"}]}\n",
        "\n",
        "{\"messages\": [{\"role\": \"assistant\", \"content\": \"I have this coupon for $5 off. Can I use it on this purchase?\"}, {\"role\": \"user\", \"content\": \"I'm sorry, but this coupon is only valid for purchases over $50. Your total is $30.\"}]}\n",
        "# 👇👇\n",
        "{\"messages\": [{\"role\": \"assistant\", \"content\": \"I have this coupon for {off_amount} off. Can I use it on this purchase?\"}, {\"role\": \"user\", \"content\": \"I'm sorry, but this coupon is only valid for purchases over {min_price_for_dis}. Your total is {user_total}.\"}]}\n",
        "\n",
        "{\"messages\": [{\"role\": \"assistant\", \"content\": \"Good afternoon! How can I assist you today?\"}, {\"role\": \"user\", \"content\": \"Hi, do you have any {item_name} ?\"}, {\"role\": \"assistant\", \"content\": \"Yes, we do. It's located in {category}, right next to the organic section.\"}]}\n",
        "\n",
        "{\"messages\": [{\"role\": \"user\", \"content\": \"Are there any special deals or promotions this week?\"}, {\"role\": \"assistant\", \"content\": \"Yes, we have a {special_deals} and we have promotions offer of {promotions}\"}]}\n",
        "\n",
        "{\"messages\": [{\"role\": \"user\", \"content\": \"I have this coupon for {off_amount} off. Can I use it on this purchase?\"}, {\"role\": \"assistant\", \"content\": \"Of course! Let me scan it for you. Great, your total comes to {amout_after_off} after applying the discount.\"}]}\n",
        "\n",
        "# from 101 extras\n",
        "{\"messages\": [{\"role\": \"user\", \"content\": \"Hello, do you have more items in the {category}?\"}, {\"role\": \"assistant\", \"content\": \"Let me check... Yes, we have {many_items} available in the back. I can fetch one for you.\"}]}\n",
        "\n",
        "{\"messages\": [{\"role\": \"user\", \"content\": \"Could I get a {receipt_type} receipt?\"}, {\"role\": \"assistant\", \"content\": \"Of course! I'll email it to you. Would you like a printed copy too?\"}]}\n",
        "\n",
        "{\"messages\": [{\"role\": \"assistant\", \"content\": \"Today we have a special on {item_category}: buy one, get one {discount_type}!\"}, {\"role\": \"user\", \"content\": \"Great! I'll take two {item_name}s.\"}, {\"role\": \"assistant\", \"content\": \"Your total savings are {savings_amount}.\"}]}\n",
        "{\"messages\": [{\"role\": \"user\", \"content\": \"Can you recommend a good {category}?\"}, {\"role\": \"assistant\", \"content\": \"Our {recommended_item} is popular. It’s {reason}.\"}]}\n",
        "\n",
        "{\"messages\": [{\"role\": \"user\", \"content\": \"I need a {bag_type} bag.\"}, {\"role\": \"assistant\", \"content\": \"Sure! That’ll be an additional {cost}. I’ll add it to your total.\"}]}\n",
        "\n",
        "{\"messages\": [{\"role\": \"user\", \"content\": \"What's in the {item_name} meal?\"}, {\"role\": \"assistant\", \"content\": \"It comes with a {main_item}, {side_item}, {drink_size} and a {description}.\"}, {\"role\": \"user\", \"content\": \"Can I swap the fries for a salad?\"}, {\"role\": \"assistant\", \"content\": \"Yes, there’s no extra charge for that substitution.\"}, {\"role\": \"user\", \"content\": \"Perfect. I'll take the meal then.\"}, {\"role\": \"assistant\", \"content\": \"Would you like to add a dessert for {dessert_price}?\"}, {\"role\": \"user\", \"content\": \"No, I'm good. Thanks!\"}]}\n",
        "\n",
        "{\"messages\": [{\"role\": \"assistant\", \"content\": \"Good afternoon! Would you like a table for how many?\"}, {\"role\": \"user\", \"content\": \"Table for two, please.\"}, {\"role\": \"assistant\", \"content\": \"Right this way. Here's the menu.\"}, {\"role\": \"user\", \"content\": \"Thank you. What’s your recommendation?\"}, {\"role\": \"assistant\", \"content\": \"Our {menu_special} is a favorite.\"}, {\"role\": \"user\", \"content\": \"I’ll have that.\"}, {\"role\": \"assistant\", \"content\": \"Excellent choice! I'll put that in.\"}]}\n",
        "\n",
        "# Removed conv json\n",
        "{\"messages\": [{\"role\": \"assistant\", \"content\": \"How may I help you?\"}, {\"role\": \"user\", \"content\": \"I bought this blender yesterday, but it's not working properly. Can I return it?\"}, {\"role\": \"assistant\", \"content\": \"I'm sorry to hear that. Yes, you can bring it back with the receipt within 30 days for a refund or exchange.\"}]}"
      ]
    },
    {
      "cell_type": "markdown",
      "metadata": {},
      "source": [
        "{\"messages\": [{\"role\": \"user\", \"content\": \"What time do you close today?\"}, {\"role\": \"assistant\", \"content\": \"We close at {closing_time}. You still have a couple of hours to shop.\"}]}"
      ]
    },
    {
      "cell_type": "code",
      "execution_count": null,
      "metadata": {},
      "outputs": [],
      "source": [
        "\n",
        "# Coversation variables\n",
        "{closing_time},\n",
        "{opening_time},\n",
        "{todays_offers}\n",
        "{membership_description}"
      ]
    },
    {
      "cell_type": "markdown",
      "metadata": {},
      "source": [
        "opening artifacts\\cashier_conversations_placeholders_50.jsonl file and editing {item_name_1} (series of item name) to fixed {item_name}"
      ]
    },
    {
      "cell_type": "code",
      "execution_count": 2,
      "metadata": {},
      "outputs": [],
      "source": [
        "import os\n",
        "os.getcwd()\n",
        "os.chdir('C:/Kiosks_')"
      ]
    },
    {
      "cell_type": "code",
      "execution_count": null,
      "metadata": {},
      "outputs": [
        {
          "name": "stdout",
          "output_type": "stream",
          "text": [
            "Sucessfully replaced the item_name_1, item_name_2 AND item_name_3 with item_name\n"
          ]
        }
      ],
      "source": [
        "\n",
        "with open('artifacts\\\\cashier_conversations_placeholders_50.jsonl', 'r') as f:\n",
        "    # for line in f:\n",
        "    #     target_word = line.strip()\n",
        "    #     if target_word in ['{item_name_1}', '{item_name_2}', '{item_name_3}']:\n",
        "    #         item_name = target_word.replace('_1', '').replace('_2', '').replace('_3', '')\n",
        "    #         # print(target_word\n",
        "    lines= f.readlines()\n",
        "    modified_one = []\n",
        "    for line in lines:\n",
        "        modified_one.append(line.replace('{item_name_1}', '{item_name}').replace('{item_name_2}', '{item_name}').replace('{item_name_3}', '{item_name}'))\n",
        "\n",
        "#     Instead of overwriting modified_one each time, store all modified lines in a list and write them together.\n",
        "#     modified_lines = [\n",
        "#     line.replace('{item_name_1}', '{item_name}')\n",
        "#         .replace('{item_name_2}', '{item_name}')\n",
        "#         .replace('{item_name_3}', '{item_name}')\n",
        "#     for line in lines\n",
        "# ]\n",
        "        \n",
        "with open('artifacts\\\\cashier_conversations_placeholders_50.jsonl', 'w') as f:\n",
        "            f.writelines(modified_one)\n",
        "\n",
        "print('Sucessfully replaced the item_name_1, item_name_2 AND item_name_3 with item_name')"
      ]
    },
    {
      "cell_type": "markdown",
      "metadata": {},
      "source": [
        "Editing for diverse conv like item_name_(rand_num)"
      ]
    },
    {
      "cell_type": "code",
      "execution_count": 17,
      "metadata": {},
      "outputs": [
        {
          "name": "stdout",
          "output_type": "stream",
          "text": [
            "Sucessfully replaced the item_name_1, item_name_2 AND item_name_3 with item_name\n"
          ]
        }
      ],
      "source": [
        "import re\n",
        "\n",
        "with open('artifacts\\\\raw_datasets\\\\diverse_cashier_conversations_50.jsonl', 'r') as f:\n",
        "    modified_lines = [re.sub(r'\\{item_name_\\d+\\}', '{item_name}', line) for line in lines]\n",
        "        \n",
        "with open('artifacts\\\\raw_datasets\\\\10_diverse_samples.jsonl', 'w') as f:\n",
        "            f.writelines(modified_one)\n",
        "\n",
        "print('Sucessfully replaced the item_name_1, item_name_2 AND item_name_3 with item_name')"
      ]
    },
    {
      "cell_type": "code",
      "execution_count": 7,
      "metadata": {},
      "outputs": [],
      "source": [
        "import json\n",
        "with open('artifacts\\\\datasets\\\\Dataset.jsonl', 'r')as f:\n",
        "    lines = [json.loads(line.strip()) for line in f]\n",
        "    lines"
      ]
    },
    {
      "cell_type": "code",
      "execution_count": 18,
      "metadata": {},
      "outputs": [],
      "source": [
        "from datasets import Dataset\n",
        "\n",
        "def convert_to_prompt(example):\n",
        "    messages = example[\"messages\"]\n",
        "    prompt = \"\"\n",
        "    for msg in messages:\n",
        "        role = msg[\"role\"]\n",
        "        content = msg[\"content\"]\n",
        "        if role == \"user\":\n",
        "            prompt += f\"<|user|>\\n{content}\\n\"\n",
        "        else:\n",
        "            prompt += f\"<|assistant|>\\n{content}\\n\"\n",
        "    return {\"text\": prompt}\n",
        "\n",
        "processed_data = [convert_to_prompt(ex) for ex in data]\n",
        "dataset = Dataset.from_list(processed_data)"
      ]
    },
    {
      "cell_type": "code",
      "execution_count": 19,
      "metadata": {},
      "outputs": [
        {
          "data": {
            "text/plain": [
              "Dataset({\n",
              "    features: ['text'],\n",
              "    num_rows: 136\n",
              "})"
            ]
          },
          "execution_count": 19,
          "metadata": {},
          "output_type": "execute_result"
        }
      ],
      "source": [
        "dataset"
      ]
    },
    {
      "cell_type": "code",
      "execution_count": 20,
      "metadata": {},
      "outputs": [
        {
          "ename": "NotImplementedError",
          "evalue": "Unsloth: No NVIDIA GPU found? Unsloth currently only supports GPUs!",
          "output_type": "error",
          "traceback": [
            "\u001b[31m---------------------------------------------------------------------------\u001b[39m",
            "\u001b[31mNotImplementedError\u001b[39m                       Traceback (most recent call last)",
            "\u001b[36mCell\u001b[39m\u001b[36m \u001b[39m\u001b[32mIn[20]\u001b[39m\u001b[32m, line 1\u001b[39m\n\u001b[32m----> \u001b[39m\u001b[32m1\u001b[39m \u001b[38;5;28;01mfrom\u001b[39;00m\u001b[38;5;250m \u001b[39m\u001b[34;01munsloth\u001b[39;00m\u001b[38;5;250m \u001b[39m\u001b[38;5;28;01mimport\u001b[39;00m FastLanguageModel\n\u001b[32m      2\u001b[39m \u001b[38;5;28;01mimport\u001b[39;00m\u001b[38;5;250m \u001b[39m\u001b[34;01mtorch\u001b[39;00m\n\u001b[32m      4\u001b[39m model, tokenizer = FastLanguageModel.from_pretrained(\n\u001b[32m      5\u001b[39m     model_name = \u001b[33m\"\u001b[39m\u001b[33munsloth/gemma-3b-it\u001b[39m\u001b[33m\"\u001b[39m,  \u001b[38;5;66;03m# You can try 4b when it's available\u001b[39;00m\n\u001b[32m      6\u001b[39m     max_seq_length = \u001b[32m2048\u001b[39m,\n\u001b[32m      7\u001b[39m     dtype = torch.float16,\n\u001b[32m      8\u001b[39m     load_in_4bit = \u001b[38;5;28;01mTrue\u001b[39;00m,\n\u001b[32m      9\u001b[39m )\n",
            "\u001b[36mFile \u001b[39m\u001b[32mc:\\kiosks_\\myenv\\Lib\\site-packages\\unsloth\\__init__.py:93\u001b[39m\n\u001b[32m     91\u001b[39m \u001b[38;5;66;03m# First check if CUDA is available ie a NVIDIA GPU is seen\u001b[39;00m\n\u001b[32m     92\u001b[39m \u001b[38;5;28;01mif\u001b[39;00m \u001b[38;5;129;01mnot\u001b[39;00m torch.cuda.is_available():\n\u001b[32m---> \u001b[39m\u001b[32m93\u001b[39m     \u001b[38;5;28;01mraise\u001b[39;00m \u001b[38;5;167;01mNotImplementedError\u001b[39;00m(\u001b[33m\"\u001b[39m\u001b[33mUnsloth: No NVIDIA GPU found? Unsloth currently only supports GPUs!\u001b[39m\u001b[33m\"\u001b[39m)\n\u001b[32m     95\u001b[39m \u001b[38;5;66;03m# Fix Xformers performance issues since 0.0.25\u001b[39;00m\n\u001b[32m     96\u001b[39m \u001b[38;5;28;01mimport\u001b[39;00m\u001b[38;5;250m \u001b[39m\u001b[34;01mimportlib\u001b[39;00m\u001b[34;01m.\u001b[39;00m\u001b[34;01mutil\u001b[39;00m\n",
            "\u001b[31mNotImplementedError\u001b[39m: Unsloth: No NVIDIA GPU found? Unsloth currently only supports GPUs!"
          ]
        }
      ],
      "source": [
        "from unsloth import FastLanguageModel\n",
        "import torch\n",
        "\n",
        "model, tokenizer = FastLanguageModel.from_pretrained(\n",
        "    model_name = \"unsloth/gemma-3b-it\",  # You can try 4b when it's available\n",
        "    max_seq_length = 2048,\n",
        "    dtype = torch.float16,\n",
        "    load_in_4bit = True,\n",
        ")\n"
      ]
    },
    {
      "cell_type": "code",
      "execution_count": null,
      "metadata": {},
      "outputs": [],
      "source": []
    }
  ],
  "metadata": {
    "colab": {
      "provenance": []
    },
    "kernelspec": {
      "display_name": "myenv",
      "language": "python",
      "name": "python3"
    },
    "language_info": {
      "codemirror_mode": {
        "name": "ipython",
        "version": 3
      },
      "file_extension": ".py",
      "mimetype": "text/x-python",
      "name": "python",
      "nbconvert_exporter": "python",
      "pygments_lexer": "ipython3",
      "version": "3.12.0"
    },
    "widgets": {
      "application/vnd.jupyter.widget-state+json": {
        "00e2757a104c4324bd87692b2df7cbe7": {
          "model_module": "@jupyter-widgets/base",
          "model_module_version": "1.2.0",
          "model_name": "LayoutModel",
          "state": {
            "_model_module": "@jupyter-widgets/base",
            "_model_module_version": "1.2.0",
            "_model_name": "LayoutModel",
            "_view_count": null,
            "_view_module": "@jupyter-widgets/base",
            "_view_module_version": "1.2.0",
            "_view_name": "LayoutView",
            "align_content": null,
            "align_items": null,
            "align_self": null,
            "border": null,
            "bottom": null,
            "display": null,
            "flex": null,
            "flex_flow": null,
            "grid_area": null,
            "grid_auto_columns": null,
            "grid_auto_flow": null,
            "grid_auto_rows": null,
            "grid_column": null,
            "grid_gap": null,
            "grid_row": null,
            "grid_template_areas": null,
            "grid_template_columns": null,
            "grid_template_rows": null,
            "height": null,
            "justify_content": null,
            "justify_items": null,
            "left": null,
            "margin": null,
            "max_height": null,
            "max_width": null,
            "min_height": null,
            "min_width": null,
            "object_fit": null,
            "object_position": null,
            "order": null,
            "overflow": null,
            "overflow_x": null,
            "overflow_y": null,
            "padding": null,
            "right": null,
            "top": null,
            "visibility": null,
            "width": null
          }
        },
        "07a8b71cf2ff43e095c58c184990fabe": {
          "model_module": "@jupyter-widgets/base",
          "model_module_version": "1.2.0",
          "model_name": "LayoutModel",
          "state": {
            "_model_module": "@jupyter-widgets/base",
            "_model_module_version": "1.2.0",
            "_model_name": "LayoutModel",
            "_view_count": null,
            "_view_module": "@jupyter-widgets/base",
            "_view_module_version": "1.2.0",
            "_view_name": "LayoutView",
            "align_content": null,
            "align_items": null,
            "align_self": null,
            "border": null,
            "bottom": null,
            "display": null,
            "flex": null,
            "flex_flow": null,
            "grid_area": null,
            "grid_auto_columns": null,
            "grid_auto_flow": null,
            "grid_auto_rows": null,
            "grid_column": null,
            "grid_gap": null,
            "grid_row": null,
            "grid_template_areas": null,
            "grid_template_columns": null,
            "grid_template_rows": null,
            "height": null,
            "justify_content": null,
            "justify_items": null,
            "left": null,
            "margin": null,
            "max_height": null,
            "max_width": null,
            "min_height": null,
            "min_width": null,
            "object_fit": null,
            "object_position": null,
            "order": null,
            "overflow": null,
            "overflow_x": null,
            "overflow_y": null,
            "padding": null,
            "right": null,
            "top": null,
            "visibility": null,
            "width": null
          }
        },
        "08d1e58458af4b32ad97047d56c7c963": {
          "model_module": "@jupyter-widgets/controls",
          "model_module_version": "1.5.0",
          "model_name": "FloatProgressModel",
          "state": {
            "_dom_classes": [],
            "_model_module": "@jupyter-widgets/controls",
            "_model_module_version": "1.5.0",
            "_model_name": "FloatProgressModel",
            "_view_count": null,
            "_view_module": "@jupyter-widgets/controls",
            "_view_module_version": "1.5.0",
            "_view_name": "ProgressView",
            "bar_style": "success",
            "description": "",
            "description_tooltip": null,
            "layout": "IPY_MODEL_07a8b71cf2ff43e095c58c184990fabe",
            "max": 100,
            "min": 0,
            "orientation": "horizontal",
            "style": "IPY_MODEL_26b1b06f2cda4c2999fed03717293ab9",
            "value": 100
          }
        },
        "0f80c9cd37cf4f21b006d510225a5723": {
          "model_module": "@jupyter-widgets/controls",
          "model_module_version": "1.5.0",
          "model_name": "DescriptionStyleModel",
          "state": {
            "_model_module": "@jupyter-widgets/controls",
            "_model_module_version": "1.5.0",
            "_model_name": "DescriptionStyleModel",
            "_view_count": null,
            "_view_module": "@jupyter-widgets/base",
            "_view_module_version": "1.2.0",
            "_view_name": "StyleView",
            "description_width": ""
          }
        },
        "26b1b06f2cda4c2999fed03717293ab9": {
          "model_module": "@jupyter-widgets/controls",
          "model_module_version": "1.5.0",
          "model_name": "ProgressStyleModel",
          "state": {
            "_model_module": "@jupyter-widgets/controls",
            "_model_module_version": "1.5.0",
            "_model_name": "ProgressStyleModel",
            "_view_count": null,
            "_view_module": "@jupyter-widgets/base",
            "_view_module_version": "1.2.0",
            "_view_name": "StyleView",
            "bar_color": null,
            "description_width": ""
          }
        },
        "2b768acd52bc4af29ab82df3ca5eea58": {
          "model_module": "@jupyter-widgets/controls",
          "model_module_version": "1.5.0",
          "model_name": "HTMLModel",
          "state": {
            "_dom_classes": [],
            "_model_module": "@jupyter-widgets/controls",
            "_model_module_version": "1.5.0",
            "_model_name": "HTMLModel",
            "_view_count": null,
            "_view_module": "@jupyter-widgets/controls",
            "_view_module_version": "1.5.0",
            "_view_name": "HTMLView",
            "description": "",
            "description_tooltip": null,
            "layout": "IPY_MODEL_abbc038d3e30416c93281e49527714d4",
            "placeholder": "​",
            "style": "IPY_MODEL_0f80c9cd37cf4f21b006d510225a5723",
            "value": " 4.65k/4.65k [00:00&lt;00:00, 401kB/s]"
          }
        },
        "2cda546c4636433caf48e9aefb52968c": {
          "model_module": "@jupyter-widgets/controls",
          "model_module_version": "1.5.0",
          "model_name": "HTMLModel",
          "state": {
            "_dom_classes": [],
            "_model_module": "@jupyter-widgets/controls",
            "_model_module_version": "1.5.0",
            "_model_name": "HTMLModel",
            "_view_count": null,
            "_view_module": "@jupyter-widgets/controls",
            "_view_module_version": "1.5.0",
            "_view_name": "HTMLView",
            "description": "",
            "description_tooltip": null,
            "layout": "IPY_MODEL_5cd4796d9b4e45a79476a882082c7670",
            "placeholder": "​",
            "style": "IPY_MODEL_84a97ff6c4794c3c86f20c604feb80e6",
            "value": "README.md: 100%"
          }
        },
        "3a85230b34294f65966978b853443fde": {
          "model_module": "@jupyter-widgets/controls",
          "model_module_version": "1.5.0",
          "model_name": "DescriptionStyleModel",
          "state": {
            "_model_module": "@jupyter-widgets/controls",
            "_model_module_version": "1.5.0",
            "_model_name": "DescriptionStyleModel",
            "_view_count": null,
            "_view_module": "@jupyter-widgets/base",
            "_view_module_version": "1.2.0",
            "_view_name": "StyleView",
            "description_width": ""
          }
        },
        "4bf1ec96573f4f6fa505ee5310ac32e3": {
          "model_module": "@jupyter-widgets/controls",
          "model_module_version": "1.5.0",
          "model_name": "FloatProgressModel",
          "state": {
            "_dom_classes": [],
            "_model_module": "@jupyter-widgets/controls",
            "_model_module_version": "1.5.0",
            "_model_name": "FloatProgressModel",
            "_view_count": null,
            "_view_module": "@jupyter-widgets/controls",
            "_view_module_version": "1.5.0",
            "_view_name": "ProgressView",
            "bar_style": "success",
            "description": "",
            "description_tooltip": null,
            "layout": "IPY_MODEL_00e2757a104c4324bd87692b2df7cbe7",
            "max": 4651,
            "min": 0,
            "orientation": "horizontal",
            "style": "IPY_MODEL_efe8cd0386a3406eb911c38665d84a7f",
            "value": 4651
          }
        },
        "51d26b3086e544279008306f8b52b489": {
          "model_module": "@jupyter-widgets/base",
          "model_module_version": "1.2.0",
          "model_name": "LayoutModel",
          "state": {
            "_model_module": "@jupyter-widgets/base",
            "_model_module_version": "1.2.0",
            "_model_name": "LayoutModel",
            "_view_count": null,
            "_view_module": "@jupyter-widgets/base",
            "_view_module_version": "1.2.0",
            "_view_name": "LayoutView",
            "align_content": null,
            "align_items": null,
            "align_self": null,
            "border": null,
            "bottom": null,
            "display": null,
            "flex": null,
            "flex_flow": null,
            "grid_area": null,
            "grid_auto_columns": null,
            "grid_auto_flow": null,
            "grid_auto_rows": null,
            "grid_column": null,
            "grid_gap": null,
            "grid_row": null,
            "grid_template_areas": null,
            "grid_template_columns": null,
            "grid_template_rows": null,
            "height": null,
            "justify_content": null,
            "justify_items": null,
            "left": null,
            "margin": null,
            "max_height": null,
            "max_width": null,
            "min_height": null,
            "min_width": null,
            "object_fit": null,
            "object_position": null,
            "order": null,
            "overflow": null,
            "overflow_x": null,
            "overflow_y": null,
            "padding": null,
            "right": null,
            "top": null,
            "visibility": null,
            "width": null
          }
        },
        "57163b21521d4710bf30a4bb6c79348f": {
          "model_module": "@jupyter-widgets/base",
          "model_module_version": "1.2.0",
          "model_name": "LayoutModel",
          "state": {
            "_model_module": "@jupyter-widgets/base",
            "_model_module_version": "1.2.0",
            "_model_name": "LayoutModel",
            "_view_count": null,
            "_view_module": "@jupyter-widgets/base",
            "_view_module_version": "1.2.0",
            "_view_name": "LayoutView",
            "align_content": null,
            "align_items": null,
            "align_self": null,
            "border": null,
            "bottom": null,
            "display": null,
            "flex": null,
            "flex_flow": null,
            "grid_area": null,
            "grid_auto_columns": null,
            "grid_auto_flow": null,
            "grid_auto_rows": null,
            "grid_column": null,
            "grid_gap": null,
            "grid_row": null,
            "grid_template_areas": null,
            "grid_template_columns": null,
            "grid_template_rows": null,
            "height": null,
            "justify_content": null,
            "justify_items": null,
            "left": null,
            "margin": null,
            "max_height": null,
            "max_width": null,
            "min_height": null,
            "min_width": null,
            "object_fit": null,
            "object_position": null,
            "order": null,
            "overflow": null,
            "overflow_x": null,
            "overflow_y": null,
            "padding": null,
            "right": null,
            "top": null,
            "visibility": null,
            "width": null
          }
        },
        "58bfd4a272f6438086f2a0f0d0e9a846": {
          "model_module": "@jupyter-widgets/controls",
          "model_module_version": "1.5.0",
          "model_name": "DescriptionStyleModel",
          "state": {
            "_model_module": "@jupyter-widgets/controls",
            "_model_module_version": "1.5.0",
            "_model_name": "DescriptionStyleModel",
            "_view_count": null,
            "_view_module": "@jupyter-widgets/base",
            "_view_module_version": "1.2.0",
            "_view_name": "StyleView",
            "description_width": ""
          }
        },
        "5cd4796d9b4e45a79476a882082c7670": {
          "model_module": "@jupyter-widgets/base",
          "model_module_version": "1.2.0",
          "model_name": "LayoutModel",
          "state": {
            "_model_module": "@jupyter-widgets/base",
            "_model_module_version": "1.2.0",
            "_model_name": "LayoutModel",
            "_view_count": null,
            "_view_module": "@jupyter-widgets/base",
            "_view_module_version": "1.2.0",
            "_view_name": "LayoutView",
            "align_content": null,
            "align_items": null,
            "align_self": null,
            "border": null,
            "bottom": null,
            "display": null,
            "flex": null,
            "flex_flow": null,
            "grid_area": null,
            "grid_auto_columns": null,
            "grid_auto_flow": null,
            "grid_auto_rows": null,
            "grid_column": null,
            "grid_gap": null,
            "grid_row": null,
            "grid_template_areas": null,
            "grid_template_columns": null,
            "grid_template_rows": null,
            "height": null,
            "justify_content": null,
            "justify_items": null,
            "left": null,
            "margin": null,
            "max_height": null,
            "max_width": null,
            "min_height": null,
            "min_width": null,
            "object_fit": null,
            "object_position": null,
            "order": null,
            "overflow": null,
            "overflow_x": null,
            "overflow_y": null,
            "padding": null,
            "right": null,
            "top": null,
            "visibility": null,
            "width": null
          }
        },
        "5f568d1b0d8e4e568bcc89ae97ad0c84": {
          "model_module": "@jupyter-widgets/controls",
          "model_module_version": "1.5.0",
          "model_name": "FloatProgressModel",
          "state": {
            "_dom_classes": [],
            "_model_module": "@jupyter-widgets/controls",
            "_model_module_version": "1.5.0",
            "_model_name": "FloatProgressModel",
            "_view_count": null,
            "_view_module": "@jupyter-widgets/controls",
            "_view_module_version": "1.5.0",
            "_view_name": "ProgressView",
            "bar_style": "success",
            "description": "",
            "description_tooltip": null,
            "layout": "IPY_MODEL_bc7db339c0dc466893da7c66b53e14c5",
            "max": 19023,
            "min": 0,
            "orientation": "horizontal",
            "style": "IPY_MODEL_e5b15e6c453f4440ab8078f924fa1fed",
            "value": 19023
          }
        },
        "60aeee2d4180485baaba26074cf5c07a": {
          "model_module": "@jupyter-widgets/controls",
          "model_module_version": "1.5.0",
          "model_name": "HTMLModel",
          "state": {
            "_dom_classes": [],
            "_model_module": "@jupyter-widgets/controls",
            "_model_module_version": "1.5.0",
            "_model_name": "HTMLModel",
            "_view_count": null,
            "_view_module": "@jupyter-widgets/controls",
            "_view_module_version": "1.5.0",
            "_view_name": "HTMLView",
            "description": "",
            "description_tooltip": null,
            "layout": "IPY_MODEL_51d26b3086e544279008306f8b52b489",
            "placeholder": "​",
            "style": "IPY_MODEL_e85bbbf4c64a4905a136c079713b61c0",
            "value": "grocery_cashier.csv: 100%"
          }
        },
        "6349b94368f94a4c87c447464e42deb3": {
          "model_module": "@jupyter-widgets/controls",
          "model_module_version": "1.5.0",
          "model_name": "HBoxModel",
          "state": {
            "_dom_classes": [],
            "_model_module": "@jupyter-widgets/controls",
            "_model_module_version": "1.5.0",
            "_model_name": "HBoxModel",
            "_view_count": null,
            "_view_module": "@jupyter-widgets/controls",
            "_view_module_version": "1.5.0",
            "_view_name": "HBoxView",
            "box_style": "",
            "children": [
              "IPY_MODEL_60aeee2d4180485baaba26074cf5c07a",
              "IPY_MODEL_5f568d1b0d8e4e568bcc89ae97ad0c84",
              "IPY_MODEL_f739e957697e4f6e917028c509c52cfd"
            ],
            "layout": "IPY_MODEL_9fc7224ad5764fb8bd0ae0a4a9aaa508"
          }
        },
        "6da9b654114b4c179151c57bb717f18a": {
          "model_module": "@jupyter-widgets/base",
          "model_module_version": "1.2.0",
          "model_name": "LayoutModel",
          "state": {
            "_model_module": "@jupyter-widgets/base",
            "_model_module_version": "1.2.0",
            "_model_name": "LayoutModel",
            "_view_count": null,
            "_view_module": "@jupyter-widgets/base",
            "_view_module_version": "1.2.0",
            "_view_name": "LayoutView",
            "align_content": null,
            "align_items": null,
            "align_self": null,
            "border": null,
            "bottom": null,
            "display": null,
            "flex": null,
            "flex_flow": null,
            "grid_area": null,
            "grid_auto_columns": null,
            "grid_auto_flow": null,
            "grid_auto_rows": null,
            "grid_column": null,
            "grid_gap": null,
            "grid_row": null,
            "grid_template_areas": null,
            "grid_template_columns": null,
            "grid_template_rows": null,
            "height": null,
            "justify_content": null,
            "justify_items": null,
            "left": null,
            "margin": null,
            "max_height": null,
            "max_width": null,
            "min_height": null,
            "min_width": null,
            "object_fit": null,
            "object_position": null,
            "order": null,
            "overflow": null,
            "overflow_x": null,
            "overflow_y": null,
            "padding": null,
            "right": null,
            "top": null,
            "visibility": null,
            "width": null
          }
        },
        "84a97ff6c4794c3c86f20c604feb80e6": {
          "model_module": "@jupyter-widgets/controls",
          "model_module_version": "1.5.0",
          "model_name": "DescriptionStyleModel",
          "state": {
            "_model_module": "@jupyter-widgets/controls",
            "_model_module_version": "1.5.0",
            "_model_name": "DescriptionStyleModel",
            "_view_count": null,
            "_view_module": "@jupyter-widgets/base",
            "_view_module_version": "1.2.0",
            "_view_name": "StyleView",
            "description_width": ""
          }
        },
        "8a8318372a354321a92416b6ca919a0e": {
          "model_module": "@jupyter-widgets/base",
          "model_module_version": "1.2.0",
          "model_name": "LayoutModel",
          "state": {
            "_model_module": "@jupyter-widgets/base",
            "_model_module_version": "1.2.0",
            "_model_name": "LayoutModel",
            "_view_count": null,
            "_view_module": "@jupyter-widgets/base",
            "_view_module_version": "1.2.0",
            "_view_name": "LayoutView",
            "align_content": null,
            "align_items": null,
            "align_self": null,
            "border": null,
            "bottom": null,
            "display": null,
            "flex": null,
            "flex_flow": null,
            "grid_area": null,
            "grid_auto_columns": null,
            "grid_auto_flow": null,
            "grid_auto_rows": null,
            "grid_column": null,
            "grid_gap": null,
            "grid_row": null,
            "grid_template_areas": null,
            "grid_template_columns": null,
            "grid_template_rows": null,
            "height": null,
            "justify_content": null,
            "justify_items": null,
            "left": null,
            "margin": null,
            "max_height": null,
            "max_width": null,
            "min_height": null,
            "min_width": null,
            "object_fit": null,
            "object_position": null,
            "order": null,
            "overflow": null,
            "overflow_x": null,
            "overflow_y": null,
            "padding": null,
            "right": null,
            "top": null,
            "visibility": null,
            "width": null
          }
        },
        "93218b5a22c24030a26eaaa2d7f0800c": {
          "model_module": "@jupyter-widgets/base",
          "model_module_version": "1.2.0",
          "model_name": "LayoutModel",
          "state": {
            "_model_module": "@jupyter-widgets/base",
            "_model_module_version": "1.2.0",
            "_model_name": "LayoutModel",
            "_view_count": null,
            "_view_module": "@jupyter-widgets/base",
            "_view_module_version": "1.2.0",
            "_view_name": "LayoutView",
            "align_content": null,
            "align_items": null,
            "align_self": null,
            "border": null,
            "bottom": null,
            "display": null,
            "flex": null,
            "flex_flow": null,
            "grid_area": null,
            "grid_auto_columns": null,
            "grid_auto_flow": null,
            "grid_auto_rows": null,
            "grid_column": null,
            "grid_gap": null,
            "grid_row": null,
            "grid_template_areas": null,
            "grid_template_columns": null,
            "grid_template_rows": null,
            "height": null,
            "justify_content": null,
            "justify_items": null,
            "left": null,
            "margin": null,
            "max_height": null,
            "max_width": null,
            "min_height": null,
            "min_width": null,
            "object_fit": null,
            "object_position": null,
            "order": null,
            "overflow": null,
            "overflow_x": null,
            "overflow_y": null,
            "padding": null,
            "right": null,
            "top": null,
            "visibility": null,
            "width": null
          }
        },
        "9fc7224ad5764fb8bd0ae0a4a9aaa508": {
          "model_module": "@jupyter-widgets/base",
          "model_module_version": "1.2.0",
          "model_name": "LayoutModel",
          "state": {
            "_model_module": "@jupyter-widgets/base",
            "_model_module_version": "1.2.0",
            "_model_name": "LayoutModel",
            "_view_count": null,
            "_view_module": "@jupyter-widgets/base",
            "_view_module_version": "1.2.0",
            "_view_name": "LayoutView",
            "align_content": null,
            "align_items": null,
            "align_self": null,
            "border": null,
            "bottom": null,
            "display": null,
            "flex": null,
            "flex_flow": null,
            "grid_area": null,
            "grid_auto_columns": null,
            "grid_auto_flow": null,
            "grid_auto_rows": null,
            "grid_column": null,
            "grid_gap": null,
            "grid_row": null,
            "grid_template_areas": null,
            "grid_template_columns": null,
            "grid_template_rows": null,
            "height": null,
            "justify_content": null,
            "justify_items": null,
            "left": null,
            "margin": null,
            "max_height": null,
            "max_width": null,
            "min_height": null,
            "min_width": null,
            "object_fit": null,
            "object_position": null,
            "order": null,
            "overflow": null,
            "overflow_x": null,
            "overflow_y": null,
            "padding": null,
            "right": null,
            "top": null,
            "visibility": null,
            "width": null
          }
        },
        "abbc038d3e30416c93281e49527714d4": {
          "model_module": "@jupyter-widgets/base",
          "model_module_version": "1.2.0",
          "model_name": "LayoutModel",
          "state": {
            "_model_module": "@jupyter-widgets/base",
            "_model_module_version": "1.2.0",
            "_model_name": "LayoutModel",
            "_view_count": null,
            "_view_module": "@jupyter-widgets/base",
            "_view_module_version": "1.2.0",
            "_view_name": "LayoutView",
            "align_content": null,
            "align_items": null,
            "align_self": null,
            "border": null,
            "bottom": null,
            "display": null,
            "flex": null,
            "flex_flow": null,
            "grid_area": null,
            "grid_auto_columns": null,
            "grid_auto_flow": null,
            "grid_auto_rows": null,
            "grid_column": null,
            "grid_gap": null,
            "grid_row": null,
            "grid_template_areas": null,
            "grid_template_columns": null,
            "grid_template_rows": null,
            "height": null,
            "justify_content": null,
            "justify_items": null,
            "left": null,
            "margin": null,
            "max_height": null,
            "max_width": null,
            "min_height": null,
            "min_width": null,
            "object_fit": null,
            "object_position": null,
            "order": null,
            "overflow": null,
            "overflow_x": null,
            "overflow_y": null,
            "padding": null,
            "right": null,
            "top": null,
            "visibility": null,
            "width": null
          }
        },
        "af7c7efc23b440039ee789043e1e84cf": {
          "model_module": "@jupyter-widgets/controls",
          "model_module_version": "1.5.0",
          "model_name": "HBoxModel",
          "state": {
            "_dom_classes": [],
            "_model_module": "@jupyter-widgets/controls",
            "_model_module_version": "1.5.0",
            "_model_name": "HBoxModel",
            "_view_count": null,
            "_view_module": "@jupyter-widgets/controls",
            "_view_module_version": "1.5.0",
            "_view_name": "HBoxView",
            "box_style": "",
            "children": [
              "IPY_MODEL_2cda546c4636433caf48e9aefb52968c",
              "IPY_MODEL_4bf1ec96573f4f6fa505ee5310ac32e3",
              "IPY_MODEL_2b768acd52bc4af29ab82df3ca5eea58"
            ],
            "layout": "IPY_MODEL_8a8318372a354321a92416b6ca919a0e"
          }
        },
        "bc7db339c0dc466893da7c66b53e14c5": {
          "model_module": "@jupyter-widgets/base",
          "model_module_version": "1.2.0",
          "model_name": "LayoutModel",
          "state": {
            "_model_module": "@jupyter-widgets/base",
            "_model_module_version": "1.2.0",
            "_model_name": "LayoutModel",
            "_view_count": null,
            "_view_module": "@jupyter-widgets/base",
            "_view_module_version": "1.2.0",
            "_view_name": "LayoutView",
            "align_content": null,
            "align_items": null,
            "align_self": null,
            "border": null,
            "bottom": null,
            "display": null,
            "flex": null,
            "flex_flow": null,
            "grid_area": null,
            "grid_auto_columns": null,
            "grid_auto_flow": null,
            "grid_auto_rows": null,
            "grid_column": null,
            "grid_gap": null,
            "grid_row": null,
            "grid_template_areas": null,
            "grid_template_columns": null,
            "grid_template_rows": null,
            "height": null,
            "justify_content": null,
            "justify_items": null,
            "left": null,
            "margin": null,
            "max_height": null,
            "max_width": null,
            "min_height": null,
            "min_width": null,
            "object_fit": null,
            "object_position": null,
            "order": null,
            "overflow": null,
            "overflow_x": null,
            "overflow_y": null,
            "padding": null,
            "right": null,
            "top": null,
            "visibility": null,
            "width": null
          }
        },
        "d8485bf541f44c78b1cb920d4e4930db": {
          "model_module": "@jupyter-widgets/controls",
          "model_module_version": "1.5.0",
          "model_name": "HBoxModel",
          "state": {
            "_dom_classes": [],
            "_model_module": "@jupyter-widgets/controls",
            "_model_module_version": "1.5.0",
            "_model_name": "HBoxModel",
            "_view_count": null,
            "_view_module": "@jupyter-widgets/controls",
            "_view_module_version": "1.5.0",
            "_view_name": "HBoxView",
            "box_style": "",
            "children": [
              "IPY_MODEL_f71410a3700548f9811557f6ab507a8f",
              "IPY_MODEL_08d1e58458af4b32ad97047d56c7c963",
              "IPY_MODEL_fd037dba08284d41bcef53023b90a33f"
            ],
            "layout": "IPY_MODEL_6da9b654114b4c179151c57bb717f18a"
          }
        },
        "df353faeea7a484680c934677c8149e5": {
          "model_module": "@jupyter-widgets/controls",
          "model_module_version": "1.5.0",
          "model_name": "DescriptionStyleModel",
          "state": {
            "_model_module": "@jupyter-widgets/controls",
            "_model_module_version": "1.5.0",
            "_model_name": "DescriptionStyleModel",
            "_view_count": null,
            "_view_module": "@jupyter-widgets/base",
            "_view_module_version": "1.2.0",
            "_view_name": "StyleView",
            "description_width": ""
          }
        },
        "e24596813e2d4352b7cae7680880f245": {
          "model_module": "@jupyter-widgets/base",
          "model_module_version": "1.2.0",
          "model_name": "LayoutModel",
          "state": {
            "_model_module": "@jupyter-widgets/base",
            "_model_module_version": "1.2.0",
            "_model_name": "LayoutModel",
            "_view_count": null,
            "_view_module": "@jupyter-widgets/base",
            "_view_module_version": "1.2.0",
            "_view_name": "LayoutView",
            "align_content": null,
            "align_items": null,
            "align_self": null,
            "border": null,
            "bottom": null,
            "display": null,
            "flex": null,
            "flex_flow": null,
            "grid_area": null,
            "grid_auto_columns": null,
            "grid_auto_flow": null,
            "grid_auto_rows": null,
            "grid_column": null,
            "grid_gap": null,
            "grid_row": null,
            "grid_template_areas": null,
            "grid_template_columns": null,
            "grid_template_rows": null,
            "height": null,
            "justify_content": null,
            "justify_items": null,
            "left": null,
            "margin": null,
            "max_height": null,
            "max_width": null,
            "min_height": null,
            "min_width": null,
            "object_fit": null,
            "object_position": null,
            "order": null,
            "overflow": null,
            "overflow_x": null,
            "overflow_y": null,
            "padding": null,
            "right": null,
            "top": null,
            "visibility": null,
            "width": null
          }
        },
        "e5b15e6c453f4440ab8078f924fa1fed": {
          "model_module": "@jupyter-widgets/controls",
          "model_module_version": "1.5.0",
          "model_name": "ProgressStyleModel",
          "state": {
            "_model_module": "@jupyter-widgets/controls",
            "_model_module_version": "1.5.0",
            "_model_name": "ProgressStyleModel",
            "_view_count": null,
            "_view_module": "@jupyter-widgets/base",
            "_view_module_version": "1.2.0",
            "_view_name": "StyleView",
            "bar_color": null,
            "description_width": ""
          }
        },
        "e85bbbf4c64a4905a136c079713b61c0": {
          "model_module": "@jupyter-widgets/controls",
          "model_module_version": "1.5.0",
          "model_name": "DescriptionStyleModel",
          "state": {
            "_model_module": "@jupyter-widgets/controls",
            "_model_module_version": "1.5.0",
            "_model_name": "DescriptionStyleModel",
            "_view_count": null,
            "_view_module": "@jupyter-widgets/base",
            "_view_module_version": "1.2.0",
            "_view_name": "StyleView",
            "description_width": ""
          }
        },
        "efe8cd0386a3406eb911c38665d84a7f": {
          "model_module": "@jupyter-widgets/controls",
          "model_module_version": "1.5.0",
          "model_name": "ProgressStyleModel",
          "state": {
            "_model_module": "@jupyter-widgets/controls",
            "_model_module_version": "1.5.0",
            "_model_name": "ProgressStyleModel",
            "_view_count": null,
            "_view_module": "@jupyter-widgets/base",
            "_view_module_version": "1.2.0",
            "_view_name": "StyleView",
            "bar_color": null,
            "description_width": ""
          }
        },
        "f71410a3700548f9811557f6ab507a8f": {
          "model_module": "@jupyter-widgets/controls",
          "model_module_version": "1.5.0",
          "model_name": "HTMLModel",
          "state": {
            "_dom_classes": [],
            "_model_module": "@jupyter-widgets/controls",
            "_model_module_version": "1.5.0",
            "_model_name": "HTMLModel",
            "_view_count": null,
            "_view_module": "@jupyter-widgets/controls",
            "_view_module_version": "1.5.0",
            "_view_name": "HTMLView",
            "description": "",
            "description_tooltip": null,
            "layout": "IPY_MODEL_57163b21521d4710bf30a4bb6c79348f",
            "placeholder": "​",
            "style": "IPY_MODEL_df353faeea7a484680c934677c8149e5",
            "value": "Generating train split: 100%"
          }
        },
        "f739e957697e4f6e917028c509c52cfd": {
          "model_module": "@jupyter-widgets/controls",
          "model_module_version": "1.5.0",
          "model_name": "HTMLModel",
          "state": {
            "_dom_classes": [],
            "_model_module": "@jupyter-widgets/controls",
            "_model_module_version": "1.5.0",
            "_model_name": "HTMLModel",
            "_view_count": null,
            "_view_module": "@jupyter-widgets/controls",
            "_view_module_version": "1.5.0",
            "_view_name": "HTMLView",
            "description": "",
            "description_tooltip": null,
            "layout": "IPY_MODEL_e24596813e2d4352b7cae7680880f245",
            "placeholder": "​",
            "style": "IPY_MODEL_58bfd4a272f6438086f2a0f0d0e9a846",
            "value": " 19.0k/19.0k [00:00&lt;00:00, 1.66MB/s]"
          }
        },
        "fd037dba08284d41bcef53023b90a33f": {
          "model_module": "@jupyter-widgets/controls",
          "model_module_version": "1.5.0",
          "model_name": "HTMLModel",
          "state": {
            "_dom_classes": [],
            "_model_module": "@jupyter-widgets/controls",
            "_model_module_version": "1.5.0",
            "_model_name": "HTMLModel",
            "_view_count": null,
            "_view_module": "@jupyter-widgets/controls",
            "_view_module_version": "1.5.0",
            "_view_name": "HTMLView",
            "description": "",
            "description_tooltip": null,
            "layout": "IPY_MODEL_93218b5a22c24030a26eaaa2d7f0800c",
            "placeholder": "​",
            "style": "IPY_MODEL_3a85230b34294f65966978b853443fde",
            "value": " 100/100 [00:00&lt;00:00, 2814.82 examples/s]"
          }
        }
      }
    }
  },
  "nbformat": 4,
  "nbformat_minor": 0
}
