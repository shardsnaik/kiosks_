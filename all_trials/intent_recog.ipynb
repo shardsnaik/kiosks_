{
 "cells": [
  {
   "cell_type": "code",
   "execution_count": 10,
   "id": "91f1032c",
   "metadata": {},
   "outputs": [],
   "source": [
    "import spacy\n",
    "\n",
    "def extract_intent_with_spacy(text):\n",
    "    \"\"\"\n",
    "    Uses spaCy to extract intent based on verb-noun patterns and entities\n",
    "    \"\"\"\n",
    "    # Load the English model\n",
    "    nlp = spacy.load(\"en_core_web_sm\")\n",
    "    \n",
    "    # Process the text\n",
    "    doc = nlp(text)\n",
    "    \n",
    "    # Extract the root verb which often indicates the action\n",
    "    root_verb = None\n",
    "    for token in doc:\n",
    "        if token.dep_ == \"ROOT\" and token.pos_ == \"VERB\":\n",
    "            root_verb = token.lemma_\n",
    "    \n",
    "    # Extract entities that might be targets of the action\n",
    "    entities = [ent.text for ent in doc.ents]\n",
    "    \n",
    "    # Extract nouns that might be objects of the action\n",
    "    nouns = [token.text for token in doc if token.pos_ == \"NOUN\"]\n",
    "    \n",
    "    # Simple rule-based intent extraction\n",
    "    if root_verb == \"book\" and any(noun in [\"flight\", \"ticket\", \"hotel\", \"reservation\"] for noun in nouns):\n",
    "        return \"booking_intent\"\n",
    "    elif root_verb in [\"search\", \"find\", \"look\"] and any(noun in [\"flight\", \"hotel\", \"restaurant\"] for noun in nouns):\n",
    "        return \"search_intent\"\n",
    "    elif root_verb in [\"cancel\", \"delete\", \"remove\"]:\n",
    "        return \"cancellation_intent\"\n",
    "    elif root_verb in [\"help\", \"support\", \"assist\"]:\n",
    "        return \"help_intent\"\n",
    "    elif \"thank\" in text.lower() or \"thanks\" in text.lower():\n",
    "        return \"gratitude_intent\"\n",
    "    elif \"bye\" in text.lower() or \"goodbye\" in text.lower():\n",
    "        return \"goodbye_intent\"\n",
    "    else:\n",
    "        return \"unknown_intent\"\n",
    "\n",
    "        "
   ]
  },
  {
   "cell_type": "code",
   "execution_count": 12,
   "id": "6e1a9c85",
   "metadata": {},
   "outputs": [
    {
     "name": "stdout",
     "output_type": "stream",
     "text": [
      "unknown_intent\n"
     ]
    }
   ],
   "source": [
    "text = \"I want to search for hotels in Paris\"\n",
    "\n",
    "print(extract_intent_with_spacy(text))"
   ]
  },
  {
   "cell_type": "code",
   "execution_count": null,
   "id": "098c9ce1",
   "metadata": {},
   "outputs": [],
   "source": []
  }
 ],
 "metadata": {
  "kernelspec": {
   "display_name": "myenv",
   "language": "python",
   "name": "python3"
  },
  "language_info": {
   "codemirror_mode": {
    "name": "ipython",
    "version": 3
   },
   "file_extension": ".py",
   "mimetype": "text/x-python",
   "name": "python",
   "nbconvert_exporter": "python",
   "pygments_lexer": "ipython3",
   "version": "3.12.0"
  }
 },
 "nbformat": 4,
 "nbformat_minor": 5
}
