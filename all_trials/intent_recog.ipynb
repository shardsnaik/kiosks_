{
 "cells": [
  {
   "cell_type": "code",
   "execution_count": null,
   "id": "4ef2395b",
   "metadata": {},
   "outputs": [],
   "source": [
    "# formated Text\n",
    "text2 =[\n",
    " \"Hi, I'd like to place an order, please.\",\n",
    " \"Sure, here are several sentences where users are requesting food:\",\n",
    " \"Can I place an order for delivery, please?\",\n",
    " \"I'd like to order some food.\",\n",
    " \"Hello, can you help me place a food order?\",\n",
    " \"Hi, I'd like to get a pizza and a drink, please.\",\n",
    " \"Could you take my order for tonight’s dinner?\",\n",
    " \"I need to place an order for some snacks.\",\n",
    " \"Is it possible to order some food now?\",\n",
    " \"Hello, I’m looking to order a meal, could you assist?\",\n",
    " \"Can you take an order for a burger and fries?\",\n",
    "\"Hi, I’d like to order something for lunch.\"]\n"
   ]
  },
  {
   "cell_type": "code",
   "execution_count": 1,
   "id": "91f1032c",
   "metadata": {},
   "outputs": [],
   "source": [
    "import spacy\n",
    "\n",
    "def extract_intent_with_spacy(text):\n",
    "    \"\"\"\n",
    "    Uses spaCy to extract intent based on verb-noun patterns and entities\n",
    "    \"\"\"\n",
    "    # Load the English model\n",
    "    nlp = spacy.load(\"en_core_web_sm\")\n",
    "    \n",
    "    # Process the text\n",
    "    doc = nlp(text)\n",
    "    \n",
    "    # Extract the root verb which often indicates the action\n",
    "    root_verb = None\n",
    "    for token in doc:\n",
    "        if token.dep_ == \"ROOT\" and token.pos_ == \"VERB\":\n",
    "            root_verb = token.lemma_\n",
    "    \n",
    "    # Extract entities that might be targets of the action\n",
    "    entities = [ent.text for ent in doc.ents]\n",
    "    \n",
    "    # Extract nouns that might be objects of the action\n",
    "    nouns = [token.text for token in doc if token.pos_ == \"NOUN\"]\n",
    "    \n",
    "    # Simple rule-based intent extraction\n",
    "    if root_verb == \"book\" and any(noun in [\"flight\", \"ticket\", \"hotel\", \"reservation\"] for noun in nouns):\n",
    "        return \"booking_intent\"\n",
    "    elif root_verb in [\"search\", \"find\", \"look\"] and any(noun in [\"flight\", \"hotel\", \"restaurant\"] for noun in nouns):\n",
    "        return \"search_intent\"\n",
    "    elif root_verb in [\"cancel\", \"delete\", \"remove\"]:\n",
    "        return \"cancellation_intent\"\n",
    "    elif root_verb in [\"help\", \"support\", \"assist\"]:\n",
    "        return \"help_intent\"\n",
    "    elif \"thank\" in text.lower() or \"thanks\" in text.lower():\n",
    "        return \"gratitude_intent\"\n",
    "    elif \"bye\" in text.lower() or \"goodbye\" in text.lower():\n",
    "        return \"goodbye_intent\"\n",
    "    else:\n",
    "        return \"unknown_intent\"\n",
    "\n"
   ]
  },
  {
   "cell_type": "code",
   "execution_count": 1,
   "id": "6e1a9c85",
   "metadata": {},
   "outputs": [],
   "source": [
    "text = \"I book reservation hotels in Paris\"\n",
    "\n",
    "# print(extract_intent_with_spacy(text))"
   ]
  },
  {
   "cell_type": "code",
   "execution_count": 2,
   "id": "e7ce8e73",
   "metadata": {},
   "outputs": [
    {
     "data": {
      "text/plain": [
       "'c:\\\\kiosks_\\\\all_trials'"
      ]
     },
     "execution_count": 2,
     "metadata": {},
     "output_type": "execute_result"
    }
   ],
   "source": [
    "import os\n",
    "os.getcwd()\n",
    "\n"
   ]
  },
  {
   "cell_type": "markdown",
   "id": "bde3fd9b",
   "metadata": {},
   "source": [
    "# Intent Recognition using NLTK"
   ]
  },
  {
   "cell_type": "code",
   "execution_count": 9,
   "id": "098c9ce1",
   "metadata": {},
   "outputs": [],
   "source": [
    "import nltk\n",
    "from nltk.tokenize import word_tokenize\n",
    "from nltk.stem import WordNetLemmatizer\n",
    "# path =  os.makedirs(\"nltk_data\", exist_ok= True)\n",
    "# # Download necessary NLTK resources\n",
    "# nltk.download('punkt')\n",
    "# nltk.download('wordnet')\n",
    "\n",
    "\n",
    "def extract_intent_with_nltk(text):\n",
    "    \"\"\"\n",
    "    Uses NLTK for keyword-based intent recognition\n",
    "    \"\"\"\n",
    "    # Initialize lemmatizer\n",
    "\n",
    "    nltk.data.path.append('nltk_data')\n",
    "    lemmatizer = WordNetLemmatizer()\n",
    "    \n",
    "    # Convert to lowercase and tokenize\n",
    "    tokens = word_tokenize(text.lower())\n",
    "    \n",
    "    # Lemmatize tokens\n",
    "    lemmatized_tokens = [lemmatizer.lemmatize(token) for token in tokens]\n",
    "    \n",
    "    # Define intent keywords\n",
    "    intent_keywords = {\n",
    "        \"booking_intent\": [\"book\", \"reserve\", \"schedule\", \"appointment\", \"reservation\"],\n",
    "        \"odering_intent\": [\"order\", \"want\", \"place for\",\"get\", \"get me\", \"add\"],\n",
    "        \"weather_intent\": [\"weather\", \"temperature\", \"forecast\", \"rain\", \"sunny\", \"cloudy\"],\n",
    "        \"navigation_intent\": [\"navigate\", \"direction\", \"map\", \"route\", \"go to\", \"take me to\"],\n",
    "        \"farewell_intent\": [\"goodbye\", \"bye\", \"see you\", \"farewell\", \"later\"],\n",
    "        \"gratitude_intent\": [\"thank\", \"thanks\", \"appreciate\", \"grateful\"]\n",
    "    }\n",
    "    \n",
    "    # Count matches for each intent\n",
    "    intent_matches = {}\n",
    "    for intent, keywords in intent_keywords.items():\n",
    "        matches = sum(1 for token in lemmatized_tokens if token in keywords)\n",
    "        intent_matches[intent] = matches\n",
    "    \n",
    "    # Return the intent with the most keyword matches\n",
    "    if max(intent_matches.values(), default=0) > 0:\n",
    "        return max(intent_matches.items(), key=lambda x: x[1])[0]\n",
    "    else:\n",
    "        return \"unknown_intent\"\n"
   ]
  },
  {
   "cell_type": "code",
   "execution_count": 10,
   "id": "dd2dc028",
   "metadata": {},
   "outputs": [
    {
     "name": "stdout",
     "output_type": "stream",
     "text": [
      "1.hey add two coffees for me => odering_intent\n",
      "2.hey just get me couple of cofee => odering_intent\n",
      "3.hey can you order me biryani => odering_intent\n",
      "4.from moring i want to eat biryani => odering_intent\n",
      "5.hey just place order for me => odering_intent\n"
     ]
    }
   ],
   "source": [
    "# \"odering_intent\": [\"order\", \"want\", \"place for\", \"get me\", \"add\"],\n",
    "# \n",
    "text =[\n",
    "    'hey add two coffees for me',\n",
    "    'hey just get me couple of cofee',\n",
    "    'hey can you order me biryani',\n",
    "    'from moring i want to eat biryani',\n",
    "    'hey just place order for me'\n",
    "]\n",
    "\n",
    "for num,i in enumerate(text):\n",
    "    print(f'{num+1}.{i} => {extract_intent_with_nltk(i)}')"
   ]
  },
  {
   "cell_type": "code",
   "execution_count": 6,
   "id": "b4a1c605",
   "metadata": {},
   "outputs": [
    {
     "name": "stdout",
     "output_type": "stream",
     "text": [
      "Intent: booking_intent\n",
      "keywords: ['book', 'reserve', 'schedule', 'appointment', 'reservation']\n",
      "Intent: odering_intent\n",
      "keywords: ['order', 'want', 'place for', 'get', 'get me', 'add']\n",
      "Intent: weather_intent\n",
      "keywords: ['weather', 'temperature', 'forecast', 'rain', 'sunny', 'cloudy']\n",
      "Intent: navigation_intent\n",
      "keywords: ['navigate', 'direction', 'map', 'route', 'go to', 'take me to']\n",
      "Intent: farewell_intent\n",
      "keywords: ['goodbye', 'bye', 'see you', 'farewell', 'later']\n",
      "Intent: gratitude_intent\n",
      "keywords: ['thank', 'thanks', 'appreciate', 'grateful']\n"
     ]
    }
   ],
   "source": [
    "intent_keywords = {\n",
    "        \"booking_intent\": [\"book\", \"reserve\", \"schedule\", \"appointment\", \"reservation\"],\n",
    "        \"odering_intent\": [\"order\", \"want\", \"place for\",\"get\", \"get me\", \"add\"],\n",
    "        \"weather_intent\": [\"weather\", \"temperature\", \"forecast\", \"rain\", \"sunny\", \"cloudy\"],\n",
    "        \"navigation_intent\": [\"navigate\", \"direction\", \"map\", \"route\", \"go to\", \"take me to\"],\n",
    "        \"farewell_intent\": [\"goodbye\", \"bye\", \"see you\", \"farewell\", \"later\"],\n",
    "        \"gratitude_intent\": [\"thank\", \"thanks\", \"appreciate\", \"grateful\"]\n",
    "    }\n",
    "\n",
    "for intent, keywords in intent_keywords.items():\n",
    "    print(f'Intent: {intent}')\n",
    "    print(f'keywords: {keywords}')\n",
    "\n"
   ]
  },
  {
   "cell_type": "markdown",
   "id": "d8b9ffeb",
   "metadata": {},
   "source": [
    "# Using bart-large-mnli zero shot classifiation"
   ]
  },
  {
   "cell_type": "code",
   "execution_count": 29,
   "id": "39b2a4a6",
   "metadata": {},
   "outputs": [],
   "source": [
    "from transformers import pipeline\n",
    "\n",
    "def extract_intent_with_transformers(text):\n",
    "    \"\"\"\n",
    "    Uses Hugging Face transformers for zero-shot classification of intents\n",
    "    \"\"\"\n",
    "    # Initialize zero-shot classification pipeline\n",
    "    classifier = pipeline(\"zero-shot-classification\",\n",
    "                      model=\"facebook/bart-large-mnli\")\n",
    "\n",
    "    \n",
    "    # Define possible intents\n",
    "    candidate_intents = [\n",
    "        \"booking\", \"reservation\", \"search\", \"finding information\"\n",
    "    ]\n",
    "    \n",
    "    # Classify the text\n",
    "    result = classifier(text, candidate_intents)\n",
    "    \n",
    "    # Return the highest scoring intent\n",
    "    top_intent = result['labels'][0]\n",
    "    \n",
    "    # Map the result to our intent format\n",
    "    intent_mapping = {\n",
    "        \"booking\": \"booking_intent\",\n",
    "        \"reservation\": \"booking_intent\",\n",
    "        \"search\": \"search_intent\",\n",
    "        \"finding information\": \"search_intent\",\n",
    "        \n",
    "    }\n",
    "    \n",
    "    return intent_mapping.get(top_intent, \"unknown_intent\")\n"
   ]
  },
  {
   "cell_type": "code",
   "execution_count": 39,
   "id": "8a9a5371",
   "metadata": {},
   "outputs": [
    {
     "name": "stderr",
     "output_type": "stream",
     "text": [
      "Device set to use cpu\n",
      "Device set to use cpu\n",
      "Device set to use cpu\n",
      "Device set to use cpu\n",
      "Device set to use cpu\n",
      "Device set to use cpu\n",
      "Device set to use cpu\n",
      "Device set to use cpu\n",
      "Device set to use cpu\n",
      "Device set to use cpu\n",
      "Device set to use cpu\n",
      "Device set to use cpu\n"
     ]
    },
    {
     "name": "stdout",
     "output_type": "stream",
     "text": [
      "[\"1.Hi, I'd like to place an order, please. => booking_intent\", '2.Sure, here are several sentences where users are requesting food: => booking_intent', '3.Can I place an order for delivery, please? => booking_intent', \"4.I'd like to order some food. => booking_intent\", '5.Hello, can you help me place a food order? => booking_intent', \"6.Hi, I'd like to get a pizza and a drink, please. => booking_intent\", '7.Could you take my order for tonight’s dinner? => booking_intent', '8.I need to place an order for some snacks. => booking_intent', '9.Is it possible to order some food now? => search_intent', '10.Hello, I’m looking to order a meal, could you assist? => booking_intent', '11.Can you take an order for a burger and fries? => booking_intent', '12.Hi, I’d like to order something for lunch. => booking_intent']\n"
     ]
    }
   ],
   "source": [
    "ans = []\n",
    "for num, i in enumerate(text2):\n",
    "    try:\n",
    "        a = extract_intent_with_transformers(i)\n",
    "        ans.append(f'{num+1}.{i} => {a}')\n",
    "    except Exception as e:\n",
    "        print(f\"Error processing: {i}, Error: {e}\")\n",
    "\n",
    "print(ans)"
   ]
  },
  {
   "cell_type": "code",
   "execution_count": 33,
   "id": "0c500abf",
   "metadata": {},
   "outputs": [
    {
     "data": {
      "text/plain": [
       "['5.hey just place order for me => booking_intent']"
      ]
     },
     "execution_count": 33,
     "metadata": {},
     "output_type": "execute_result"
    }
   ],
   "source": [
    "ans"
   ]
  },
  {
   "cell_type": "code",
   "execution_count": null,
   "id": "3a12806c",
   "metadata": {},
   "outputs": [],
   "source": []
  }
 ],
 "metadata": {
  "kernelspec": {
   "display_name": "myenv",
   "language": "python",
   "name": "python3"
  },
  "language_info": {
   "codemirror_mode": {
    "name": "ipython",
    "version": 3
   },
   "file_extension": ".py",
   "mimetype": "text/x-python",
   "name": "python",
   "nbconvert_exporter": "python",
   "pygments_lexer": "ipython3",
   "version": "3.12.0"
  }
 },
 "nbformat": 4,
 "nbformat_minor": 5
}
